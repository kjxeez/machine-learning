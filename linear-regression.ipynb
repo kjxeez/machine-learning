{
  "nbformat": 4,
  "nbformat_minor": 0,
  "metadata": {
    "colab": {
      "provenance": [],
      "authorship_tag": "ABX9TyOWNvhoLQrbNgh4SzlEdEeQ",
      "include_colab_link": true
    },
    "kernelspec": {
      "name": "python3",
      "display_name": "Python 3"
    },
    "language_info": {
      "name": "python"
    },
    "widgets": {
      "application/vnd.jupyter.widget-state+json": {
        "dabb310acf824a099448474e1cffa9d0": {
          "model_module": "@jupyter-widgets/controls",
          "model_name": "HBoxModel",
          "model_module_version": "1.5.0",
          "state": {
            "_dom_classes": [],
            "_model_module": "@jupyter-widgets/controls",
            "_model_module_version": "1.5.0",
            "_model_name": "HBoxModel",
            "_view_count": null,
            "_view_module": "@jupyter-widgets/controls",
            "_view_module_version": "1.5.0",
            "_view_name": "HBoxView",
            "box_style": "",
            "children": [
              "IPY_MODEL_da3777f445b440fab869b3f770e84282",
              "IPY_MODEL_fbe00a5c788b4e15b6dde49324442bb7",
              "IPY_MODEL_c11c803d507d47b387eee14714fb6d69"
            ],
            "layout": "IPY_MODEL_d483e327a0e849c8aec9fa8a8abaf631"
          }
        },
        "da3777f445b440fab869b3f770e84282": {
          "model_module": "@jupyter-widgets/controls",
          "model_name": "HTMLModel",
          "model_module_version": "1.5.0",
          "state": {
            "_dom_classes": [],
            "_model_module": "@jupyter-widgets/controls",
            "_model_module_version": "1.5.0",
            "_model_name": "HTMLModel",
            "_view_count": null,
            "_view_module": "@jupyter-widgets/controls",
            "_view_module_version": "1.5.0",
            "_view_name": "HTMLView",
            "description": "",
            "description_tooltip": null,
            "layout": "IPY_MODEL_d15c83f765054b9392c6aecbd99bfc36",
            "placeholder": "​",
            "style": "IPY_MODEL_dee90ef83dc54ee1a190906fad14abb0",
            "value": "Dl Completed...: 100%"
          }
        },
        "fbe00a5c788b4e15b6dde49324442bb7": {
          "model_module": "@jupyter-widgets/controls",
          "model_name": "FloatProgressModel",
          "model_module_version": "1.5.0",
          "state": {
            "_dom_classes": [],
            "_model_module": "@jupyter-widgets/controls",
            "_model_module_version": "1.5.0",
            "_model_name": "FloatProgressModel",
            "_view_count": null,
            "_view_module": "@jupyter-widgets/controls",
            "_view_module_version": "1.5.0",
            "_view_name": "ProgressView",
            "bar_style": "success",
            "description": "",
            "description_tooltip": null,
            "layout": "IPY_MODEL_8dafbad4d222438e98b8b797e2171457",
            "max": 1,
            "min": 0,
            "orientation": "horizontal",
            "style": "IPY_MODEL_c7a2e2f3842b40eda74cd1eeeed0c79c",
            "value": 1
          }
        },
        "c11c803d507d47b387eee14714fb6d69": {
          "model_module": "@jupyter-widgets/controls",
          "model_name": "HTMLModel",
          "model_module_version": "1.5.0",
          "state": {
            "_dom_classes": [],
            "_model_module": "@jupyter-widgets/controls",
            "_model_module_version": "1.5.0",
            "_model_name": "HTMLModel",
            "_view_count": null,
            "_view_module": "@jupyter-widgets/controls",
            "_view_module_version": "1.5.0",
            "_view_name": "HTMLView",
            "description": "",
            "description_tooltip": null,
            "layout": "IPY_MODEL_ec13765fd82c450caacf590ae3a0d498",
            "placeholder": "​",
            "style": "IPY_MODEL_b6dae841822e48bdbcfbd08dc70051d8",
            "value": " 1/1 [00:00&lt;00:00,  1.45 url/s]"
          }
        },
        "d483e327a0e849c8aec9fa8a8abaf631": {
          "model_module": "@jupyter-widgets/base",
          "model_name": "LayoutModel",
          "model_module_version": "1.2.0",
          "state": {
            "_model_module": "@jupyter-widgets/base",
            "_model_module_version": "1.2.0",
            "_model_name": "LayoutModel",
            "_view_count": null,
            "_view_module": "@jupyter-widgets/base",
            "_view_module_version": "1.2.0",
            "_view_name": "LayoutView",
            "align_content": null,
            "align_items": null,
            "align_self": null,
            "border": null,
            "bottom": null,
            "display": null,
            "flex": null,
            "flex_flow": null,
            "grid_area": null,
            "grid_auto_columns": null,
            "grid_auto_flow": null,
            "grid_auto_rows": null,
            "grid_column": null,
            "grid_gap": null,
            "grid_row": null,
            "grid_template_areas": null,
            "grid_template_columns": null,
            "grid_template_rows": null,
            "height": null,
            "justify_content": null,
            "justify_items": null,
            "left": null,
            "margin": null,
            "max_height": null,
            "max_width": null,
            "min_height": null,
            "min_width": null,
            "object_fit": null,
            "object_position": null,
            "order": null,
            "overflow": null,
            "overflow_x": null,
            "overflow_y": null,
            "padding": null,
            "right": null,
            "top": null,
            "visibility": null,
            "width": null
          }
        },
        "d15c83f765054b9392c6aecbd99bfc36": {
          "model_module": "@jupyter-widgets/base",
          "model_name": "LayoutModel",
          "model_module_version": "1.2.0",
          "state": {
            "_model_module": "@jupyter-widgets/base",
            "_model_module_version": "1.2.0",
            "_model_name": "LayoutModel",
            "_view_count": null,
            "_view_module": "@jupyter-widgets/base",
            "_view_module_version": "1.2.0",
            "_view_name": "LayoutView",
            "align_content": null,
            "align_items": null,
            "align_self": null,
            "border": null,
            "bottom": null,
            "display": null,
            "flex": null,
            "flex_flow": null,
            "grid_area": null,
            "grid_auto_columns": null,
            "grid_auto_flow": null,
            "grid_auto_rows": null,
            "grid_column": null,
            "grid_gap": null,
            "grid_row": null,
            "grid_template_areas": null,
            "grid_template_columns": null,
            "grid_template_rows": null,
            "height": null,
            "justify_content": null,
            "justify_items": null,
            "left": null,
            "margin": null,
            "max_height": null,
            "max_width": null,
            "min_height": null,
            "min_width": null,
            "object_fit": null,
            "object_position": null,
            "order": null,
            "overflow": null,
            "overflow_x": null,
            "overflow_y": null,
            "padding": null,
            "right": null,
            "top": null,
            "visibility": null,
            "width": null
          }
        },
        "dee90ef83dc54ee1a190906fad14abb0": {
          "model_module": "@jupyter-widgets/controls",
          "model_name": "DescriptionStyleModel",
          "model_module_version": "1.5.0",
          "state": {
            "_model_module": "@jupyter-widgets/controls",
            "_model_module_version": "1.5.0",
            "_model_name": "DescriptionStyleModel",
            "_view_count": null,
            "_view_module": "@jupyter-widgets/base",
            "_view_module_version": "1.2.0",
            "_view_name": "StyleView",
            "description_width": ""
          }
        },
        "8dafbad4d222438e98b8b797e2171457": {
          "model_module": "@jupyter-widgets/base",
          "model_name": "LayoutModel",
          "model_module_version": "1.2.0",
          "state": {
            "_model_module": "@jupyter-widgets/base",
            "_model_module_version": "1.2.0",
            "_model_name": "LayoutModel",
            "_view_count": null,
            "_view_module": "@jupyter-widgets/base",
            "_view_module_version": "1.2.0",
            "_view_name": "LayoutView",
            "align_content": null,
            "align_items": null,
            "align_self": null,
            "border": null,
            "bottom": null,
            "display": null,
            "flex": null,
            "flex_flow": null,
            "grid_area": null,
            "grid_auto_columns": null,
            "grid_auto_flow": null,
            "grid_auto_rows": null,
            "grid_column": null,
            "grid_gap": null,
            "grid_row": null,
            "grid_template_areas": null,
            "grid_template_columns": null,
            "grid_template_rows": null,
            "height": null,
            "justify_content": null,
            "justify_items": null,
            "left": null,
            "margin": null,
            "max_height": null,
            "max_width": null,
            "min_height": null,
            "min_width": null,
            "object_fit": null,
            "object_position": null,
            "order": null,
            "overflow": null,
            "overflow_x": null,
            "overflow_y": null,
            "padding": null,
            "right": null,
            "top": null,
            "visibility": null,
            "width": "20px"
          }
        },
        "c7a2e2f3842b40eda74cd1eeeed0c79c": {
          "model_module": "@jupyter-widgets/controls",
          "model_name": "ProgressStyleModel",
          "model_module_version": "1.5.0",
          "state": {
            "_model_module": "@jupyter-widgets/controls",
            "_model_module_version": "1.5.0",
            "_model_name": "ProgressStyleModel",
            "_view_count": null,
            "_view_module": "@jupyter-widgets/base",
            "_view_module_version": "1.2.0",
            "_view_name": "StyleView",
            "bar_color": null,
            "description_width": ""
          }
        },
        "ec13765fd82c450caacf590ae3a0d498": {
          "model_module": "@jupyter-widgets/base",
          "model_name": "LayoutModel",
          "model_module_version": "1.2.0",
          "state": {
            "_model_module": "@jupyter-widgets/base",
            "_model_module_version": "1.2.0",
            "_model_name": "LayoutModel",
            "_view_count": null,
            "_view_module": "@jupyter-widgets/base",
            "_view_module_version": "1.2.0",
            "_view_name": "LayoutView",
            "align_content": null,
            "align_items": null,
            "align_self": null,
            "border": null,
            "bottom": null,
            "display": null,
            "flex": null,
            "flex_flow": null,
            "grid_area": null,
            "grid_auto_columns": null,
            "grid_auto_flow": null,
            "grid_auto_rows": null,
            "grid_column": null,
            "grid_gap": null,
            "grid_row": null,
            "grid_template_areas": null,
            "grid_template_columns": null,
            "grid_template_rows": null,
            "height": null,
            "justify_content": null,
            "justify_items": null,
            "left": null,
            "margin": null,
            "max_height": null,
            "max_width": null,
            "min_height": null,
            "min_width": null,
            "object_fit": null,
            "object_position": null,
            "order": null,
            "overflow": null,
            "overflow_x": null,
            "overflow_y": null,
            "padding": null,
            "right": null,
            "top": null,
            "visibility": null,
            "width": null
          }
        },
        "b6dae841822e48bdbcfbd08dc70051d8": {
          "model_module": "@jupyter-widgets/controls",
          "model_name": "DescriptionStyleModel",
          "model_module_version": "1.5.0",
          "state": {
            "_model_module": "@jupyter-widgets/controls",
            "_model_module_version": "1.5.0",
            "_model_name": "DescriptionStyleModel",
            "_view_count": null,
            "_view_module": "@jupyter-widgets/base",
            "_view_module_version": "1.2.0",
            "_view_name": "StyleView",
            "description_width": ""
          }
        },
        "c2798d912f7946e6b993e37e3db0ac03": {
          "model_module": "@jupyter-widgets/controls",
          "model_name": "HBoxModel",
          "model_module_version": "1.5.0",
          "state": {
            "_dom_classes": [],
            "_model_module": "@jupyter-widgets/controls",
            "_model_module_version": "1.5.0",
            "_model_name": "HBoxModel",
            "_view_count": null,
            "_view_module": "@jupyter-widgets/controls",
            "_view_module_version": "1.5.0",
            "_view_name": "HBoxView",
            "box_style": "",
            "children": [
              "IPY_MODEL_8e13ffba43d247dfb19462502857f59f",
              "IPY_MODEL_aa1ef8c426af450d80e5e638639bf0fa",
              "IPY_MODEL_553b0ea4e3f14a1e9be21cd69840be7a"
            ],
            "layout": "IPY_MODEL_352e41a5e2ec4dbda197640ce3557f2c"
          }
        },
        "8e13ffba43d247dfb19462502857f59f": {
          "model_module": "@jupyter-widgets/controls",
          "model_name": "HTMLModel",
          "model_module_version": "1.5.0",
          "state": {
            "_dom_classes": [],
            "_model_module": "@jupyter-widgets/controls",
            "_model_module_version": "1.5.0",
            "_model_name": "HTMLModel",
            "_view_count": null,
            "_view_module": "@jupyter-widgets/controls",
            "_view_module_version": "1.5.0",
            "_view_name": "HTMLView",
            "description": "",
            "description_tooltip": null,
            "layout": "IPY_MODEL_3ebc23f6393349ea9a4bde52637ac404",
            "placeholder": "​",
            "style": "IPY_MODEL_8e527edc86da4aa8921713f3a1e51f4b",
            "value": "Dl Size...: "
          }
        },
        "aa1ef8c426af450d80e5e638639bf0fa": {
          "model_module": "@jupyter-widgets/controls",
          "model_name": "FloatProgressModel",
          "model_module_version": "1.5.0",
          "state": {
            "_dom_classes": [],
            "_model_module": "@jupyter-widgets/controls",
            "_model_module_version": "1.5.0",
            "_model_name": "FloatProgressModel",
            "_view_count": null,
            "_view_module": "@jupyter-widgets/controls",
            "_view_module_version": "1.5.0",
            "_view_name": "ProgressView",
            "bar_style": "success",
            "description": "",
            "description_tooltip": null,
            "layout": "IPY_MODEL_26273ccd32234735b673c728c1a79486",
            "max": 1,
            "min": 0,
            "orientation": "horizontal",
            "style": "IPY_MODEL_8fd9db55af69475ab3fb80cf8473ee1e",
            "value": 0
          }
        },
        "553b0ea4e3f14a1e9be21cd69840be7a": {
          "model_module": "@jupyter-widgets/controls",
          "model_name": "HTMLModel",
          "model_module_version": "1.5.0",
          "state": {
            "_dom_classes": [],
            "_model_module": "@jupyter-widgets/controls",
            "_model_module_version": "1.5.0",
            "_model_name": "HTMLModel",
            "_view_count": null,
            "_view_module": "@jupyter-widgets/controls",
            "_view_module_version": "1.5.0",
            "_view_name": "HTMLView",
            "description": "",
            "description_tooltip": null,
            "layout": "IPY_MODEL_dff7f43e9cb84216b45d8917e3c86671",
            "placeholder": "​",
            "style": "IPY_MODEL_89875999986244e3aae6ebc28f4d4c3f",
            "value": " 0/0 [00:00&lt;?, ? MiB/s]"
          }
        },
        "352e41a5e2ec4dbda197640ce3557f2c": {
          "model_module": "@jupyter-widgets/base",
          "model_name": "LayoutModel",
          "model_module_version": "1.2.0",
          "state": {
            "_model_module": "@jupyter-widgets/base",
            "_model_module_version": "1.2.0",
            "_model_name": "LayoutModel",
            "_view_count": null,
            "_view_module": "@jupyter-widgets/base",
            "_view_module_version": "1.2.0",
            "_view_name": "LayoutView",
            "align_content": null,
            "align_items": null,
            "align_self": null,
            "border": null,
            "bottom": null,
            "display": null,
            "flex": null,
            "flex_flow": null,
            "grid_area": null,
            "grid_auto_columns": null,
            "grid_auto_flow": null,
            "grid_auto_rows": null,
            "grid_column": null,
            "grid_gap": null,
            "grid_row": null,
            "grid_template_areas": null,
            "grid_template_columns": null,
            "grid_template_rows": null,
            "height": null,
            "justify_content": null,
            "justify_items": null,
            "left": null,
            "margin": null,
            "max_height": null,
            "max_width": null,
            "min_height": null,
            "min_width": null,
            "object_fit": null,
            "object_position": null,
            "order": null,
            "overflow": null,
            "overflow_x": null,
            "overflow_y": null,
            "padding": null,
            "right": null,
            "top": null,
            "visibility": null,
            "width": null
          }
        },
        "3ebc23f6393349ea9a4bde52637ac404": {
          "model_module": "@jupyter-widgets/base",
          "model_name": "LayoutModel",
          "model_module_version": "1.2.0",
          "state": {
            "_model_module": "@jupyter-widgets/base",
            "_model_module_version": "1.2.0",
            "_model_name": "LayoutModel",
            "_view_count": null,
            "_view_module": "@jupyter-widgets/base",
            "_view_module_version": "1.2.0",
            "_view_name": "LayoutView",
            "align_content": null,
            "align_items": null,
            "align_self": null,
            "border": null,
            "bottom": null,
            "display": null,
            "flex": null,
            "flex_flow": null,
            "grid_area": null,
            "grid_auto_columns": null,
            "grid_auto_flow": null,
            "grid_auto_rows": null,
            "grid_column": null,
            "grid_gap": null,
            "grid_row": null,
            "grid_template_areas": null,
            "grid_template_columns": null,
            "grid_template_rows": null,
            "height": null,
            "justify_content": null,
            "justify_items": null,
            "left": null,
            "margin": null,
            "max_height": null,
            "max_width": null,
            "min_height": null,
            "min_width": null,
            "object_fit": null,
            "object_position": null,
            "order": null,
            "overflow": null,
            "overflow_x": null,
            "overflow_y": null,
            "padding": null,
            "right": null,
            "top": null,
            "visibility": null,
            "width": null
          }
        },
        "8e527edc86da4aa8921713f3a1e51f4b": {
          "model_module": "@jupyter-widgets/controls",
          "model_name": "DescriptionStyleModel",
          "model_module_version": "1.5.0",
          "state": {
            "_model_module": "@jupyter-widgets/controls",
            "_model_module_version": "1.5.0",
            "_model_name": "DescriptionStyleModel",
            "_view_count": null,
            "_view_module": "@jupyter-widgets/base",
            "_view_module_version": "1.2.0",
            "_view_name": "StyleView",
            "description_width": ""
          }
        },
        "26273ccd32234735b673c728c1a79486": {
          "model_module": "@jupyter-widgets/base",
          "model_name": "LayoutModel",
          "model_module_version": "1.2.0",
          "state": {
            "_model_module": "@jupyter-widgets/base",
            "_model_module_version": "1.2.0",
            "_model_name": "LayoutModel",
            "_view_count": null,
            "_view_module": "@jupyter-widgets/base",
            "_view_module_version": "1.2.0",
            "_view_name": "LayoutView",
            "align_content": null,
            "align_items": null,
            "align_self": null,
            "border": null,
            "bottom": null,
            "display": null,
            "flex": null,
            "flex_flow": null,
            "grid_area": null,
            "grid_auto_columns": null,
            "grid_auto_flow": null,
            "grid_auto_rows": null,
            "grid_column": null,
            "grid_gap": null,
            "grid_row": null,
            "grid_template_areas": null,
            "grid_template_columns": null,
            "grid_template_rows": null,
            "height": null,
            "justify_content": null,
            "justify_items": null,
            "left": null,
            "margin": null,
            "max_height": null,
            "max_width": null,
            "min_height": null,
            "min_width": null,
            "object_fit": null,
            "object_position": null,
            "order": null,
            "overflow": null,
            "overflow_x": null,
            "overflow_y": null,
            "padding": null,
            "right": null,
            "top": null,
            "visibility": null,
            "width": "20px"
          }
        },
        "8fd9db55af69475ab3fb80cf8473ee1e": {
          "model_module": "@jupyter-widgets/controls",
          "model_name": "ProgressStyleModel",
          "model_module_version": "1.5.0",
          "state": {
            "_model_module": "@jupyter-widgets/controls",
            "_model_module_version": "1.5.0",
            "_model_name": "ProgressStyleModel",
            "_view_count": null,
            "_view_module": "@jupyter-widgets/base",
            "_view_module_version": "1.2.0",
            "_view_name": "StyleView",
            "bar_color": null,
            "description_width": ""
          }
        },
        "dff7f43e9cb84216b45d8917e3c86671": {
          "model_module": "@jupyter-widgets/base",
          "model_name": "LayoutModel",
          "model_module_version": "1.2.0",
          "state": {
            "_model_module": "@jupyter-widgets/base",
            "_model_module_version": "1.2.0",
            "_model_name": "LayoutModel",
            "_view_count": null,
            "_view_module": "@jupyter-widgets/base",
            "_view_module_version": "1.2.0",
            "_view_name": "LayoutView",
            "align_content": null,
            "align_items": null,
            "align_self": null,
            "border": null,
            "bottom": null,
            "display": null,
            "flex": null,
            "flex_flow": null,
            "grid_area": null,
            "grid_auto_columns": null,
            "grid_auto_flow": null,
            "grid_auto_rows": null,
            "grid_column": null,
            "grid_gap": null,
            "grid_row": null,
            "grid_template_areas": null,
            "grid_template_columns": null,
            "grid_template_rows": null,
            "height": null,
            "justify_content": null,
            "justify_items": null,
            "left": null,
            "margin": null,
            "max_height": null,
            "max_width": null,
            "min_height": null,
            "min_width": null,
            "object_fit": null,
            "object_position": null,
            "order": null,
            "overflow": null,
            "overflow_x": null,
            "overflow_y": null,
            "padding": null,
            "right": null,
            "top": null,
            "visibility": null,
            "width": null
          }
        },
        "89875999986244e3aae6ebc28f4d4c3f": {
          "model_module": "@jupyter-widgets/controls",
          "model_name": "DescriptionStyleModel",
          "model_module_version": "1.5.0",
          "state": {
            "_model_module": "@jupyter-widgets/controls",
            "_model_module_version": "1.5.0",
            "_model_name": "DescriptionStyleModel",
            "_view_count": null,
            "_view_module": "@jupyter-widgets/base",
            "_view_module_version": "1.2.0",
            "_view_name": "StyleView",
            "description_width": ""
          }
        },
        "ca11a4b31e424ec7a1697da15c19668a": {
          "model_module": "@jupyter-widgets/controls",
          "model_name": "HBoxModel",
          "model_module_version": "1.5.0",
          "state": {
            "_dom_classes": [],
            "_model_module": "@jupyter-widgets/controls",
            "_model_module_version": "1.5.0",
            "_model_name": "HBoxModel",
            "_view_count": null,
            "_view_module": "@jupyter-widgets/controls",
            "_view_module_version": "1.5.0",
            "_view_name": "HBoxView",
            "box_style": "",
            "children": [
              "IPY_MODEL_a3fd792a6f554b3d9dd6fe082ca7e635",
              "IPY_MODEL_59d4895637634329aabc802cd975405e",
              "IPY_MODEL_3689434ee6ae46aab6a1b6446d4c94bc"
            ],
            "layout": "IPY_MODEL_7e788958c2234e009e6efd9618360b13"
          }
        },
        "a3fd792a6f554b3d9dd6fe082ca7e635": {
          "model_module": "@jupyter-widgets/controls",
          "model_name": "HTMLModel",
          "model_module_version": "1.5.0",
          "state": {
            "_dom_classes": [],
            "_model_module": "@jupyter-widgets/controls",
            "_model_module_version": "1.5.0",
            "_model_name": "HTMLModel",
            "_view_count": null,
            "_view_module": "@jupyter-widgets/controls",
            "_view_module_version": "1.5.0",
            "_view_name": "HTMLView",
            "description": "",
            "description_tooltip": null,
            "layout": "IPY_MODEL_f530457b68a3498091ae49f6a5475357",
            "placeholder": "​",
            "style": "IPY_MODEL_a7546e7d3fe64897801102d8af992472",
            "value": "Generating splits...: 100%"
          }
        },
        "59d4895637634329aabc802cd975405e": {
          "model_module": "@jupyter-widgets/controls",
          "model_name": "FloatProgressModel",
          "model_module_version": "1.5.0",
          "state": {
            "_dom_classes": [],
            "_model_module": "@jupyter-widgets/controls",
            "_model_module_version": "1.5.0",
            "_model_name": "FloatProgressModel",
            "_view_count": null,
            "_view_module": "@jupyter-widgets/controls",
            "_view_module_version": "1.5.0",
            "_view_name": "ProgressView",
            "bar_style": "",
            "description": "",
            "description_tooltip": null,
            "layout": "IPY_MODEL_fb6d7e61a3da4358bfa72b9ef893c5c6",
            "max": 1,
            "min": 0,
            "orientation": "horizontal",
            "style": "IPY_MODEL_53a08f9b7e8044e28a4512e8db2da920",
            "value": 1
          }
        },
        "3689434ee6ae46aab6a1b6446d4c94bc": {
          "model_module": "@jupyter-widgets/controls",
          "model_name": "HTMLModel",
          "model_module_version": "1.5.0",
          "state": {
            "_dom_classes": [],
            "_model_module": "@jupyter-widgets/controls",
            "_model_module_version": "1.5.0",
            "_model_name": "HTMLModel",
            "_view_count": null,
            "_view_module": "@jupyter-widgets/controls",
            "_view_module_version": "1.5.0",
            "_view_name": "HTMLView",
            "description": "",
            "description_tooltip": null,
            "layout": "IPY_MODEL_fa62d71b1d644c24b8223c2d491ded76",
            "placeholder": "​",
            "style": "IPY_MODEL_6e9dc20b19fa414b8d4d2dfca8e28eb5",
            "value": " 1/1 [00:02&lt;00:00,  2.64s/ splits]"
          }
        },
        "7e788958c2234e009e6efd9618360b13": {
          "model_module": "@jupyter-widgets/base",
          "model_name": "LayoutModel",
          "model_module_version": "1.2.0",
          "state": {
            "_model_module": "@jupyter-widgets/base",
            "_model_module_version": "1.2.0",
            "_model_name": "LayoutModel",
            "_view_count": null,
            "_view_module": "@jupyter-widgets/base",
            "_view_module_version": "1.2.0",
            "_view_name": "LayoutView",
            "align_content": null,
            "align_items": null,
            "align_self": null,
            "border": null,
            "bottom": null,
            "display": null,
            "flex": null,
            "flex_flow": null,
            "grid_area": null,
            "grid_auto_columns": null,
            "grid_auto_flow": null,
            "grid_auto_rows": null,
            "grid_column": null,
            "grid_gap": null,
            "grid_row": null,
            "grid_template_areas": null,
            "grid_template_columns": null,
            "grid_template_rows": null,
            "height": null,
            "justify_content": null,
            "justify_items": null,
            "left": null,
            "margin": null,
            "max_height": null,
            "max_width": null,
            "min_height": null,
            "min_width": null,
            "object_fit": null,
            "object_position": null,
            "order": null,
            "overflow": null,
            "overflow_x": null,
            "overflow_y": null,
            "padding": null,
            "right": null,
            "top": null,
            "visibility": "hidden",
            "width": null
          }
        },
        "f530457b68a3498091ae49f6a5475357": {
          "model_module": "@jupyter-widgets/base",
          "model_name": "LayoutModel",
          "model_module_version": "1.2.0",
          "state": {
            "_model_module": "@jupyter-widgets/base",
            "_model_module_version": "1.2.0",
            "_model_name": "LayoutModel",
            "_view_count": null,
            "_view_module": "@jupyter-widgets/base",
            "_view_module_version": "1.2.0",
            "_view_name": "LayoutView",
            "align_content": null,
            "align_items": null,
            "align_self": null,
            "border": null,
            "bottom": null,
            "display": null,
            "flex": null,
            "flex_flow": null,
            "grid_area": null,
            "grid_auto_columns": null,
            "grid_auto_flow": null,
            "grid_auto_rows": null,
            "grid_column": null,
            "grid_gap": null,
            "grid_row": null,
            "grid_template_areas": null,
            "grid_template_columns": null,
            "grid_template_rows": null,
            "height": null,
            "justify_content": null,
            "justify_items": null,
            "left": null,
            "margin": null,
            "max_height": null,
            "max_width": null,
            "min_height": null,
            "min_width": null,
            "object_fit": null,
            "object_position": null,
            "order": null,
            "overflow": null,
            "overflow_x": null,
            "overflow_y": null,
            "padding": null,
            "right": null,
            "top": null,
            "visibility": null,
            "width": null
          }
        },
        "a7546e7d3fe64897801102d8af992472": {
          "model_module": "@jupyter-widgets/controls",
          "model_name": "DescriptionStyleModel",
          "model_module_version": "1.5.0",
          "state": {
            "_model_module": "@jupyter-widgets/controls",
            "_model_module_version": "1.5.0",
            "_model_name": "DescriptionStyleModel",
            "_view_count": null,
            "_view_module": "@jupyter-widgets/base",
            "_view_module_version": "1.2.0",
            "_view_name": "StyleView",
            "description_width": ""
          }
        },
        "fb6d7e61a3da4358bfa72b9ef893c5c6": {
          "model_module": "@jupyter-widgets/base",
          "model_name": "LayoutModel",
          "model_module_version": "1.2.0",
          "state": {
            "_model_module": "@jupyter-widgets/base",
            "_model_module_version": "1.2.0",
            "_model_name": "LayoutModel",
            "_view_count": null,
            "_view_module": "@jupyter-widgets/base",
            "_view_module_version": "1.2.0",
            "_view_name": "LayoutView",
            "align_content": null,
            "align_items": null,
            "align_self": null,
            "border": null,
            "bottom": null,
            "display": null,
            "flex": null,
            "flex_flow": null,
            "grid_area": null,
            "grid_auto_columns": null,
            "grid_auto_flow": null,
            "grid_auto_rows": null,
            "grid_column": null,
            "grid_gap": null,
            "grid_row": null,
            "grid_template_areas": null,
            "grid_template_columns": null,
            "grid_template_rows": null,
            "height": null,
            "justify_content": null,
            "justify_items": null,
            "left": null,
            "margin": null,
            "max_height": null,
            "max_width": null,
            "min_height": null,
            "min_width": null,
            "object_fit": null,
            "object_position": null,
            "order": null,
            "overflow": null,
            "overflow_x": null,
            "overflow_y": null,
            "padding": null,
            "right": null,
            "top": null,
            "visibility": null,
            "width": null
          }
        },
        "53a08f9b7e8044e28a4512e8db2da920": {
          "model_module": "@jupyter-widgets/controls",
          "model_name": "ProgressStyleModel",
          "model_module_version": "1.5.0",
          "state": {
            "_model_module": "@jupyter-widgets/controls",
            "_model_module_version": "1.5.0",
            "_model_name": "ProgressStyleModel",
            "_view_count": null,
            "_view_module": "@jupyter-widgets/base",
            "_view_module_version": "1.2.0",
            "_view_name": "StyleView",
            "bar_color": null,
            "description_width": ""
          }
        },
        "fa62d71b1d644c24b8223c2d491ded76": {
          "model_module": "@jupyter-widgets/base",
          "model_name": "LayoutModel",
          "model_module_version": "1.2.0",
          "state": {
            "_model_module": "@jupyter-widgets/base",
            "_model_module_version": "1.2.0",
            "_model_name": "LayoutModel",
            "_view_count": null,
            "_view_module": "@jupyter-widgets/base",
            "_view_module_version": "1.2.0",
            "_view_name": "LayoutView",
            "align_content": null,
            "align_items": null,
            "align_self": null,
            "border": null,
            "bottom": null,
            "display": null,
            "flex": null,
            "flex_flow": null,
            "grid_area": null,
            "grid_auto_columns": null,
            "grid_auto_flow": null,
            "grid_auto_rows": null,
            "grid_column": null,
            "grid_gap": null,
            "grid_row": null,
            "grid_template_areas": null,
            "grid_template_columns": null,
            "grid_template_rows": null,
            "height": null,
            "justify_content": null,
            "justify_items": null,
            "left": null,
            "margin": null,
            "max_height": null,
            "max_width": null,
            "min_height": null,
            "min_width": null,
            "object_fit": null,
            "object_position": null,
            "order": null,
            "overflow": null,
            "overflow_x": null,
            "overflow_y": null,
            "padding": null,
            "right": null,
            "top": null,
            "visibility": null,
            "width": null
          }
        },
        "6e9dc20b19fa414b8d4d2dfca8e28eb5": {
          "model_module": "@jupyter-widgets/controls",
          "model_name": "DescriptionStyleModel",
          "model_module_version": "1.5.0",
          "state": {
            "_model_module": "@jupyter-widgets/controls",
            "_model_module_version": "1.5.0",
            "_model_name": "DescriptionStyleModel",
            "_view_count": null,
            "_view_module": "@jupyter-widgets/base",
            "_view_module_version": "1.2.0",
            "_view_name": "StyleView",
            "description_width": ""
          }
        },
        "0d0d18f1923d421d9da256c28c55e271": {
          "model_module": "@jupyter-widgets/controls",
          "model_name": "HBoxModel",
          "model_module_version": "1.5.0",
          "state": {
            "_dom_classes": [],
            "_model_module": "@jupyter-widgets/controls",
            "_model_module_version": "1.5.0",
            "_model_name": "HBoxModel",
            "_view_count": null,
            "_view_module": "@jupyter-widgets/controls",
            "_view_module_version": "1.5.0",
            "_view_name": "HBoxView",
            "box_style": "",
            "children": [
              "IPY_MODEL_042145fc00c643fab7e28f0e592c9eb5",
              "IPY_MODEL_fc4192cfd97149dfa46131936de593cc",
              "IPY_MODEL_18e388ec3817441fa88ae1d7a4f6e91a"
            ],
            "layout": "IPY_MODEL_21ce08d6916440f7ae876335943f86a9"
          }
        },
        "042145fc00c643fab7e28f0e592c9eb5": {
          "model_module": "@jupyter-widgets/controls",
          "model_name": "HTMLModel",
          "model_module_version": "1.5.0",
          "state": {
            "_dom_classes": [],
            "_model_module": "@jupyter-widgets/controls",
            "_model_module_version": "1.5.0",
            "_model_name": "HTMLModel",
            "_view_count": null,
            "_view_module": "@jupyter-widgets/controls",
            "_view_module_version": "1.5.0",
            "_view_name": "HTMLView",
            "description": "",
            "description_tooltip": null,
            "layout": "IPY_MODEL_bdfa9919efb34366a7a58061a0667ef2",
            "placeholder": "​",
            "style": "IPY_MODEL_938d4c5ec7234bf5910824152f19879b",
            "value": "Generating train examples...: "
          }
        },
        "fc4192cfd97149dfa46131936de593cc": {
          "model_module": "@jupyter-widgets/controls",
          "model_name": "FloatProgressModel",
          "model_module_version": "1.5.0",
          "state": {
            "_dom_classes": [],
            "_model_module": "@jupyter-widgets/controls",
            "_model_module_version": "1.5.0",
            "_model_name": "FloatProgressModel",
            "_view_count": null,
            "_view_module": "@jupyter-widgets/controls",
            "_view_module_version": "1.5.0",
            "_view_name": "ProgressView",
            "bar_style": "info",
            "description": "",
            "description_tooltip": null,
            "layout": "IPY_MODEL_e16a0d8b8bc44f6d8ee1f478dd204324",
            "max": 1,
            "min": 0,
            "orientation": "horizontal",
            "style": "IPY_MODEL_86eeae971011476abd62be0b29a66e72",
            "value": 1
          }
        },
        "18e388ec3817441fa88ae1d7a4f6e91a": {
          "model_module": "@jupyter-widgets/controls",
          "model_name": "HTMLModel",
          "model_module_version": "1.5.0",
          "state": {
            "_dom_classes": [],
            "_model_module": "@jupyter-widgets/controls",
            "_model_module_version": "1.5.0",
            "_model_name": "HTMLModel",
            "_view_count": null,
            "_view_module": "@jupyter-widgets/controls",
            "_view_module_version": "1.5.0",
            "_view_name": "HTMLView",
            "description": "",
            "description_tooltip": null,
            "layout": "IPY_MODEL_7371cf0ebcf842eda0d47db1e6e4a394",
            "placeholder": "​",
            "style": "IPY_MODEL_5664bfef277646f3ba92e494562e8e73",
            "value": " 4886/? [00:02&lt;00:00, 2058.87 examples/s]"
          }
        },
        "21ce08d6916440f7ae876335943f86a9": {
          "model_module": "@jupyter-widgets/base",
          "model_name": "LayoutModel",
          "model_module_version": "1.2.0",
          "state": {
            "_model_module": "@jupyter-widgets/base",
            "_model_module_version": "1.2.0",
            "_model_name": "LayoutModel",
            "_view_count": null,
            "_view_module": "@jupyter-widgets/base",
            "_view_module_version": "1.2.0",
            "_view_name": "LayoutView",
            "align_content": null,
            "align_items": null,
            "align_self": null,
            "border": null,
            "bottom": null,
            "display": null,
            "flex": null,
            "flex_flow": null,
            "grid_area": null,
            "grid_auto_columns": null,
            "grid_auto_flow": null,
            "grid_auto_rows": null,
            "grid_column": null,
            "grid_gap": null,
            "grid_row": null,
            "grid_template_areas": null,
            "grid_template_columns": null,
            "grid_template_rows": null,
            "height": null,
            "justify_content": null,
            "justify_items": null,
            "left": null,
            "margin": null,
            "max_height": null,
            "max_width": null,
            "min_height": null,
            "min_width": null,
            "object_fit": null,
            "object_position": null,
            "order": null,
            "overflow": null,
            "overflow_x": null,
            "overflow_y": null,
            "padding": null,
            "right": null,
            "top": null,
            "visibility": "hidden",
            "width": null
          }
        },
        "bdfa9919efb34366a7a58061a0667ef2": {
          "model_module": "@jupyter-widgets/base",
          "model_name": "LayoutModel",
          "model_module_version": "1.2.0",
          "state": {
            "_model_module": "@jupyter-widgets/base",
            "_model_module_version": "1.2.0",
            "_model_name": "LayoutModel",
            "_view_count": null,
            "_view_module": "@jupyter-widgets/base",
            "_view_module_version": "1.2.0",
            "_view_name": "LayoutView",
            "align_content": null,
            "align_items": null,
            "align_self": null,
            "border": null,
            "bottom": null,
            "display": null,
            "flex": null,
            "flex_flow": null,
            "grid_area": null,
            "grid_auto_columns": null,
            "grid_auto_flow": null,
            "grid_auto_rows": null,
            "grid_column": null,
            "grid_gap": null,
            "grid_row": null,
            "grid_template_areas": null,
            "grid_template_columns": null,
            "grid_template_rows": null,
            "height": null,
            "justify_content": null,
            "justify_items": null,
            "left": null,
            "margin": null,
            "max_height": null,
            "max_width": null,
            "min_height": null,
            "min_width": null,
            "object_fit": null,
            "object_position": null,
            "order": null,
            "overflow": null,
            "overflow_x": null,
            "overflow_y": null,
            "padding": null,
            "right": null,
            "top": null,
            "visibility": null,
            "width": null
          }
        },
        "938d4c5ec7234bf5910824152f19879b": {
          "model_module": "@jupyter-widgets/controls",
          "model_name": "DescriptionStyleModel",
          "model_module_version": "1.5.0",
          "state": {
            "_model_module": "@jupyter-widgets/controls",
            "_model_module_version": "1.5.0",
            "_model_name": "DescriptionStyleModel",
            "_view_count": null,
            "_view_module": "@jupyter-widgets/base",
            "_view_module_version": "1.2.0",
            "_view_name": "StyleView",
            "description_width": ""
          }
        },
        "e16a0d8b8bc44f6d8ee1f478dd204324": {
          "model_module": "@jupyter-widgets/base",
          "model_name": "LayoutModel",
          "model_module_version": "1.2.0",
          "state": {
            "_model_module": "@jupyter-widgets/base",
            "_model_module_version": "1.2.0",
            "_model_name": "LayoutModel",
            "_view_count": null,
            "_view_module": "@jupyter-widgets/base",
            "_view_module_version": "1.2.0",
            "_view_name": "LayoutView",
            "align_content": null,
            "align_items": null,
            "align_self": null,
            "border": null,
            "bottom": null,
            "display": null,
            "flex": null,
            "flex_flow": null,
            "grid_area": null,
            "grid_auto_columns": null,
            "grid_auto_flow": null,
            "grid_auto_rows": null,
            "grid_column": null,
            "grid_gap": null,
            "grid_row": null,
            "grid_template_areas": null,
            "grid_template_columns": null,
            "grid_template_rows": null,
            "height": null,
            "justify_content": null,
            "justify_items": null,
            "left": null,
            "margin": null,
            "max_height": null,
            "max_width": null,
            "min_height": null,
            "min_width": null,
            "object_fit": null,
            "object_position": null,
            "order": null,
            "overflow": null,
            "overflow_x": null,
            "overflow_y": null,
            "padding": null,
            "right": null,
            "top": null,
            "visibility": null,
            "width": "20px"
          }
        },
        "86eeae971011476abd62be0b29a66e72": {
          "model_module": "@jupyter-widgets/controls",
          "model_name": "ProgressStyleModel",
          "model_module_version": "1.5.0",
          "state": {
            "_model_module": "@jupyter-widgets/controls",
            "_model_module_version": "1.5.0",
            "_model_name": "ProgressStyleModel",
            "_view_count": null,
            "_view_module": "@jupyter-widgets/base",
            "_view_module_version": "1.2.0",
            "_view_name": "StyleView",
            "bar_color": null,
            "description_width": ""
          }
        },
        "7371cf0ebcf842eda0d47db1e6e4a394": {
          "model_module": "@jupyter-widgets/base",
          "model_name": "LayoutModel",
          "model_module_version": "1.2.0",
          "state": {
            "_model_module": "@jupyter-widgets/base",
            "_model_module_version": "1.2.0",
            "_model_name": "LayoutModel",
            "_view_count": null,
            "_view_module": "@jupyter-widgets/base",
            "_view_module_version": "1.2.0",
            "_view_name": "LayoutView",
            "align_content": null,
            "align_items": null,
            "align_self": null,
            "border": null,
            "bottom": null,
            "display": null,
            "flex": null,
            "flex_flow": null,
            "grid_area": null,
            "grid_auto_columns": null,
            "grid_auto_flow": null,
            "grid_auto_rows": null,
            "grid_column": null,
            "grid_gap": null,
            "grid_row": null,
            "grid_template_areas": null,
            "grid_template_columns": null,
            "grid_template_rows": null,
            "height": null,
            "justify_content": null,
            "justify_items": null,
            "left": null,
            "margin": null,
            "max_height": null,
            "max_width": null,
            "min_height": null,
            "min_width": null,
            "object_fit": null,
            "object_position": null,
            "order": null,
            "overflow": null,
            "overflow_x": null,
            "overflow_y": null,
            "padding": null,
            "right": null,
            "top": null,
            "visibility": null,
            "width": null
          }
        },
        "5664bfef277646f3ba92e494562e8e73": {
          "model_module": "@jupyter-widgets/controls",
          "model_name": "DescriptionStyleModel",
          "model_module_version": "1.5.0",
          "state": {
            "_model_module": "@jupyter-widgets/controls",
            "_model_module_version": "1.5.0",
            "_model_name": "DescriptionStyleModel",
            "_view_count": null,
            "_view_module": "@jupyter-widgets/base",
            "_view_module_version": "1.2.0",
            "_view_name": "StyleView",
            "description_width": ""
          }
        },
        "8cc88ddf3928450a959c97828e3c3170": {
          "model_module": "@jupyter-widgets/controls",
          "model_name": "HBoxModel",
          "model_module_version": "1.5.0",
          "state": {
            "_dom_classes": [],
            "_model_module": "@jupyter-widgets/controls",
            "_model_module_version": "1.5.0",
            "_model_name": "HBoxModel",
            "_view_count": null,
            "_view_module": "@jupyter-widgets/controls",
            "_view_module_version": "1.5.0",
            "_view_name": "HBoxView",
            "box_style": "",
            "children": [
              "IPY_MODEL_8cb2ccbfb4ad4be59c4224d30b7f5269",
              "IPY_MODEL_c069a69f751e4c5791d77fb1a5c8361d",
              "IPY_MODEL_6cc96553069a4938b2e97b3fab1904de"
            ],
            "layout": "IPY_MODEL_9a870758595b479e9d20fdba66799216"
          }
        },
        "8cb2ccbfb4ad4be59c4224d30b7f5269": {
          "model_module": "@jupyter-widgets/controls",
          "model_name": "HTMLModel",
          "model_module_version": "1.5.0",
          "state": {
            "_dom_classes": [],
            "_model_module": "@jupyter-widgets/controls",
            "_model_module_version": "1.5.0",
            "_model_name": "HTMLModel",
            "_view_count": null,
            "_view_module": "@jupyter-widgets/controls",
            "_view_module_version": "1.5.0",
            "_view_name": "HTMLView",
            "description": "",
            "description_tooltip": null,
            "layout": "IPY_MODEL_2d8d12b64f064f27a9a4cf76a354ec04",
            "placeholder": "​",
            "style": "IPY_MODEL_ba83756951bd4c1a904b89f616a9097a",
            "value": "Shuffling /root/tensorflow_datasets/wine_quality/white/1.0.0.incompleteRJEH2L/wine_quality-train.tfrecord*...:   0%"
          }
        },
        "c069a69f751e4c5791d77fb1a5c8361d": {
          "model_module": "@jupyter-widgets/controls",
          "model_name": "FloatProgressModel",
          "model_module_version": "1.5.0",
          "state": {
            "_dom_classes": [],
            "_model_module": "@jupyter-widgets/controls",
            "_model_module_version": "1.5.0",
            "_model_name": "FloatProgressModel",
            "_view_count": null,
            "_view_module": "@jupyter-widgets/controls",
            "_view_module_version": "1.5.0",
            "_view_name": "ProgressView",
            "bar_style": "",
            "description": "",
            "description_tooltip": null,
            "layout": "IPY_MODEL_97e5a737b0704b29bc0d86e94a8747a4",
            "max": 4898,
            "min": 0,
            "orientation": "horizontal",
            "style": "IPY_MODEL_9bf7018727164a369ebb44722d40a862",
            "value": 4898
          }
        },
        "6cc96553069a4938b2e97b3fab1904de": {
          "model_module": "@jupyter-widgets/controls",
          "model_name": "HTMLModel",
          "model_module_version": "1.5.0",
          "state": {
            "_dom_classes": [],
            "_model_module": "@jupyter-widgets/controls",
            "_model_module_version": "1.5.0",
            "_model_name": "HTMLModel",
            "_view_count": null,
            "_view_module": "@jupyter-widgets/controls",
            "_view_module_version": "1.5.0",
            "_view_name": "HTMLView",
            "description": "",
            "description_tooltip": null,
            "layout": "IPY_MODEL_2a670708e1b64be78473ce3494cee281",
            "placeholder": "​",
            "style": "IPY_MODEL_467432bd28c54a4da37ea967b8d53a2f",
            "value": " 0/4898 [00:00&lt;?, ? examples/s]"
          }
        },
        "9a870758595b479e9d20fdba66799216": {
          "model_module": "@jupyter-widgets/base",
          "model_name": "LayoutModel",
          "model_module_version": "1.2.0",
          "state": {
            "_model_module": "@jupyter-widgets/base",
            "_model_module_version": "1.2.0",
            "_model_name": "LayoutModel",
            "_view_count": null,
            "_view_module": "@jupyter-widgets/base",
            "_view_module_version": "1.2.0",
            "_view_name": "LayoutView",
            "align_content": null,
            "align_items": null,
            "align_self": null,
            "border": null,
            "bottom": null,
            "display": null,
            "flex": null,
            "flex_flow": null,
            "grid_area": null,
            "grid_auto_columns": null,
            "grid_auto_flow": null,
            "grid_auto_rows": null,
            "grid_column": null,
            "grid_gap": null,
            "grid_row": null,
            "grid_template_areas": null,
            "grid_template_columns": null,
            "grid_template_rows": null,
            "height": null,
            "justify_content": null,
            "justify_items": null,
            "left": null,
            "margin": null,
            "max_height": null,
            "max_width": null,
            "min_height": null,
            "min_width": null,
            "object_fit": null,
            "object_position": null,
            "order": null,
            "overflow": null,
            "overflow_x": null,
            "overflow_y": null,
            "padding": null,
            "right": null,
            "top": null,
            "visibility": "hidden",
            "width": null
          }
        },
        "2d8d12b64f064f27a9a4cf76a354ec04": {
          "model_module": "@jupyter-widgets/base",
          "model_name": "LayoutModel",
          "model_module_version": "1.2.0",
          "state": {
            "_model_module": "@jupyter-widgets/base",
            "_model_module_version": "1.2.0",
            "_model_name": "LayoutModel",
            "_view_count": null,
            "_view_module": "@jupyter-widgets/base",
            "_view_module_version": "1.2.0",
            "_view_name": "LayoutView",
            "align_content": null,
            "align_items": null,
            "align_self": null,
            "border": null,
            "bottom": null,
            "display": null,
            "flex": null,
            "flex_flow": null,
            "grid_area": null,
            "grid_auto_columns": null,
            "grid_auto_flow": null,
            "grid_auto_rows": null,
            "grid_column": null,
            "grid_gap": null,
            "grid_row": null,
            "grid_template_areas": null,
            "grid_template_columns": null,
            "grid_template_rows": null,
            "height": null,
            "justify_content": null,
            "justify_items": null,
            "left": null,
            "margin": null,
            "max_height": null,
            "max_width": null,
            "min_height": null,
            "min_width": null,
            "object_fit": null,
            "object_position": null,
            "order": null,
            "overflow": null,
            "overflow_x": null,
            "overflow_y": null,
            "padding": null,
            "right": null,
            "top": null,
            "visibility": null,
            "width": null
          }
        },
        "ba83756951bd4c1a904b89f616a9097a": {
          "model_module": "@jupyter-widgets/controls",
          "model_name": "DescriptionStyleModel",
          "model_module_version": "1.5.0",
          "state": {
            "_model_module": "@jupyter-widgets/controls",
            "_model_module_version": "1.5.0",
            "_model_name": "DescriptionStyleModel",
            "_view_count": null,
            "_view_module": "@jupyter-widgets/base",
            "_view_module_version": "1.2.0",
            "_view_name": "StyleView",
            "description_width": ""
          }
        },
        "97e5a737b0704b29bc0d86e94a8747a4": {
          "model_module": "@jupyter-widgets/base",
          "model_name": "LayoutModel",
          "model_module_version": "1.2.0",
          "state": {
            "_model_module": "@jupyter-widgets/base",
            "_model_module_version": "1.2.0",
            "_model_name": "LayoutModel",
            "_view_count": null,
            "_view_module": "@jupyter-widgets/base",
            "_view_module_version": "1.2.0",
            "_view_name": "LayoutView",
            "align_content": null,
            "align_items": null,
            "align_self": null,
            "border": null,
            "bottom": null,
            "display": null,
            "flex": null,
            "flex_flow": null,
            "grid_area": null,
            "grid_auto_columns": null,
            "grid_auto_flow": null,
            "grid_auto_rows": null,
            "grid_column": null,
            "grid_gap": null,
            "grid_row": null,
            "grid_template_areas": null,
            "grid_template_columns": null,
            "grid_template_rows": null,
            "height": null,
            "justify_content": null,
            "justify_items": null,
            "left": null,
            "margin": null,
            "max_height": null,
            "max_width": null,
            "min_height": null,
            "min_width": null,
            "object_fit": null,
            "object_position": null,
            "order": null,
            "overflow": null,
            "overflow_x": null,
            "overflow_y": null,
            "padding": null,
            "right": null,
            "top": null,
            "visibility": null,
            "width": null
          }
        },
        "9bf7018727164a369ebb44722d40a862": {
          "model_module": "@jupyter-widgets/controls",
          "model_name": "ProgressStyleModel",
          "model_module_version": "1.5.0",
          "state": {
            "_model_module": "@jupyter-widgets/controls",
            "_model_module_version": "1.5.0",
            "_model_name": "ProgressStyleModel",
            "_view_count": null,
            "_view_module": "@jupyter-widgets/base",
            "_view_module_version": "1.2.0",
            "_view_name": "StyleView",
            "bar_color": null,
            "description_width": ""
          }
        },
        "2a670708e1b64be78473ce3494cee281": {
          "model_module": "@jupyter-widgets/base",
          "model_name": "LayoutModel",
          "model_module_version": "1.2.0",
          "state": {
            "_model_module": "@jupyter-widgets/base",
            "_model_module_version": "1.2.0",
            "_model_name": "LayoutModel",
            "_view_count": null,
            "_view_module": "@jupyter-widgets/base",
            "_view_module_version": "1.2.0",
            "_view_name": "LayoutView",
            "align_content": null,
            "align_items": null,
            "align_self": null,
            "border": null,
            "bottom": null,
            "display": null,
            "flex": null,
            "flex_flow": null,
            "grid_area": null,
            "grid_auto_columns": null,
            "grid_auto_flow": null,
            "grid_auto_rows": null,
            "grid_column": null,
            "grid_gap": null,
            "grid_row": null,
            "grid_template_areas": null,
            "grid_template_columns": null,
            "grid_template_rows": null,
            "height": null,
            "justify_content": null,
            "justify_items": null,
            "left": null,
            "margin": null,
            "max_height": null,
            "max_width": null,
            "min_height": null,
            "min_width": null,
            "object_fit": null,
            "object_position": null,
            "order": null,
            "overflow": null,
            "overflow_x": null,
            "overflow_y": null,
            "padding": null,
            "right": null,
            "top": null,
            "visibility": null,
            "width": null
          }
        },
        "467432bd28c54a4da37ea967b8d53a2f": {
          "model_module": "@jupyter-widgets/controls",
          "model_name": "DescriptionStyleModel",
          "model_module_version": "1.5.0",
          "state": {
            "_model_module": "@jupyter-widgets/controls",
            "_model_module_version": "1.5.0",
            "_model_name": "DescriptionStyleModel",
            "_view_count": null,
            "_view_module": "@jupyter-widgets/base",
            "_view_module_version": "1.2.0",
            "_view_name": "StyleView",
            "description_width": ""
          }
        }
      }
    }
  },
  "cells": [
    {
      "cell_type": "markdown",
      "metadata": {
        "id": "view-in-github",
        "colab_type": "text"
      },
      "source": [
        "<a href=\"https://colab.research.google.com/github/kjxeez/machine-learning/blob/main/linear-regression.ipynb\" target=\"_parent\"><img src=\"https://colab.research.google.com/assets/colab-badge.svg\" alt=\"Open In Colab\"/></a>"
      ]
    },
    {
      "cell_type": "markdown",
      "metadata": {
        "id": "bkvu6piHt3ra"
      },
      "source": [
        "### РОССИЙСКИЙ УНИВЕРСИТЕТ ДРУЖБЫ НАРОДОВ\n",
        "\n",
        "#### Факультет физико-математических и естественных наук  \n",
        "#### Кафедра информационных технологий "
      ]
    },
    {
      "cell_type": "markdown",
      "metadata": {
        "id": "djXIWnpjt3rf"
      },
      "source": [
        "## ОТЧЕТ ПО ЛАБОРАТОРНОЙ РАБОТЕ № 1\n",
        "\n",
        "\n",
        "### Дисциплина: Методы машинного обучения"
      ]
    },
    {
      "cell_type": "markdown",
      "metadata": {
        "id": "fo_ynhTst3rg"
      },
      "source": [
        "##### Студент:  Акопян Изабелла Арменовна\n",
        "##### Группа:   НБИбд-01-20"
      ]
    },
    {
      "cell_type": "markdown",
      "metadata": {
        "id": "TbvGIymht3rh"
      },
      "source": [
        "## Москва 2023\n",
        "***"
      ]
    },
    {
      "cell_type": "markdown",
      "metadata": {
        "id": "avs03Eqmt3rh"
      },
      "source": [
        "### Вариант №12\n",
        "\n",
        "#### __Текст задания__:\n",
        "В соответствии с индивидуальным заданием, указанным в записной книжке команды, выполните следующие работы:\n",
        "\n",
        "1. Загрузите заданный в индивидуальном задании набор данных из Tensorflow Datasets и оставьте в наборе данных признаки, принимающие непрерывные числовые значения, включая указанные в индивидуальном задании независимую и зависимую переменные. Вычислите матрицу корреляции признаков и определите пары признаков с наиболее низкой и наиболее высокой корреляцией.\n",
        "\n",
        "2. Выполните визуализацию независимой и зависимой переменных в соответствии с индивидуальным заданием, подписывая оси и рисунок.\n",
        "\n",
        "3. Постройте парную линейную регрессию для независимого и зависимого признаков при помощи точного подхода и при помощи нейронной сети с одним нейроном. Вычислите и сравните значения показателей качества  R2  двух подходов.\n",
        "\n",
        "4. Постройте диаграмму рассеяния для независимого и зависимого признаков и изобразите линии двух построенных парных регрессий, подписывая оси и рисунок и создавая легенду.\n",
        "\n",
        "5. Разбейте набор признаков на обучающую и контрольную выборки. Создайте и адаптируйте нормализующий слой Tensorflow для всех признаков набора данных (за исключением зависимого признака).\n",
        "\n",
        "6. Используя созданный нормализующий слой, постройте регресоры на базе следующих моделей множественной регрессии:\n",
        "\n",
        "линейной регрессии\n",
        "гребневой регрессии (L2)\n",
        "лассо регрессии (L1)\n",
        "7. Определите на контрольной выборке модель множественной регрессии с наиболее высоким качеством по показателю, указанному в индивидуальном задании, среди построенных моделей.\n",
        "\n",
        "8. Для лучшего регрессора визуализируйте кривые обучения (в зависимости от эпохи обучения).\n",
        "\n",
        "9. Определите медианные значения признаков (кроме независимого и зависимого признаков) и для построенных медианных значений визуализируйте на плоскости с независимым признаком в качестве оси абсцисс и зависимым признаком в качестве оси ординат точки тестовой выборки и линии (графики) различных моделей множественной регрессии разными цветами. Подпишите оси и создайте легенду и заголовок для рисунка.\n",
        "\n",
        "\n",
        "------------------------\n",
        "Лабораторная работа 1 – Вариант 12 \n",
        "\n",
        "1. Набор данных: wine_quality \n",
        "\n",
        "2. Независимая переменная: features/density \n",
        "\n",
        "3. Зависимая переменная: features/fixed acidity \n",
        "\n",
        "4. Визуализация для независимой переменной – эмпирическая плотность распределения \n",
        "\n",
        "5. Визуализация для зависимой переменной – столбчатая диаграмма \n",
        "\n",
        "6. Показатель качества регрессии – R^2 (коэффициент детерминации) \n",
        "\n",
        "Решение ниже\n"
      ]
    },
    {
      "cell_type": "markdown",
      "source": [
        "__Загрузите заданный в индивидуальном задании набор данных из Tensorflow Datasets и оставьте в наборе данных признаки, принимающие непрерывные числовые значения, включая указанные в индивидуальном задании независимую и зависимую переменные.__"
      ],
      "metadata": {
        "id": "KVNyVdjb4PiN"
      }
    },
    {
      "cell_type": "code",
      "source": [
        "import tensorflow_datasets as tfds"
      ],
      "metadata": {
        "id": "YQ_-2OJnz9Re"
      },
      "execution_count": 1,
      "outputs": []
    },
    {
      "cell_type": "code",
      "source": [
        "ds = tfds.load(\"wine_quality\", split='train') \n",
        "\n",
        "ds"
      ],
      "metadata": {
        "colab": {
          "base_uri": "https://localhost:8080/",
          "height": 237,
          "referenced_widgets": [
            "dabb310acf824a099448474e1cffa9d0",
            "da3777f445b440fab869b3f770e84282",
            "fbe00a5c788b4e15b6dde49324442bb7",
            "c11c803d507d47b387eee14714fb6d69",
            "d483e327a0e849c8aec9fa8a8abaf631",
            "d15c83f765054b9392c6aecbd99bfc36",
            "dee90ef83dc54ee1a190906fad14abb0",
            "8dafbad4d222438e98b8b797e2171457",
            "c7a2e2f3842b40eda74cd1eeeed0c79c",
            "ec13765fd82c450caacf590ae3a0d498",
            "b6dae841822e48bdbcfbd08dc70051d8",
            "c2798d912f7946e6b993e37e3db0ac03",
            "8e13ffba43d247dfb19462502857f59f",
            "aa1ef8c426af450d80e5e638639bf0fa",
            "553b0ea4e3f14a1e9be21cd69840be7a",
            "352e41a5e2ec4dbda197640ce3557f2c",
            "3ebc23f6393349ea9a4bde52637ac404",
            "8e527edc86da4aa8921713f3a1e51f4b",
            "26273ccd32234735b673c728c1a79486",
            "8fd9db55af69475ab3fb80cf8473ee1e",
            "dff7f43e9cb84216b45d8917e3c86671",
            "89875999986244e3aae6ebc28f4d4c3f",
            "ca11a4b31e424ec7a1697da15c19668a",
            "a3fd792a6f554b3d9dd6fe082ca7e635",
            "59d4895637634329aabc802cd975405e",
            "3689434ee6ae46aab6a1b6446d4c94bc",
            "7e788958c2234e009e6efd9618360b13",
            "f530457b68a3498091ae49f6a5475357",
            "a7546e7d3fe64897801102d8af992472",
            "fb6d7e61a3da4358bfa72b9ef893c5c6",
            "53a08f9b7e8044e28a4512e8db2da920",
            "fa62d71b1d644c24b8223c2d491ded76",
            "6e9dc20b19fa414b8d4d2dfca8e28eb5",
            "0d0d18f1923d421d9da256c28c55e271",
            "042145fc00c643fab7e28f0e592c9eb5",
            "fc4192cfd97149dfa46131936de593cc",
            "18e388ec3817441fa88ae1d7a4f6e91a",
            "21ce08d6916440f7ae876335943f86a9",
            "bdfa9919efb34366a7a58061a0667ef2",
            "938d4c5ec7234bf5910824152f19879b",
            "e16a0d8b8bc44f6d8ee1f478dd204324",
            "86eeae971011476abd62be0b29a66e72",
            "7371cf0ebcf842eda0d47db1e6e4a394",
            "5664bfef277646f3ba92e494562e8e73",
            "8cc88ddf3928450a959c97828e3c3170",
            "8cb2ccbfb4ad4be59c4224d30b7f5269",
            "c069a69f751e4c5791d77fb1a5c8361d",
            "6cc96553069a4938b2e97b3fab1904de",
            "9a870758595b479e9d20fdba66799216",
            "2d8d12b64f064f27a9a4cf76a354ec04",
            "ba83756951bd4c1a904b89f616a9097a",
            "97e5a737b0704b29bc0d86e94a8747a4",
            "9bf7018727164a369ebb44722d40a862",
            "2a670708e1b64be78473ce3494cee281",
            "467432bd28c54a4da37ea967b8d53a2f"
          ]
        },
        "id": "Mb5Wl9QkzKaE",
        "outputId": "99974139-dd7a-4e41-935c-8e15dbbb1916"
      },
      "execution_count": 2,
      "outputs": [
        {
          "output_type": "stream",
          "name": "stderr",
          "text": [
            "WARNING:absl:You use TensorFlow DType <dtype: 'float32'> in tfds.features This will soon be deprecated in favor of NumPy DTypes. In the meantime it was converted to float32.\n",
            "WARNING:absl:You use TensorFlow DType <dtype: 'float64'> in tfds.features This will soon be deprecated in favor of NumPy DTypes. In the meantime it was converted to float64.\n"
          ]
        },
        {
          "output_type": "stream",
          "name": "stdout",
          "text": [
            "Downloading and preparing dataset Unknown size (download: Unknown size, generated: Unknown size, total: Unknown size) to /root/tensorflow_datasets/wine_quality/white/1.0.0...\n"
          ]
        },
        {
          "output_type": "display_data",
          "data": {
            "text/plain": [
              "Dl Completed...: 0 url [00:00, ? url/s]"
            ],
            "application/vnd.jupyter.widget-view+json": {
              "version_major": 2,
              "version_minor": 0,
              "model_id": "dabb310acf824a099448474e1cffa9d0"
            }
          },
          "metadata": {}
        },
        {
          "output_type": "display_data",
          "data": {
            "text/plain": [
              "Dl Size...: 0 MiB [00:00, ? MiB/s]"
            ],
            "application/vnd.jupyter.widget-view+json": {
              "version_major": 2,
              "version_minor": 0,
              "model_id": "c2798d912f7946e6b993e37e3db0ac03"
            }
          },
          "metadata": {}
        },
        {
          "output_type": "display_data",
          "data": {
            "text/plain": [
              "Generating splits...:   0%|          | 0/1 [00:00<?, ? splits/s]"
            ],
            "application/vnd.jupyter.widget-view+json": {
              "version_major": 2,
              "version_minor": 0,
              "model_id": "ca11a4b31e424ec7a1697da15c19668a"
            }
          },
          "metadata": {}
        },
        {
          "output_type": "display_data",
          "data": {
            "text/plain": [
              "Generating train examples...: 0 examples [00:00, ? examples/s]"
            ],
            "application/vnd.jupyter.widget-view+json": {
              "version_major": 2,
              "version_minor": 0,
              "model_id": "0d0d18f1923d421d9da256c28c55e271"
            }
          },
          "metadata": {}
        },
        {
          "output_type": "display_data",
          "data": {
            "text/plain": [
              "Shuffling /root/tensorflow_datasets/wine_quality/white/1.0.0.incompleteRJEH2L/wine_quality-train.tfrecord*...:…"
            ],
            "application/vnd.jupyter.widget-view+json": {
              "version_major": 2,
              "version_minor": 0,
              "model_id": "8cc88ddf3928450a959c97828e3c3170"
            }
          },
          "metadata": {}
        },
        {
          "output_type": "stream",
          "name": "stdout",
          "text": [
            "Dataset wine_quality downloaded and prepared to /root/tensorflow_datasets/wine_quality/white/1.0.0. Subsequent calls will reuse this data.\n"
          ]
        },
        {
          "output_type": "execute_result",
          "data": {
            "text/plain": [
              "<_PrefetchDataset element_spec={'features': {'alcohol': TensorSpec(shape=(), dtype=tf.float32, name=None), 'chlorides': TensorSpec(shape=(), dtype=tf.float32, name=None), 'citric acid': TensorSpec(shape=(), dtype=tf.float32, name=None), 'density': TensorSpec(shape=(), dtype=tf.float32, name=None), 'fixed acidity': TensorSpec(shape=(), dtype=tf.float32, name=None), 'free sulfur dioxide': TensorSpec(shape=(), dtype=tf.float32, name=None), 'pH': TensorSpec(shape=(), dtype=tf.float32, name=None), 'residual sugar': TensorSpec(shape=(), dtype=tf.float32, name=None), 'sulphates': TensorSpec(shape=(), dtype=tf.float64, name=None), 'total sulfur dioxide': TensorSpec(shape=(), dtype=tf.float32, name=None), 'volatile acidity': TensorSpec(shape=(), dtype=tf.float32, name=None)}, 'quality': TensorSpec(shape=(), dtype=tf.int32, name=None)}>"
            ]
          },
          "metadata": {},
          "execution_count": 2
        }
      ]
    },
    {
      "cell_type": "code",
      "source": [
        "df = tfds.as_dataframe(ds)\n",
        "df.head()"
      ],
      "metadata": {
        "colab": {
          "base_uri": "https://localhost:8080/",
          "height": 305
        },
        "id": "jYdpiswt3JbY",
        "outputId": "6fbac190-d8bc-4e40-fce1-d0b72317ddbb"
      },
      "execution_count": 3,
      "outputs": [
        {
          "output_type": "execute_result",
          "data": {
            "text/plain": [
              "   features/alcohol  features/chlorides  features/citric acid  \\\n",
              "0               9.0               0.054                  0.34   \n",
              "1              12.2               0.063                  0.49   \n",
              "2              11.2               0.029                  0.11   \n",
              "3               9.0               0.110                  0.27   \n",
              "4              12.0               0.035                  0.30   \n",
              "\n",
              "   features/density  features/fixed acidity  features/free sulfur dioxide  \\\n",
              "0           1.00080                     7.6                          44.0   \n",
              "1           0.99110                     6.3                          35.0   \n",
              "2           0.99076                     5.3                           6.0   \n",
              "3           0.99672                     6.6                          20.0   \n",
              "4           0.99016                     5.9                          57.0   \n",
              "\n",
              "   features/pH  features/residual sugar  features/sulphates  \\\n",
              "0         3.22                    18.35                0.55   \n",
              "1         3.38                     1.20                0.42   \n",
              "2         3.51                     1.10                0.48   \n",
              "3         3.08                    10.70                0.41   \n",
              "4         3.09                     3.80                0.34   \n",
              "\n",
              "   features/total sulfur dioxide  features/volatile acidity  quality  \n",
              "0                          197.0                       0.32        5  \n",
              "1                           92.0                       0.27        6  \n",
              "2                           51.0                       0.43        4  \n",
              "3                          103.0                       0.41        6  \n",
              "4                          135.0                       0.34        6  "
            ],
            "text/html": [
              "\n",
              "  <div id=\"df-84d6a01e-ce82-4586-bea0-fd28b1f7200a\">\n",
              "    <div class=\"colab-df-container\">\n",
              "      <div>\n",
              "<style scoped>\n",
              "    .dataframe tbody tr th:only-of-type {\n",
              "        vertical-align: middle;\n",
              "    }\n",
              "\n",
              "    .dataframe tbody tr th {\n",
              "        vertical-align: top;\n",
              "    }\n",
              "\n",
              "    .dataframe thead th {\n",
              "        text-align: right;\n",
              "    }\n",
              "</style>\n",
              "<table border=\"1\" class=\"dataframe\">\n",
              "  <thead>\n",
              "    <tr style=\"text-align: right;\">\n",
              "      <th></th>\n",
              "      <th>features/alcohol</th>\n",
              "      <th>features/chlorides</th>\n",
              "      <th>features/citric acid</th>\n",
              "      <th>features/density</th>\n",
              "      <th>features/fixed acidity</th>\n",
              "      <th>features/free sulfur dioxide</th>\n",
              "      <th>features/pH</th>\n",
              "      <th>features/residual sugar</th>\n",
              "      <th>features/sulphates</th>\n",
              "      <th>features/total sulfur dioxide</th>\n",
              "      <th>features/volatile acidity</th>\n",
              "      <th>quality</th>\n",
              "    </tr>\n",
              "  </thead>\n",
              "  <tbody>\n",
              "    <tr>\n",
              "      <th>0</th>\n",
              "      <td>9.0</td>\n",
              "      <td>0.054</td>\n",
              "      <td>0.34</td>\n",
              "      <td>1.00080</td>\n",
              "      <td>7.6</td>\n",
              "      <td>44.0</td>\n",
              "      <td>3.22</td>\n",
              "      <td>18.35</td>\n",
              "      <td>0.55</td>\n",
              "      <td>197.0</td>\n",
              "      <td>0.32</td>\n",
              "      <td>5</td>\n",
              "    </tr>\n",
              "    <tr>\n",
              "      <th>1</th>\n",
              "      <td>12.2</td>\n",
              "      <td>0.063</td>\n",
              "      <td>0.49</td>\n",
              "      <td>0.99110</td>\n",
              "      <td>6.3</td>\n",
              "      <td>35.0</td>\n",
              "      <td>3.38</td>\n",
              "      <td>1.20</td>\n",
              "      <td>0.42</td>\n",
              "      <td>92.0</td>\n",
              "      <td>0.27</td>\n",
              "      <td>6</td>\n",
              "    </tr>\n",
              "    <tr>\n",
              "      <th>2</th>\n",
              "      <td>11.2</td>\n",
              "      <td>0.029</td>\n",
              "      <td>0.11</td>\n",
              "      <td>0.99076</td>\n",
              "      <td>5.3</td>\n",
              "      <td>6.0</td>\n",
              "      <td>3.51</td>\n",
              "      <td>1.10</td>\n",
              "      <td>0.48</td>\n",
              "      <td>51.0</td>\n",
              "      <td>0.43</td>\n",
              "      <td>4</td>\n",
              "    </tr>\n",
              "    <tr>\n",
              "      <th>3</th>\n",
              "      <td>9.0</td>\n",
              "      <td>0.110</td>\n",
              "      <td>0.27</td>\n",
              "      <td>0.99672</td>\n",
              "      <td>6.6</td>\n",
              "      <td>20.0</td>\n",
              "      <td>3.08</td>\n",
              "      <td>10.70</td>\n",
              "      <td>0.41</td>\n",
              "      <td>103.0</td>\n",
              "      <td>0.41</td>\n",
              "      <td>6</td>\n",
              "    </tr>\n",
              "    <tr>\n",
              "      <th>4</th>\n",
              "      <td>12.0</td>\n",
              "      <td>0.035</td>\n",
              "      <td>0.30</td>\n",
              "      <td>0.99016</td>\n",
              "      <td>5.9</td>\n",
              "      <td>57.0</td>\n",
              "      <td>3.09</td>\n",
              "      <td>3.80</td>\n",
              "      <td>0.34</td>\n",
              "      <td>135.0</td>\n",
              "      <td>0.34</td>\n",
              "      <td>6</td>\n",
              "    </tr>\n",
              "  </tbody>\n",
              "</table>\n",
              "</div>\n",
              "      <button class=\"colab-df-convert\" onclick=\"convertToInteractive('df-84d6a01e-ce82-4586-bea0-fd28b1f7200a')\"\n",
              "              title=\"Convert this dataframe to an interactive table.\"\n",
              "              style=\"display:none;\">\n",
              "        \n",
              "  <svg xmlns=\"http://www.w3.org/2000/svg\" height=\"24px\"viewBox=\"0 0 24 24\"\n",
              "       width=\"24px\">\n",
              "    <path d=\"M0 0h24v24H0V0z\" fill=\"none\"/>\n",
              "    <path d=\"M18.56 5.44l.94 2.06.94-2.06 2.06-.94-2.06-.94-.94-2.06-.94 2.06-2.06.94zm-11 1L8.5 8.5l.94-2.06 2.06-.94-2.06-.94L8.5 2.5l-.94 2.06-2.06.94zm10 10l.94 2.06.94-2.06 2.06-.94-2.06-.94-.94-2.06-.94 2.06-2.06.94z\"/><path d=\"M17.41 7.96l-1.37-1.37c-.4-.4-.92-.59-1.43-.59-.52 0-1.04.2-1.43.59L10.3 9.45l-7.72 7.72c-.78.78-.78 2.05 0 2.83L4 21.41c.39.39.9.59 1.41.59.51 0 1.02-.2 1.41-.59l7.78-7.78 2.81-2.81c.8-.78.8-2.07 0-2.86zM5.41 20L4 18.59l7.72-7.72 1.47 1.35L5.41 20z\"/>\n",
              "  </svg>\n",
              "      </button>\n",
              "      \n",
              "  <style>\n",
              "    .colab-df-container {\n",
              "      display:flex;\n",
              "      flex-wrap:wrap;\n",
              "      gap: 12px;\n",
              "    }\n",
              "\n",
              "    .colab-df-convert {\n",
              "      background-color: #E8F0FE;\n",
              "      border: none;\n",
              "      border-radius: 50%;\n",
              "      cursor: pointer;\n",
              "      display: none;\n",
              "      fill: #1967D2;\n",
              "      height: 32px;\n",
              "      padding: 0 0 0 0;\n",
              "      width: 32px;\n",
              "    }\n",
              "\n",
              "    .colab-df-convert:hover {\n",
              "      background-color: #E2EBFA;\n",
              "      box-shadow: 0px 1px 2px rgba(60, 64, 67, 0.3), 0px 1px 3px 1px rgba(60, 64, 67, 0.15);\n",
              "      fill: #174EA6;\n",
              "    }\n",
              "\n",
              "    [theme=dark] .colab-df-convert {\n",
              "      background-color: #3B4455;\n",
              "      fill: #D2E3FC;\n",
              "    }\n",
              "\n",
              "    [theme=dark] .colab-df-convert:hover {\n",
              "      background-color: #434B5C;\n",
              "      box-shadow: 0px 1px 3px 1px rgba(0, 0, 0, 0.15);\n",
              "      filter: drop-shadow(0px 1px 2px rgba(0, 0, 0, 0.3));\n",
              "      fill: #FFFFFF;\n",
              "    }\n",
              "  </style>\n",
              "\n",
              "      <script>\n",
              "        const buttonEl =\n",
              "          document.querySelector('#df-84d6a01e-ce82-4586-bea0-fd28b1f7200a button.colab-df-convert');\n",
              "        buttonEl.style.display =\n",
              "          google.colab.kernel.accessAllowed ? 'block' : 'none';\n",
              "\n",
              "        async function convertToInteractive(key) {\n",
              "          const element = document.querySelector('#df-84d6a01e-ce82-4586-bea0-fd28b1f7200a');\n",
              "          const dataTable =\n",
              "            await google.colab.kernel.invokeFunction('convertToInteractive',\n",
              "                                                     [key], {});\n",
              "          if (!dataTable) return;\n",
              "\n",
              "          const docLinkHtml = 'Like what you see? Visit the ' +\n",
              "            '<a target=\"_blank\" href=https://colab.research.google.com/notebooks/data_table.ipynb>data table notebook</a>'\n",
              "            + ' to learn more about interactive tables.';\n",
              "          element.innerHTML = '';\n",
              "          dataTable['output_type'] = 'display_data';\n",
              "          await google.colab.output.renderOutput(dataTable, element);\n",
              "          const docLink = document.createElement('div');\n",
              "          docLink.innerHTML = docLinkHtml;\n",
              "          element.appendChild(docLink);\n",
              "        }\n",
              "      </script>\n",
              "    </div>\n",
              "  </div>\n",
              "  "
            ]
          },
          "metadata": {},
          "execution_count": 3
        }
      ]
    },
    {
      "cell_type": "code",
      "source": [
        "#df.drop(columns=['quality'],inplace=True) #оценка качества может быть от 0 до 10 всего\n",
        "df.head()"
      ],
      "metadata": {
        "colab": {
          "base_uri": "https://localhost:8080/",
          "height": 305
        },
        "id": "SVyj1B8Y3oJs",
        "outputId": "36a02bb5-d08f-4c0e-f219-a61094d74919"
      },
      "execution_count": 4,
      "outputs": [
        {
          "output_type": "execute_result",
          "data": {
            "text/plain": [
              "   features/alcohol  features/chlorides  features/citric acid  \\\n",
              "0               9.0               0.054                  0.34   \n",
              "1              12.2               0.063                  0.49   \n",
              "2              11.2               0.029                  0.11   \n",
              "3               9.0               0.110                  0.27   \n",
              "4              12.0               0.035                  0.30   \n",
              "\n",
              "   features/density  features/fixed acidity  features/free sulfur dioxide  \\\n",
              "0           1.00080                     7.6                          44.0   \n",
              "1           0.99110                     6.3                          35.0   \n",
              "2           0.99076                     5.3                           6.0   \n",
              "3           0.99672                     6.6                          20.0   \n",
              "4           0.99016                     5.9                          57.0   \n",
              "\n",
              "   features/pH  features/residual sugar  features/sulphates  \\\n",
              "0         3.22                    18.35                0.55   \n",
              "1         3.38                     1.20                0.42   \n",
              "2         3.51                     1.10                0.48   \n",
              "3         3.08                    10.70                0.41   \n",
              "4         3.09                     3.80                0.34   \n",
              "\n",
              "   features/total sulfur dioxide  features/volatile acidity  quality  \n",
              "0                          197.0                       0.32        5  \n",
              "1                           92.0                       0.27        6  \n",
              "2                           51.0                       0.43        4  \n",
              "3                          103.0                       0.41        6  \n",
              "4                          135.0                       0.34        6  "
            ],
            "text/html": [
              "\n",
              "  <div id=\"df-03aa2dc3-39ff-419f-8ae2-66a27884099d\">\n",
              "    <div class=\"colab-df-container\">\n",
              "      <div>\n",
              "<style scoped>\n",
              "    .dataframe tbody tr th:only-of-type {\n",
              "        vertical-align: middle;\n",
              "    }\n",
              "\n",
              "    .dataframe tbody tr th {\n",
              "        vertical-align: top;\n",
              "    }\n",
              "\n",
              "    .dataframe thead th {\n",
              "        text-align: right;\n",
              "    }\n",
              "</style>\n",
              "<table border=\"1\" class=\"dataframe\">\n",
              "  <thead>\n",
              "    <tr style=\"text-align: right;\">\n",
              "      <th></th>\n",
              "      <th>features/alcohol</th>\n",
              "      <th>features/chlorides</th>\n",
              "      <th>features/citric acid</th>\n",
              "      <th>features/density</th>\n",
              "      <th>features/fixed acidity</th>\n",
              "      <th>features/free sulfur dioxide</th>\n",
              "      <th>features/pH</th>\n",
              "      <th>features/residual sugar</th>\n",
              "      <th>features/sulphates</th>\n",
              "      <th>features/total sulfur dioxide</th>\n",
              "      <th>features/volatile acidity</th>\n",
              "      <th>quality</th>\n",
              "    </tr>\n",
              "  </thead>\n",
              "  <tbody>\n",
              "    <tr>\n",
              "      <th>0</th>\n",
              "      <td>9.0</td>\n",
              "      <td>0.054</td>\n",
              "      <td>0.34</td>\n",
              "      <td>1.00080</td>\n",
              "      <td>7.6</td>\n",
              "      <td>44.0</td>\n",
              "      <td>3.22</td>\n",
              "      <td>18.35</td>\n",
              "      <td>0.55</td>\n",
              "      <td>197.0</td>\n",
              "      <td>0.32</td>\n",
              "      <td>5</td>\n",
              "    </tr>\n",
              "    <tr>\n",
              "      <th>1</th>\n",
              "      <td>12.2</td>\n",
              "      <td>0.063</td>\n",
              "      <td>0.49</td>\n",
              "      <td>0.99110</td>\n",
              "      <td>6.3</td>\n",
              "      <td>35.0</td>\n",
              "      <td>3.38</td>\n",
              "      <td>1.20</td>\n",
              "      <td>0.42</td>\n",
              "      <td>92.0</td>\n",
              "      <td>0.27</td>\n",
              "      <td>6</td>\n",
              "    </tr>\n",
              "    <tr>\n",
              "      <th>2</th>\n",
              "      <td>11.2</td>\n",
              "      <td>0.029</td>\n",
              "      <td>0.11</td>\n",
              "      <td>0.99076</td>\n",
              "      <td>5.3</td>\n",
              "      <td>6.0</td>\n",
              "      <td>3.51</td>\n",
              "      <td>1.10</td>\n",
              "      <td>0.48</td>\n",
              "      <td>51.0</td>\n",
              "      <td>0.43</td>\n",
              "      <td>4</td>\n",
              "    </tr>\n",
              "    <tr>\n",
              "      <th>3</th>\n",
              "      <td>9.0</td>\n",
              "      <td>0.110</td>\n",
              "      <td>0.27</td>\n",
              "      <td>0.99672</td>\n",
              "      <td>6.6</td>\n",
              "      <td>20.0</td>\n",
              "      <td>3.08</td>\n",
              "      <td>10.70</td>\n",
              "      <td>0.41</td>\n",
              "      <td>103.0</td>\n",
              "      <td>0.41</td>\n",
              "      <td>6</td>\n",
              "    </tr>\n",
              "    <tr>\n",
              "      <th>4</th>\n",
              "      <td>12.0</td>\n",
              "      <td>0.035</td>\n",
              "      <td>0.30</td>\n",
              "      <td>0.99016</td>\n",
              "      <td>5.9</td>\n",
              "      <td>57.0</td>\n",
              "      <td>3.09</td>\n",
              "      <td>3.80</td>\n",
              "      <td>0.34</td>\n",
              "      <td>135.0</td>\n",
              "      <td>0.34</td>\n",
              "      <td>6</td>\n",
              "    </tr>\n",
              "  </tbody>\n",
              "</table>\n",
              "</div>\n",
              "      <button class=\"colab-df-convert\" onclick=\"convertToInteractive('df-03aa2dc3-39ff-419f-8ae2-66a27884099d')\"\n",
              "              title=\"Convert this dataframe to an interactive table.\"\n",
              "              style=\"display:none;\">\n",
              "        \n",
              "  <svg xmlns=\"http://www.w3.org/2000/svg\" height=\"24px\"viewBox=\"0 0 24 24\"\n",
              "       width=\"24px\">\n",
              "    <path d=\"M0 0h24v24H0V0z\" fill=\"none\"/>\n",
              "    <path d=\"M18.56 5.44l.94 2.06.94-2.06 2.06-.94-2.06-.94-.94-2.06-.94 2.06-2.06.94zm-11 1L8.5 8.5l.94-2.06 2.06-.94-2.06-.94L8.5 2.5l-.94 2.06-2.06.94zm10 10l.94 2.06.94-2.06 2.06-.94-2.06-.94-.94-2.06-.94 2.06-2.06.94z\"/><path d=\"M17.41 7.96l-1.37-1.37c-.4-.4-.92-.59-1.43-.59-.52 0-1.04.2-1.43.59L10.3 9.45l-7.72 7.72c-.78.78-.78 2.05 0 2.83L4 21.41c.39.39.9.59 1.41.59.51 0 1.02-.2 1.41-.59l7.78-7.78 2.81-2.81c.8-.78.8-2.07 0-2.86zM5.41 20L4 18.59l7.72-7.72 1.47 1.35L5.41 20z\"/>\n",
              "  </svg>\n",
              "      </button>\n",
              "      \n",
              "  <style>\n",
              "    .colab-df-container {\n",
              "      display:flex;\n",
              "      flex-wrap:wrap;\n",
              "      gap: 12px;\n",
              "    }\n",
              "\n",
              "    .colab-df-convert {\n",
              "      background-color: #E8F0FE;\n",
              "      border: none;\n",
              "      border-radius: 50%;\n",
              "      cursor: pointer;\n",
              "      display: none;\n",
              "      fill: #1967D2;\n",
              "      height: 32px;\n",
              "      padding: 0 0 0 0;\n",
              "      width: 32px;\n",
              "    }\n",
              "\n",
              "    .colab-df-convert:hover {\n",
              "      background-color: #E2EBFA;\n",
              "      box-shadow: 0px 1px 2px rgba(60, 64, 67, 0.3), 0px 1px 3px 1px rgba(60, 64, 67, 0.15);\n",
              "      fill: #174EA6;\n",
              "    }\n",
              "\n",
              "    [theme=dark] .colab-df-convert {\n",
              "      background-color: #3B4455;\n",
              "      fill: #D2E3FC;\n",
              "    }\n",
              "\n",
              "    [theme=dark] .colab-df-convert:hover {\n",
              "      background-color: #434B5C;\n",
              "      box-shadow: 0px 1px 3px 1px rgba(0, 0, 0, 0.15);\n",
              "      filter: drop-shadow(0px 1px 2px rgba(0, 0, 0, 0.3));\n",
              "      fill: #FFFFFF;\n",
              "    }\n",
              "  </style>\n",
              "\n",
              "      <script>\n",
              "        const buttonEl =\n",
              "          document.querySelector('#df-03aa2dc3-39ff-419f-8ae2-66a27884099d button.colab-df-convert');\n",
              "        buttonEl.style.display =\n",
              "          google.colab.kernel.accessAllowed ? 'block' : 'none';\n",
              "\n",
              "        async function convertToInteractive(key) {\n",
              "          const element = document.querySelector('#df-03aa2dc3-39ff-419f-8ae2-66a27884099d');\n",
              "          const dataTable =\n",
              "            await google.colab.kernel.invokeFunction('convertToInteractive',\n",
              "                                                     [key], {});\n",
              "          if (!dataTable) return;\n",
              "\n",
              "          const docLinkHtml = 'Like what you see? Visit the ' +\n",
              "            '<a target=\"_blank\" href=https://colab.research.google.com/notebooks/data_table.ipynb>data table notebook</a>'\n",
              "            + ' to learn more about interactive tables.';\n",
              "          element.innerHTML = '';\n",
              "          dataTable['output_type'] = 'display_data';\n",
              "          await google.colab.output.renderOutput(dataTable, element);\n",
              "          const docLink = document.createElement('div');\n",
              "          docLink.innerHTML = docLinkHtml;\n",
              "          element.appendChild(docLink);\n",
              "        }\n",
              "      </script>\n",
              "    </div>\n",
              "  </div>\n",
              "  "
            ]
          },
          "metadata": {},
          "execution_count": 4
        }
      ]
    },
    {
      "cell_type": "markdown",
      "source": [
        "__Вычислите матрицу корреляции признаков и определите пары признаков с наиболее низкой и наиболее высокой корреляцией.__"
      ],
      "metadata": {
        "id": "0uVq0IZ78jiW"
      }
    },
    {
      "cell_type": "code",
      "source": [
        "corr_matrix = df.corr()\n",
        "corr_matrix"
      ],
      "metadata": {
        "colab": {
          "base_uri": "https://localhost:8080/",
          "height": 611
        },
        "id": "kwpKRv2s8k3-",
        "outputId": "652a6b67-0c6f-41b1-af79-89a0d864a775"
      },
      "execution_count": 5,
      "outputs": [
        {
          "output_type": "execute_result",
          "data": {
            "text/plain": [
              "                               features/alcohol  features/chlorides  \\\n",
              "features/alcohol                       1.000000           -0.360189   \n",
              "features/chlorides                    -0.360189            1.000000   \n",
              "features/citric acid                  -0.075729            0.114364   \n",
              "features/density                      -0.780138            0.257211   \n",
              "features/fixed acidity                -0.120881            0.023086   \n",
              "features/free sulfur dioxide          -0.250104            0.101392   \n",
              "features/pH                            0.121432           -0.090439   \n",
              "features/residual sugar               -0.450631            0.088685   \n",
              "features/sulphates                    -0.017433            0.016763   \n",
              "features/total sulfur dioxide         -0.448892            0.198910   \n",
              "features/volatile acidity              0.067718            0.070512   \n",
              "quality                                0.435575           -0.209934   \n",
              "\n",
              "                               features/citric acid  features/density  \\\n",
              "features/alcohol                          -0.075729         -0.780138   \n",
              "features/chlorides                         0.114364          0.257211   \n",
              "features/citric acid                       1.000000          0.149503   \n",
              "features/density                           0.149503          1.000000   \n",
              "features/fixed acidity                     0.289181          0.265331   \n",
              "features/free sulfur dioxide               0.094077          0.294210   \n",
              "features/pH                               -0.163748         -0.093592   \n",
              "features/residual sugar                    0.094212          0.838967   \n",
              "features/sulphates                         0.062331          0.074493   \n",
              "features/total sulfur dioxide              0.121131          0.529881   \n",
              "features/volatile acidity                 -0.149472          0.027114   \n",
              "quality                                   -0.009209         -0.307123   \n",
              "\n",
              "                               features/fixed acidity  \\\n",
              "features/alcohol                            -0.120881   \n",
              "features/chlorides                           0.023086   \n",
              "features/citric acid                         0.289181   \n",
              "features/density                             0.265331   \n",
              "features/fixed acidity                       1.000000   \n",
              "features/free sulfur dioxide                -0.049396   \n",
              "features/pH                                 -0.425858   \n",
              "features/residual sugar                      0.089021   \n",
              "features/sulphates                          -0.017143   \n",
              "features/total sulfur dioxide                0.091070   \n",
              "features/volatile acidity                   -0.022697   \n",
              "quality                                     -0.113663   \n",
              "\n",
              "                               features/free sulfur dioxide  features/pH  \\\n",
              "features/alcohol                                  -0.250104     0.121432   \n",
              "features/chlorides                                 0.101392    -0.090439   \n",
              "features/citric acid                               0.094077    -0.163748   \n",
              "features/density                                   0.294210    -0.093592   \n",
              "features/fixed acidity                            -0.049396    -0.425858   \n",
              "features/free sulfur dioxide                       1.000000    -0.000618   \n",
              "features/pH                                       -0.000618     1.000000   \n",
              "features/residual sugar                            0.299098    -0.194133   \n",
              "features/sulphates                                 0.059217     0.155951   \n",
              "features/total sulfur dioxide                      0.615501     0.002321   \n",
              "features/volatile acidity                         -0.097012    -0.031915   \n",
              "quality                                            0.008158     0.099427   \n",
              "\n",
              "                               features/residual sugar  features/sulphates  \\\n",
              "features/alcohol                             -0.450631           -0.017433   \n",
              "features/chlorides                            0.088685            0.016763   \n",
              "features/citric acid                          0.094212            0.062331   \n",
              "features/density                              0.838967            0.074493   \n",
              "features/fixed acidity                        0.089021           -0.017143   \n",
              "features/free sulfur dioxide                  0.299098            0.059217   \n",
              "features/pH                                  -0.194133            0.155951   \n",
              "features/residual sugar                       1.000000           -0.026664   \n",
              "features/sulphates                           -0.026664            1.000000   \n",
              "features/total sulfur dioxide                 0.401439            0.134562   \n",
              "features/volatile acidity                     0.064286           -0.035728   \n",
              "quality                                      -0.097577            0.053678   \n",
              "\n",
              "                               features/total sulfur dioxide  \\\n",
              "features/alcohol                                   -0.448892   \n",
              "features/chlorides                                  0.198910   \n",
              "features/citric acid                                0.121131   \n",
              "features/density                                    0.529881   \n",
              "features/fixed acidity                              0.091070   \n",
              "features/free sulfur dioxide                        0.615501   \n",
              "features/pH                                         0.002321   \n",
              "features/residual sugar                             0.401439   \n",
              "features/sulphates                                  0.134562   \n",
              "features/total sulfur dioxide                       1.000000   \n",
              "features/volatile acidity                           0.089261   \n",
              "quality                                            -0.174737   \n",
              "\n",
              "                               features/volatile acidity   quality  \n",
              "features/alcohol                                0.067718  0.435575  \n",
              "features/chlorides                              0.070512 -0.209934  \n",
              "features/citric acid                           -0.149472 -0.009209  \n",
              "features/density                                0.027114 -0.307123  \n",
              "features/fixed acidity                         -0.022697 -0.113663  \n",
              "features/free sulfur dioxide                   -0.097012  0.008158  \n",
              "features/pH                                    -0.031915  0.099427  \n",
              "features/residual sugar                         0.064286 -0.097577  \n",
              "features/sulphates                             -0.035728  0.053678  \n",
              "features/total sulfur dioxide                   0.089261 -0.174737  \n",
              "features/volatile acidity                       1.000000 -0.194723  \n",
              "quality                                        -0.194723  1.000000  "
            ],
            "text/html": [
              "\n",
              "  <div id=\"df-538e10c1-4c75-4aa0-a394-54f04af3a29d\">\n",
              "    <div class=\"colab-df-container\">\n",
              "      <div>\n",
              "<style scoped>\n",
              "    .dataframe tbody tr th:only-of-type {\n",
              "        vertical-align: middle;\n",
              "    }\n",
              "\n",
              "    .dataframe tbody tr th {\n",
              "        vertical-align: top;\n",
              "    }\n",
              "\n",
              "    .dataframe thead th {\n",
              "        text-align: right;\n",
              "    }\n",
              "</style>\n",
              "<table border=\"1\" class=\"dataframe\">\n",
              "  <thead>\n",
              "    <tr style=\"text-align: right;\">\n",
              "      <th></th>\n",
              "      <th>features/alcohol</th>\n",
              "      <th>features/chlorides</th>\n",
              "      <th>features/citric acid</th>\n",
              "      <th>features/density</th>\n",
              "      <th>features/fixed acidity</th>\n",
              "      <th>features/free sulfur dioxide</th>\n",
              "      <th>features/pH</th>\n",
              "      <th>features/residual sugar</th>\n",
              "      <th>features/sulphates</th>\n",
              "      <th>features/total sulfur dioxide</th>\n",
              "      <th>features/volatile acidity</th>\n",
              "      <th>quality</th>\n",
              "    </tr>\n",
              "  </thead>\n",
              "  <tbody>\n",
              "    <tr>\n",
              "      <th>features/alcohol</th>\n",
              "      <td>1.000000</td>\n",
              "      <td>-0.360189</td>\n",
              "      <td>-0.075729</td>\n",
              "      <td>-0.780138</td>\n",
              "      <td>-0.120881</td>\n",
              "      <td>-0.250104</td>\n",
              "      <td>0.121432</td>\n",
              "      <td>-0.450631</td>\n",
              "      <td>-0.017433</td>\n",
              "      <td>-0.448892</td>\n",
              "      <td>0.067718</td>\n",
              "      <td>0.435575</td>\n",
              "    </tr>\n",
              "    <tr>\n",
              "      <th>features/chlorides</th>\n",
              "      <td>-0.360189</td>\n",
              "      <td>1.000000</td>\n",
              "      <td>0.114364</td>\n",
              "      <td>0.257211</td>\n",
              "      <td>0.023086</td>\n",
              "      <td>0.101392</td>\n",
              "      <td>-0.090439</td>\n",
              "      <td>0.088685</td>\n",
              "      <td>0.016763</td>\n",
              "      <td>0.198910</td>\n",
              "      <td>0.070512</td>\n",
              "      <td>-0.209934</td>\n",
              "    </tr>\n",
              "    <tr>\n",
              "      <th>features/citric acid</th>\n",
              "      <td>-0.075729</td>\n",
              "      <td>0.114364</td>\n",
              "      <td>1.000000</td>\n",
              "      <td>0.149503</td>\n",
              "      <td>0.289181</td>\n",
              "      <td>0.094077</td>\n",
              "      <td>-0.163748</td>\n",
              "      <td>0.094212</td>\n",
              "      <td>0.062331</td>\n",
              "      <td>0.121131</td>\n",
              "      <td>-0.149472</td>\n",
              "      <td>-0.009209</td>\n",
              "    </tr>\n",
              "    <tr>\n",
              "      <th>features/density</th>\n",
              "      <td>-0.780138</td>\n",
              "      <td>0.257211</td>\n",
              "      <td>0.149503</td>\n",
              "      <td>1.000000</td>\n",
              "      <td>0.265331</td>\n",
              "      <td>0.294210</td>\n",
              "      <td>-0.093592</td>\n",
              "      <td>0.838967</td>\n",
              "      <td>0.074493</td>\n",
              "      <td>0.529881</td>\n",
              "      <td>0.027114</td>\n",
              "      <td>-0.307123</td>\n",
              "    </tr>\n",
              "    <tr>\n",
              "      <th>features/fixed acidity</th>\n",
              "      <td>-0.120881</td>\n",
              "      <td>0.023086</td>\n",
              "      <td>0.289181</td>\n",
              "      <td>0.265331</td>\n",
              "      <td>1.000000</td>\n",
              "      <td>-0.049396</td>\n",
              "      <td>-0.425858</td>\n",
              "      <td>0.089021</td>\n",
              "      <td>-0.017143</td>\n",
              "      <td>0.091070</td>\n",
              "      <td>-0.022697</td>\n",
              "      <td>-0.113663</td>\n",
              "    </tr>\n",
              "    <tr>\n",
              "      <th>features/free sulfur dioxide</th>\n",
              "      <td>-0.250104</td>\n",
              "      <td>0.101392</td>\n",
              "      <td>0.094077</td>\n",
              "      <td>0.294210</td>\n",
              "      <td>-0.049396</td>\n",
              "      <td>1.000000</td>\n",
              "      <td>-0.000618</td>\n",
              "      <td>0.299098</td>\n",
              "      <td>0.059217</td>\n",
              "      <td>0.615501</td>\n",
              "      <td>-0.097012</td>\n",
              "      <td>0.008158</td>\n",
              "    </tr>\n",
              "    <tr>\n",
              "      <th>features/pH</th>\n",
              "      <td>0.121432</td>\n",
              "      <td>-0.090439</td>\n",
              "      <td>-0.163748</td>\n",
              "      <td>-0.093592</td>\n",
              "      <td>-0.425858</td>\n",
              "      <td>-0.000618</td>\n",
              "      <td>1.000000</td>\n",
              "      <td>-0.194133</td>\n",
              "      <td>0.155951</td>\n",
              "      <td>0.002321</td>\n",
              "      <td>-0.031915</td>\n",
              "      <td>0.099427</td>\n",
              "    </tr>\n",
              "    <tr>\n",
              "      <th>features/residual sugar</th>\n",
              "      <td>-0.450631</td>\n",
              "      <td>0.088685</td>\n",
              "      <td>0.094212</td>\n",
              "      <td>0.838967</td>\n",
              "      <td>0.089021</td>\n",
              "      <td>0.299098</td>\n",
              "      <td>-0.194133</td>\n",
              "      <td>1.000000</td>\n",
              "      <td>-0.026664</td>\n",
              "      <td>0.401439</td>\n",
              "      <td>0.064286</td>\n",
              "      <td>-0.097577</td>\n",
              "    </tr>\n",
              "    <tr>\n",
              "      <th>features/sulphates</th>\n",
              "      <td>-0.017433</td>\n",
              "      <td>0.016763</td>\n",
              "      <td>0.062331</td>\n",
              "      <td>0.074493</td>\n",
              "      <td>-0.017143</td>\n",
              "      <td>0.059217</td>\n",
              "      <td>0.155951</td>\n",
              "      <td>-0.026664</td>\n",
              "      <td>1.000000</td>\n",
              "      <td>0.134562</td>\n",
              "      <td>-0.035728</td>\n",
              "      <td>0.053678</td>\n",
              "    </tr>\n",
              "    <tr>\n",
              "      <th>features/total sulfur dioxide</th>\n",
              "      <td>-0.448892</td>\n",
              "      <td>0.198910</td>\n",
              "      <td>0.121131</td>\n",
              "      <td>0.529881</td>\n",
              "      <td>0.091070</td>\n",
              "      <td>0.615501</td>\n",
              "      <td>0.002321</td>\n",
              "      <td>0.401439</td>\n",
              "      <td>0.134562</td>\n",
              "      <td>1.000000</td>\n",
              "      <td>0.089261</td>\n",
              "      <td>-0.174737</td>\n",
              "    </tr>\n",
              "    <tr>\n",
              "      <th>features/volatile acidity</th>\n",
              "      <td>0.067718</td>\n",
              "      <td>0.070512</td>\n",
              "      <td>-0.149472</td>\n",
              "      <td>0.027114</td>\n",
              "      <td>-0.022697</td>\n",
              "      <td>-0.097012</td>\n",
              "      <td>-0.031915</td>\n",
              "      <td>0.064286</td>\n",
              "      <td>-0.035728</td>\n",
              "      <td>0.089261</td>\n",
              "      <td>1.000000</td>\n",
              "      <td>-0.194723</td>\n",
              "    </tr>\n",
              "    <tr>\n",
              "      <th>quality</th>\n",
              "      <td>0.435575</td>\n",
              "      <td>-0.209934</td>\n",
              "      <td>-0.009209</td>\n",
              "      <td>-0.307123</td>\n",
              "      <td>-0.113663</td>\n",
              "      <td>0.008158</td>\n",
              "      <td>0.099427</td>\n",
              "      <td>-0.097577</td>\n",
              "      <td>0.053678</td>\n",
              "      <td>-0.174737</td>\n",
              "      <td>-0.194723</td>\n",
              "      <td>1.000000</td>\n",
              "    </tr>\n",
              "  </tbody>\n",
              "</table>\n",
              "</div>\n",
              "      <button class=\"colab-df-convert\" onclick=\"convertToInteractive('df-538e10c1-4c75-4aa0-a394-54f04af3a29d')\"\n",
              "              title=\"Convert this dataframe to an interactive table.\"\n",
              "              style=\"display:none;\">\n",
              "        \n",
              "  <svg xmlns=\"http://www.w3.org/2000/svg\" height=\"24px\"viewBox=\"0 0 24 24\"\n",
              "       width=\"24px\">\n",
              "    <path d=\"M0 0h24v24H0V0z\" fill=\"none\"/>\n",
              "    <path d=\"M18.56 5.44l.94 2.06.94-2.06 2.06-.94-2.06-.94-.94-2.06-.94 2.06-2.06.94zm-11 1L8.5 8.5l.94-2.06 2.06-.94-2.06-.94L8.5 2.5l-.94 2.06-2.06.94zm10 10l.94 2.06.94-2.06 2.06-.94-2.06-.94-.94-2.06-.94 2.06-2.06.94z\"/><path d=\"M17.41 7.96l-1.37-1.37c-.4-.4-.92-.59-1.43-.59-.52 0-1.04.2-1.43.59L10.3 9.45l-7.72 7.72c-.78.78-.78 2.05 0 2.83L4 21.41c.39.39.9.59 1.41.59.51 0 1.02-.2 1.41-.59l7.78-7.78 2.81-2.81c.8-.78.8-2.07 0-2.86zM5.41 20L4 18.59l7.72-7.72 1.47 1.35L5.41 20z\"/>\n",
              "  </svg>\n",
              "      </button>\n",
              "      \n",
              "  <style>\n",
              "    .colab-df-container {\n",
              "      display:flex;\n",
              "      flex-wrap:wrap;\n",
              "      gap: 12px;\n",
              "    }\n",
              "\n",
              "    .colab-df-convert {\n",
              "      background-color: #E8F0FE;\n",
              "      border: none;\n",
              "      border-radius: 50%;\n",
              "      cursor: pointer;\n",
              "      display: none;\n",
              "      fill: #1967D2;\n",
              "      height: 32px;\n",
              "      padding: 0 0 0 0;\n",
              "      width: 32px;\n",
              "    }\n",
              "\n",
              "    .colab-df-convert:hover {\n",
              "      background-color: #E2EBFA;\n",
              "      box-shadow: 0px 1px 2px rgba(60, 64, 67, 0.3), 0px 1px 3px 1px rgba(60, 64, 67, 0.15);\n",
              "      fill: #174EA6;\n",
              "    }\n",
              "\n",
              "    [theme=dark] .colab-df-convert {\n",
              "      background-color: #3B4455;\n",
              "      fill: #D2E3FC;\n",
              "    }\n",
              "\n",
              "    [theme=dark] .colab-df-convert:hover {\n",
              "      background-color: #434B5C;\n",
              "      box-shadow: 0px 1px 3px 1px rgba(0, 0, 0, 0.15);\n",
              "      filter: drop-shadow(0px 1px 2px rgba(0, 0, 0, 0.3));\n",
              "      fill: #FFFFFF;\n",
              "    }\n",
              "  </style>\n",
              "\n",
              "      <script>\n",
              "        const buttonEl =\n",
              "          document.querySelector('#df-538e10c1-4c75-4aa0-a394-54f04af3a29d button.colab-df-convert');\n",
              "        buttonEl.style.display =\n",
              "          google.colab.kernel.accessAllowed ? 'block' : 'none';\n",
              "\n",
              "        async function convertToInteractive(key) {\n",
              "          const element = document.querySelector('#df-538e10c1-4c75-4aa0-a394-54f04af3a29d');\n",
              "          const dataTable =\n",
              "            await google.colab.kernel.invokeFunction('convertToInteractive',\n",
              "                                                     [key], {});\n",
              "          if (!dataTable) return;\n",
              "\n",
              "          const docLinkHtml = 'Like what you see? Visit the ' +\n",
              "            '<a target=\"_blank\" href=https://colab.research.google.com/notebooks/data_table.ipynb>data table notebook</a>'\n",
              "            + ' to learn more about interactive tables.';\n",
              "          element.innerHTML = '';\n",
              "          dataTable['output_type'] = 'display_data';\n",
              "          await google.colab.output.renderOutput(dataTable, element);\n",
              "          const docLink = document.createElement('div');\n",
              "          docLink.innerHTML = docLinkHtml;\n",
              "          element.appendChild(docLink);\n",
              "        }\n",
              "      </script>\n",
              "    </div>\n",
              "  </div>\n",
              "  "
            ]
          },
          "metadata": {},
          "execution_count": 5
        }
      ]
    },
    {
      "cell_type": "code",
      "source": [
        "import seaborn as sns"
      ],
      "metadata": {
        "id": "3SsHnbe39W2N"
      },
      "execution_count": 6,
      "outputs": []
    },
    {
      "cell_type": "code",
      "source": [
        "sns.heatmap(corr_matrix, cmap='coolwarm', annot=True, annot_kws={'size':8}) #для визуализации, так проще\n"
      ],
      "metadata": {
        "colab": {
          "base_uri": "https://localhost:8080/",
          "height": 631
        },
        "id": "x97Fq4uG9UPo",
        "outputId": "2d4bff99-3ed7-40a2-a94e-c0abfdb0c697"
      },
      "execution_count": 7,
      "outputs": [
        {
          "output_type": "execute_result",
          "data": {
            "text/plain": [
              "<Axes: >"
            ]
          },
          "metadata": {},
          "execution_count": 7
        },
        {
          "output_type": "display_data",
          "data": {
            "text/plain": [
              "<Figure size 640x480 with 2 Axes>"
            ],
            "image/png": "[encoded data removed]"
          },
          "metadata": {}
        }
      ]
    },
    {
      "cell_type": "markdown",
      "source": [
        "Видим, тут плотность зависит от спирта (чем больше спирта, тем меньше плотность (-0.78)) - по чеддоку корреляция высокая\n",
        "\n",
        "А диоксид серы (sulfur acidity) можно считать не зависит от меры кислотности (pH) - по Чеддоку вообще нет корреляции"
      ],
      "metadata": {
        "id": "tWbabDk5l3WT"
      }
    },
    {
      "cell_type": "markdown",
      "source": [
        "__Выполните визуализацию независимой и зависимой переменных в соответствии с индивидуальным заданием, подписывая оси и рисунок.__"
      ],
      "metadata": {
        "id": "Tq-KaSqZJn4r"
      }
    },
    {
      "cell_type": "code",
      "source": [
        "import matplotlib.pyplot as plt"
      ],
      "metadata": {
        "id": "j7D4qakz_z3X"
      },
      "execution_count": 8,
      "outputs": []
    },
    {
      "cell_type": "markdown",
      "source": [
        "y = features/fixed acidity \n",
        "\n",
        "x = features/density \n",
        "\n",
        "Визуализация для независимой переменной – эмпирическая плотность распределения \n",
        "\n",
        "Визуализация для зависимой переменной – столбчатая диаграмма "
      ],
      "metadata": {
        "id": "sJeyY_1JJxJY"
      }
    },
    {
      "cell_type": "markdown",
      "source": [
        "__Эмпирическая (выборочная) плотность распределения (PDF) для x__"
      ],
      "metadata": {
        "id": "qqQhn1dzlIP5"
      }
    },
    {
      "cell_type": "markdown",
      "source": [
        "# __границы х отредачить*__:"
      ],
      "metadata": {
        "id": "_WBzSjM9nZmy"
      }
    },
    {
      "cell_type": "code",
      "source": [
        "y = df['features/fixed acidity']\n",
        "x = df['features/density']"
      ],
      "metadata": {
        "id": "KoWPO5YmrQsZ"
      },
      "execution_count": 115,
      "outputs": []
    },
    {
      "cell_type": "code",
      "source": [
        "x.plot.hist(density=True, range=[0.985, 1.005], bins = 20).set_xlabel('Удельная плотность вина')\n",
        "counts, bins, _ = plt.hist(x, density=True, range=[0.985, 1.005], bins=20)\n",
        "mu = np.mean(x)\n",
        "sigma = np.std(x)\n",
        "x_line = np.linspace(bins[0], bins[-1], 100)\n",
        "y_line = (1/np.sqrt(2*np.pi*sigma**2)) * np.exp(-((x_line-mu)**2)/(2*sigma**2))\n",
        "\n",
        "plt.title('Распределение плотности вина')\n",
        "plt.plot(x_line, y_line) "
      ],
      "metadata": {
        "id": "nZ4zqJCrlEFQ",
        "outputId": "c294c55f-18bb-45e9-b2ae-d499c7f6749c",
        "colab": {
          "base_uri": "https://localhost:8080/",
          "height": 489
        }
      },
      "execution_count": 149,
      "outputs": [
        {
          "output_type": "execute_result",
          "data": {
            "text/plain": [
              "[<matplotlib.lines.Line2D at 0x7f3ade65b5b0>]"
            ]
          },
          "metadata": {},
          "execution_count": 149
        },
        {
          "output_type": "display_data",
          "data": {
            "text/plain": [
              "<Figure size 640x480 with 1 Axes>"
            ],
            "image/png": "[encoded data removed]"
          },
          "metadata": {}
        }
      ]
    },
    {
      "cell_type": "markdown",
      "source": [
        "__Столбчатая диаграмма для y__"
      ],
      "metadata": {
        "id": "vPEp76ZmmNdH"
      }
    },
    {
      "cell_type": "code",
      "source": [
        "df[::40]['features/fixed acidity'].plot.bar(title='Распределение значений фиксированной кислотности вина', figsize=(20,8)).set(ylabel='Фиксированная кислотность вина', xlabel = 'Индекс вина')"
      ],
      "metadata": {
        "colab": {
          "base_uri": "https://localhost:8080/",
          "height": 644
        },
        "id": "fjz7lQaOKiyw",
        "outputId": "02918faa-67ba-427f-9239-a9e4d2bc8673"
      },
      "execution_count": 156,
      "outputs": [
        {
          "output_type": "execute_result",
          "data": {
            "text/plain": [
              "[Text(0, 0.5, 'Фиксированная кислотность вина'), Text(0.5, 0, 'Индекс вина')]"
            ]
          },
          "metadata": {},
          "execution_count": 156
        },
        {
          "output_type": "display_data",
          "data": {
            "text/plain": [
              "<Figure size 2000x800 with 1 Axes>"
            ],
            "image/png": "[encoded data removed]"
          },
          "metadata": {}
        }
      ]
    },
    {
      "cell_type": "markdown",
      "source": [
        "__Постройте парную линейную регрессию для независимого и зависимого признаков при помощи точного подхода и при помощи нейронной сети с одним нейроном. Вычислите и сравните значения показателей качества R2 двух подходов.__\n",
        "\n",
        "__Показатель качества регрессии – R^2 (коэффициент детерминации)__"
      ],
      "metadata": {
        "id": "P1pCf23wqUXB"
      }
    },
    {
      "cell_type": "code",
      "source": [
        "import numpy as np\n",
        "import pandas as pd"
      ],
      "metadata": {
        "id": "Yxn5I2DhsxlR"
      },
      "execution_count": 13,
      "outputs": []
    },
    {
      "cell_type": "code",
      "source": [
        "!pip install Sklearn"
      ],
      "metadata": {
        "id": "uocP23Hb5gP-",
        "outputId": "f0f06a26-e135-4cdc-fa80-3ecafc0eea29",
        "colab": {
          "base_uri": "https://localhost:8080/"
        }
      },
      "execution_count": 14,
      "outputs": [
        {
          "output_type": "stream",
          "name": "stdout",
          "text": [
            "Looking in indexes: https://pypi.org/simple, https://us-python.pkg.dev/colab-wheels/public/simple/\n",
            "Collecting Sklearn\n",
            "  Downloading sklearn-0.0.post4.tar.gz (3.6 kB)\n",
            "  Preparing metadata (setup.py) ... \u001b[?25l\u001b[?25hdone\n",
            "Building wheels for collected packages: Sklearn\n",
            "  Building wheel for Sklearn (setup.py) ... \u001b[?25l\u001b[?25hdone\n",
            "  Created wheel for Sklearn: filename=sklearn-0.0.post4-py3-none-any.whl size=2973 sha256=78111f199783d407470bbcaa1f5741037e5109c8aaf910702f82097f693a7157\n",
            "  Stored in directory: /root/.cache/pip/wheels/d5/b2/a9/590d15767d34955f20a9a033e8db973b79cb5672d95790c0a9\n",
            "Successfully built Sklearn\n",
            "Installing collected packages: Sklearn\n",
            "Successfully installed Sklearn-0.0.post4\n"
          ]
        }
      ]
    },
    {
      "cell_type": "code",
      "source": [
        "from sklearn.model_selection import train_test_split\n"
      ],
      "metadata": {
        "id": "CYqWjXvs5W99"
      },
      "execution_count": 15,
      "outputs": []
    },
    {
      "cell_type": "code",
      "source": [
        "ds = tfds.load(\"wine_quality\") \n",
        "\n",
        "x_train,x_test,y_train,y_test = train_test_split(x, y,  test_size=0.20, random_state=42)\n",
        "x_train,x_test,y_train,y_test"
      ],
      "metadata": {
        "id": "lr33cvRf467W",
        "outputId": "fd9a4234-2ff3-44dd-fb75-baa7b20210b9",
        "colab": {
          "base_uri": "https://localhost:8080/"
        }
      },
      "execution_count": 16,
      "outputs": [
        {
          "output_type": "execute_result",
          "data": {
            "text/plain": [
              "(4665    0.99440\n",
              " 1943    0.99018\n",
              " 3399    0.99541\n",
              " 843     1.00030\n",
              " 2580    0.99620\n",
              "          ...   \n",
              " 4426    0.99530\n",
              " 466     0.99370\n",
              " 3092    0.99032\n",
              " 3772    0.99060\n",
              " 860     0.99264\n",
              " Name: features/density, Length: 3918, dtype: float32,\n",
              " 4656    0.99556\n",
              " 3659    0.99360\n",
              " 907     0.99990\n",
              " 4352    0.99538\n",
              " 3271    0.99026\n",
              "          ...   \n",
              " 3207    0.99060\n",
              " 1539    0.99605\n",
              " 964     0.99200\n",
              " 168     0.99454\n",
              " 3661    0.99139\n",
              " Name: features/density, Length: 980, dtype: float32,\n",
              " 4665    7.0\n",
              " 1943    6.3\n",
              " 3399    7.8\n",
              " 843     8.0\n",
              " 2580    6.5\n",
              "        ... \n",
              " 4426    6.0\n",
              " 466     6.7\n",
              " 3092    6.2\n",
              " 3772    5.6\n",
              " 860     6.7\n",
              " Name: features/fixed acidity, Length: 3918, dtype: float32,\n",
              " 4656    6.8\n",
              " 3659    6.6\n",
              " 907     8.0\n",
              " 4352    6.4\n",
              " 3271    7.5\n",
              "        ... \n",
              " 3207    8.2\n",
              " 1539    7.5\n",
              " 964     6.4\n",
              " 168     6.2\n",
              " 3661    6.9\n",
              " Name: features/fixed acidity, Length: 980, dtype: float32)"
            ]
          },
          "metadata": {},
          "execution_count": 16
        }
      ]
    },
    {
      "cell_type": "code",
      "source": [
        "\n",
        "plt.scatter(x, y)\n",
        "plt.xlabel= '343'\n",
        "plt.ylabel = 'df'\n",
        "plt.show()"
      ],
      "metadata": {
        "id": "FC2bJptBsoB5",
        "outputId": "527b3d60-1dd1-483a-ec47-671bd6ae4f21",
        "colab": {
          "base_uri": "https://localhost:8080/",
          "height": 430
        }
      },
      "execution_count": 38,
      "outputs": [
        {
          "output_type": "display_data",
          "data": {
            "text/plain": [
              "<Figure size 640x480 with 1 Axes>"
            ],
            "image/png": "[encoded data removed]"
          },
          "metadata": {}
        }
      ]
    },
    {
      "cell_type": "code",
      "source": [
        "x_mean = np.mean(x)\n",
        "y_mean = np.mean(y)"
      ],
      "metadata": {
        "id": "6PLMOuDWsv8h"
      },
      "execution_count": 18,
      "outputs": []
    },
    {
      "cell_type": "code",
      "source": [
        "#коэффициент регрессии\n",
        "a = (x - x_mean).dot(y - y_mean) / (x - x_mean).dot(x - x_mean)\n",
        "#коэффициент смещения\n",
        "b = y_mean - a * x_mean\n",
        "a,b"
      ],
      "metadata": {
        "id": "KJ6zD8Pfs1Op",
        "outputId": "2c35e30b-8b46-4247-9af5-d0d17cccb71f",
        "colab": {
          "base_uri": "https://localhost:8080/"
        }
      },
      "execution_count": 19,
      "outputs": [
        {
          "output_type": "execute_result",
          "data": {
            "text/plain": [
              "(74.861694, -67.559784)"
            ]
          },
          "metadata": {},
          "execution_count": 19
        }
      ]
    },
    {
      "cell_type": "code",
      "source": [
        "y_hat = a * x + b\n",
        "y_hat"
      ],
      "metadata": {
        "id": "CD4FS_2ws7hI",
        "outputId": "8c1ff3ad-9885-4778-97fe-0f05bc642749",
        "colab": {
          "base_uri": "https://localhost:8080/"
        }
      },
      "execution_count": 20,
      "outputs": [
        {
          "output_type": "execute_result",
          "data": {
            "text/plain": [
              "0       7.361801\n",
              "1       6.635643\n",
              "2       6.610191\n",
              "3       7.056366\n",
              "4       6.565269\n",
              "          ...   \n",
              "4893    6.596718\n",
              "4894    6.909630\n",
              "4895    7.216568\n",
              "4896    7.522751\n",
              "4897    6.593719\n",
              "Name: features/density, Length: 4898, dtype: float32"
            ]
          },
          "metadata": {},
          "execution_count": 20
        }
      ]
    },
    {
      "cell_type": "code",
      "source": [
        "plt.scatter(x, y)\n",
        "plt.plot(x, y_hat, color='r')\n"
      ],
      "metadata": {
        "id": "unWceiz8s8-X",
        "outputId": "96bd8145-1969-441d-8e76-4dd3a0c7362c",
        "colab": {
          "base_uri": "https://localhost:8080/",
          "height": 447
        }
      },
      "execution_count": 21,
      "outputs": [
        {
          "output_type": "execute_result",
          "data": {
            "text/plain": [
              "[<matplotlib.lines.Line2D at 0x7f3ae1d0d8e0>]"
            ]
          },
          "metadata": {},
          "execution_count": 21
        },
        {
          "output_type": "display_data",
          "data": {
            "text/plain": [
              "<Figure size 640x480 with 1 Axes>"
            ],
            "image/png": "[encoded data removed]"
          },
          "metadata": {}
        }
      ]
    },
    {
      "cell_type": "code",
      "source": [
        "x_predict = 1.005\n",
        "y_predict = a * x_predict + b\n",
        "y_predict"
      ],
      "metadata": {
        "id": "bmOq5L1zs7dH",
        "outputId": "a745410e-c1fa-4685-8980-f337c7591f2c",
        "colab": {
          "base_uri": "https://localhost:8080/"
        }
      },
      "execution_count": 22,
      "outputs": [
        {
          "output_type": "execute_result",
          "data": {
            "text/plain": [
              "7.676218872070308"
            ]
          },
          "metadata": {},
          "execution_count": 22
        }
      ]
    },
    {
      "cell_type": "code",
      "source": [
        "class SimpleLinReg:\n",
        "\n",
        "    def __init__(self):\n",
        "        self.a_ = None\n",
        "        self.b_ = None\n",
        "\n",
        "    def fit(self, x_train, y_train):\n",
        "        assert x_train.ndim == 1, \\\n",
        "            \"В данных должен быть один признак\"\n",
        "        assert len(x_train) == len(y_train), \\\n",
        "            \"Данные должны иметь одинаковый размер\"\n",
        "\n",
        "        x_mean = np.mean(x_train)\n",
        "        y_mean = np.mean(y_train)\n",
        "\n",
        "        self.a_ = (x_train - x_mean).dot(y_train - y_mean) / \\\n",
        "                  (x_train - x_mean).dot(x_train - x_mean)\n",
        "        self.b_ = y_mean - self.a_ * x_mean\n",
        "\n",
        "        return self\n",
        "\n",
        "    def predict(self, x_predict):\n",
        "        assert x_predict.ndim == 1, \\\n",
        "            \"В данных должен быть один признак\"\n",
        "        assert self.a_ is not None and self.b_ is not None, \\\n",
        "            \"Модель вначале должна быть обучена\"\n",
        "\n",
        "        return np.array([self._predict(x) for x in x_predict])\n",
        "\n",
        "    def _predict(self, x_single):\n",
        "        return self.a_ * x_single + self.b_\n",
        "\n",
        "    def __repr__(self):\n",
        "        return \"SimpleLinearReg()\""
      ],
      "metadata": {
        "id": "ox1O_zo3tJQx"
      },
      "execution_count": 23,
      "outputs": []
    },
    {
      "cell_type": "code",
      "source": [
        "reg1 = SimpleLinReg()\n",
        "reg1"
      ],
      "metadata": {
        "id": "al_JoaXitKdz",
        "outputId": "0137bc40-f053-4dc7-fcea-bc6fcd56590b",
        "colab": {
          "base_uri": "https://localhost:8080/"
        }
      },
      "execution_count": 24,
      "outputs": [
        {
          "output_type": "execute_result",
          "data": {
            "text/plain": [
              "SimpleLinearReg()"
            ]
          },
          "metadata": {},
          "execution_count": 24
        }
      ]
    },
    {
      "cell_type": "code",
      "source": [
        "reg1.fit(x, y)\n",
        "reg1.predict(np.array([x_predict]))"
      ],
      "metadata": {
        "id": "cEDEBET0tMzZ",
        "outputId": "b2fb5b88-f906-4d71-da26-949412178c45",
        "colab": {
          "base_uri": "https://localhost:8080/"
        }
      },
      "execution_count": 25,
      "outputs": [
        {
          "output_type": "execute_result",
          "data": {
            "text/plain": [
              "array([7.67621887])"
            ]
          },
          "metadata": {},
          "execution_count": 25
        }
      ]
    },
    {
      "cell_type": "code",
      "source": [
        "reg1.a_, reg1.b_"
      ],
      "metadata": {
        "id": "cZwlmgGVtOAp",
        "outputId": "8043fee0-0208-4b02-9826-2f2678027a96",
        "colab": {
          "base_uri": "https://localhost:8080/"
        }
      },
      "execution_count": 26,
      "outputs": [
        {
          "output_type": "execute_result",
          "data": {
            "text/plain": [
              "(74.861694, -67.559784)"
            ]
          },
          "metadata": {},
          "execution_count": 26
        }
      ]
    },
    {
      "cell_type": "code",
      "source": [
        "y_hat1 = reg1.predict(x)\n",
        "\n",
        "plt.scatter(x, y)\n",
        "plt.plot(x, y_hat1, color='r')\n"
      ],
      "metadata": {
        "id": "vdvMOW2rtPOJ",
        "outputId": "bdcfda2b-8dd8-40da-c3d7-5ba02a7a0fa7",
        "colab": {
          "base_uri": "https://localhost:8080/",
          "height": 447
        }
      },
      "execution_count": 27,
      "outputs": [
        {
          "output_type": "execute_result",
          "data": {
            "text/plain": [
              "[<matplotlib.lines.Line2D at 0x7f3ae1c83f40>]"
            ]
          },
          "metadata": {},
          "execution_count": 27
        },
        {
          "output_type": "display_data",
          "data": {
            "text/plain": [
              "<Figure size 640x480 with 1 Axes>"
            ],
            "image/png": "[encoded data removed]"
          },
          "metadata": {}
        }
      ]
    },
    {
      "cell_type": "code",
      "source": [
        "x_train.shape, y_train.shape, x_test.shape, y_test.shape"
      ],
      "metadata": {
        "id": "q_DsgLUNtYJY",
        "outputId": "b398acd8-85c4-4ee1-c21d-6dc0dcd65c58",
        "colab": {
          "base_uri": "https://localhost:8080/"
        }
      },
      "execution_count": 28,
      "outputs": [
        {
          "output_type": "execute_result",
          "data": {
            "text/plain": [
              "((3918,), (3918,), (980,), (980,))"
            ]
          },
          "metadata": {},
          "execution_count": 28
        }
      ]
    },
    {
      "cell_type": "code",
      "source": [
        "df_train = pd.DataFrame(x_train)\n",
        "df_train"
      ],
      "metadata": {
        "id": "pICT8wVzuK6J",
        "outputId": "25162d50-4214-4af3-b36a-bd40b30e8f41",
        "colab": {
          "base_uri": "https://localhost:8080/",
          "height": 423
        }
      },
      "execution_count": 29,
      "outputs": [
        {
          "output_type": "execute_result",
          "data": {
            "text/plain": [
              "      features/density\n",
              "4665           0.99440\n",
              "1943           0.99018\n",
              "3399           0.99541\n",
              "843            1.00030\n",
              "2580           0.99620\n",
              "...                ...\n",
              "4426           0.99530\n",
              "466            0.99370\n",
              "3092           0.99032\n",
              "3772           0.99060\n",
              "860            0.99264\n",
              "\n",
              "[3918 rows x 1 columns]"
            ],
            "text/html": [
              "\n",
              "  <div id=\"df-f1271bab-2e55-43d2-8378-ac48fe4afd0c\">\n",
              "    <div class=\"colab-df-container\">\n",
              "      <div>\n",
              "<style scoped>\n",
              "    .dataframe tbody tr th:only-of-type {\n",
              "        vertical-align: middle;\n",
              "    }\n",
              "\n",
              "    .dataframe tbody tr th {\n",
              "        vertical-align: top;\n",
              "    }\n",
              "\n",
              "    .dataframe thead th {\n",
              "        text-align: right;\n",
              "    }\n",
              "</style>\n",
              "<table border=\"1\" class=\"dataframe\">\n",
              "  <thead>\n",
              "    <tr style=\"text-align: right;\">\n",
              "      <th></th>\n",
              "      <th>features/density</th>\n",
              "    </tr>\n",
              "  </thead>\n",
              "  <tbody>\n",
              "    <tr>\n",
              "      <th>4665</th>\n",
              "      <td>0.99440</td>\n",
              "    </tr>\n",
              "    <tr>\n",
              "      <th>1943</th>\n",
              "      <td>0.99018</td>\n",
              "    </tr>\n",
              "    <tr>\n",
              "      <th>3399</th>\n",
              "      <td>0.99541</td>\n",
              "    </tr>\n",
              "    <tr>\n",
              "      <th>843</th>\n",
              "      <td>1.00030</td>\n",
              "    </tr>\n",
              "    <tr>\n",
              "      <th>2580</th>\n",
              "      <td>0.99620</td>\n",
              "    </tr>\n",
              "    <tr>\n",
              "      <th>...</th>\n",
              "      <td>...</td>\n",
              "    </tr>\n",
              "    <tr>\n",
              "      <th>4426</th>\n",
              "      <td>0.99530</td>\n",
              "    </tr>\n",
              "    <tr>\n",
              "      <th>466</th>\n",
              "      <td>0.99370</td>\n",
              "    </tr>\n",
              "    <tr>\n",
              "      <th>3092</th>\n",
              "      <td>0.99032</td>\n",
              "    </tr>\n",
              "    <tr>\n",
              "      <th>3772</th>\n",
              "      <td>0.99060</td>\n",
              "    </tr>\n",
              "    <tr>\n",
              "      <th>860</th>\n",
              "      <td>0.99264</td>\n",
              "    </tr>\n",
              "  </tbody>\n",
              "</table>\n",
              "<p>3918 rows × 1 columns</p>\n",
              "</div>\n",
              "      <button class=\"colab-df-convert\" onclick=\"convertToInteractive('df-f1271bab-2e55-43d2-8378-ac48fe4afd0c')\"\n",
              "              title=\"Convert this dataframe to an interactive table.\"\n",
              "              style=\"display:none;\">\n",
              "        \n",
              "  <svg xmlns=\"http://www.w3.org/2000/svg\" height=\"24px\"viewBox=\"0 0 24 24\"\n",
              "       width=\"24px\">\n",
              "    <path d=\"M0 0h24v24H0V0z\" fill=\"none\"/>\n",
              "    <path d=\"M18.56 5.44l.94 2.06.94-2.06 2.06-.94-2.06-.94-.94-2.06-.94 2.06-2.06.94zm-11 1L8.5 8.5l.94-2.06 2.06-.94-2.06-.94L8.5 2.5l-.94 2.06-2.06.94zm10 10l.94 2.06.94-2.06 2.06-.94-2.06-.94-.94-2.06-.94 2.06-2.06.94z\"/><path d=\"M17.41 7.96l-1.37-1.37c-.4-.4-.92-.59-1.43-.59-.52 0-1.04.2-1.43.59L10.3 9.45l-7.72 7.72c-.78.78-.78 2.05 0 2.83L4 21.41c.39.39.9.59 1.41.59.51 0 1.02-.2 1.41-.59l7.78-7.78 2.81-2.81c.8-.78.8-2.07 0-2.86zM5.41 20L4 18.59l7.72-7.72 1.47 1.35L5.41 20z\"/>\n",
              "  </svg>\n",
              "      </button>\n",
              "      \n",
              "  <style>\n",
              "    .colab-df-container {\n",
              "      display:flex;\n",
              "      flex-wrap:wrap;\n",
              "      gap: 12px;\n",
              "    }\n",
              "\n",
              "    .colab-df-convert {\n",
              "      background-color: #E8F0FE;\n",
              "      border: none;\n",
              "      border-radius: 50%;\n",
              "      cursor: pointer;\n",
              "      display: none;\n",
              "      fill: #1967D2;\n",
              "      height: 32px;\n",
              "      padding: 0 0 0 0;\n",
              "      width: 32px;\n",
              "    }\n",
              "\n",
              "    .colab-df-convert:hover {\n",
              "      background-color: #E2EBFA;\n",
              "      box-shadow: 0px 1px 2px rgba(60, 64, 67, 0.3), 0px 1px 3px 1px rgba(60, 64, 67, 0.15);\n",
              "      fill: #174EA6;\n",
              "    }\n",
              "\n",
              "    [theme=dark] .colab-df-convert {\n",
              "      background-color: #3B4455;\n",
              "      fill: #D2E3FC;\n",
              "    }\n",
              "\n",
              "    [theme=dark] .colab-df-convert:hover {\n",
              "      background-color: #434B5C;\n",
              "      box-shadow: 0px 1px 3px 1px rgba(0, 0, 0, 0.15);\n",
              "      filter: drop-shadow(0px 1px 2px rgba(0, 0, 0, 0.3));\n",
              "      fill: #FFFFFF;\n",
              "    }\n",
              "  </style>\n",
              "\n",
              "      <script>\n",
              "        const buttonEl =\n",
              "          document.querySelector('#df-f1271bab-2e55-43d2-8378-ac48fe4afd0c button.colab-df-convert');\n",
              "        buttonEl.style.display =\n",
              "          google.colab.kernel.accessAllowed ? 'block' : 'none';\n",
              "\n",
              "        async function convertToInteractive(key) {\n",
              "          const element = document.querySelector('#df-f1271bab-2e55-43d2-8378-ac48fe4afd0c');\n",
              "          const dataTable =\n",
              "            await google.colab.kernel.invokeFunction('convertToInteractive',\n",
              "                                                     [key], {});\n",
              "          if (!dataTable) return;\n",
              "\n",
              "          const docLinkHtml = 'Like what you see? Visit the ' +\n",
              "            '<a target=\"_blank\" href=https://colab.research.google.com/notebooks/data_table.ipynb>data table notebook</a>'\n",
              "            + ' to learn more about interactive tables.';\n",
              "          element.innerHTML = '';\n",
              "          dataTable['output_type'] = 'display_data';\n",
              "          await google.colab.output.renderOutput(dataTable, element);\n",
              "          const docLink = document.createElement('div');\n",
              "          docLink.innerHTML = docLinkHtml;\n",
              "          element.appendChild(docLink);\n",
              "        }\n",
              "      </script>\n",
              "    </div>\n",
              "  </div>\n",
              "  "
            ]
          },
          "metadata": {},
          "execution_count": 29
        }
      ]
    },
    {
      "cell_type": "code",
      "source": [
        "x = x_train\n",
        "y = y_train\n",
        "x.shape, y.shape\n"
      ],
      "metadata": {
        "id": "JkudlK7MuWER",
        "outputId": "dce5ded3-ba3f-4770-9e9f-6098ca686607",
        "colab": {
          "base_uri": "https://localhost:8080/"
        }
      },
      "execution_count": 73,
      "outputs": [
        {
          "output_type": "execute_result",
          "data": {
            "text/plain": [
              "((3918,), (3918,))"
            ]
          },
          "metadata": {},
          "execution_count": 73
        }
      ]
    },
    {
      "cell_type": "code",
      "source": [
        "plt.scatter(x, y);\n",
        "#набор переменных для парной регрессии"
      ],
      "metadata": {
        "id": "AS_06SW3uY3B",
        "outputId": "fd476f87-4690-4d65-b08b-d029ef75fbbb",
        "colab": {
          "base_uri": "https://localhost:8080/",
          "height": 430
        }
      },
      "execution_count": 74,
      "outputs": [
        {
          "output_type": "display_data",
          "data": {
            "text/plain": [
              "<Figure size 640x480 with 1 Axes>"
            ],
            "image/png": "[encoded data removed]"
          },
          "metadata": {}
        }
      ]
    },
    {
      "cell_type": "code",
      "source": [
        "reg = SimpleLinReg()\n",
        "reg.fit(x, y)"
      ],
      "metadata": {
        "id": "cID3z9vkDYOm",
        "outputId": "3a9be298-2e13-4713-8c00-18e563e618ba",
        "colab": {
          "base_uri": "https://localhost:8080/"
        }
      },
      "execution_count": 75,
      "outputs": [
        {
          "output_type": "execute_result",
          "data": {
            "text/plain": [
              "SimpleLinearReg()"
            ]
          },
          "metadata": {},
          "execution_count": 75
        }
      ]
    },
    {
      "cell_type": "code",
      "source": [
        "reg.a_, reg.b_"
      ],
      "metadata": {
        "id": "MJgeBgpmDf9M",
        "outputId": "452e522a-e34e-4b7a-d6be-1e29ed0e363c",
        "colab": {
          "base_uri": "https://localhost:8080/"
        }
      },
      "execution_count": 76,
      "outputs": [
        {
          "output_type": "execute_result",
          "data": {
            "text/plain": [
              "(74.026276, -66.73799)"
            ]
          },
          "metadata": {},
          "execution_count": 76
        }
      ]
    },
    {
      "cell_type": "code",
      "source": [
        "plt.scatter(x, y)\n",
        "plt.scatter(x_test, y_test, color=\"c\")\n",
        "plt.plot(x, reg.predict(x), color='r');"
      ],
      "metadata": {
        "id": "zrsHtbnbDlKl",
        "outputId": "51e9c39b-06d4-4eb0-8d85-47b89abdd0e8",
        "colab": {
          "base_uri": "https://localhost:8080/",
          "height": 430
        }
      },
      "execution_count": 77,
      "outputs": [
        {
          "output_type": "display_data",
          "data": {
            "text/plain": [
              "<Figure size 640x480 with 1 Axes>"
            ],
            "image/png": "[encoded data removed]"
          },
          "metadata": {}
        }
      ]
    },
    {
      "cell_type": "code",
      "source": [
        "x = x[x < 1.03]\n",
        "y = y[y< 13]\n"
      ],
      "metadata": {
        "id": "9-jt566CGJTN"
      },
      "execution_count": 79,
      "outputs": []
    },
    {
      "cell_type": "code",
      "source": [
        "plt.scatter(x, y)\n",
        "plt.scatter(x_test, y_test, color=\"c\")\n",
        "plt.plot(x, reg.predict(x), color='r');"
      ],
      "metadata": {
        "id": "4_fercz8G4Hl",
        "outputId": "a53f091d-9483-44c6-ab9d-5d463792b373",
        "colab": {
          "base_uri": "https://localhost:8080/",
          "height": 430
        }
      },
      "execution_count": 80,
      "outputs": [
        {
          "output_type": "display_data",
          "data": {
            "text/plain": [
              "<Figure size 640x480 with 1 Axes>"
            ],
            "image/png": "[encoded data removed]"
          },
          "metadata": {}
        }
      ]
    },
    {
      "cell_type": "code",
      "source": [
        "y_predict = reg.predict(x_test)\n",
        "y_predict"
      ],
      "metadata": {
        "id": "GIw-jX1pGSYd",
        "outputId": "b68a9319-f1dc-4256-c97c-7ad4aabff3de",
        "colab": {
          "base_uri": "https://localhost:8080/"
        }
      },
      "execution_count": 81,
      "outputs": [
        {
          "output_type": "execute_result",
          "data": {
            "text/plain": [
              "array([6.95960693, 6.81451694, 7.28088045, 6.94628175, 6.56726875,\n",
              "       6.46140861, 6.9773753 , 6.87373897, 6.63685087, 6.6768264 ,\n",
              "       7.22166284, 6.8515274 , 6.94036043, 7.12542594, 7.13430792,\n",
              "       6.97589276, 6.4532679 , 6.95516814, 6.62945143, 6.5258151 ,\n",
              "       6.50508606, 6.88854227, 6.98033596, 6.63389021, 6.91815328,\n",
              "       6.80711309, 6.61390686, 6.70643741, 7.11062265, 6.56874687,\n",
              "       6.74789106, 6.54802225, 6.50286667, 6.49916474, 6.72198198,\n",
              "       6.80489369, 6.65165859, 6.93295658, 6.75529492, 7.02327215,\n",
              "       6.79970923, 6.92629399, 7.18464797, 6.96256759, 6.65165859,\n",
              "       6.84560608, 6.83968476, 6.75677746, 6.71976259, 6.65461925,\n",
              "       6.77750208, 6.7686201 , 6.70051609, 6.96256759, 6.57615073,\n",
              "       6.82932024, 6.61464372, 6.84412795, 7.21425898, 7.09581493,\n",
              "       6.80341116, 6.53321454, 7.11062265, 7.09581493, 7.02178961,\n",
              "       6.8515274 , 7.1328298 , 7.02919347, 6.54357906, 6.70125736,\n",
              "       6.73308776, 6.92555713, 6.77306329, 6.6812696 , 7.15503696,\n",
              "       7.04399677, 6.77750208, 6.70347675, 7.14023366, 6.90334556,\n",
              "       6.96108946, 6.76047497, 6.82414019, 6.88113841, 6.78490593,\n",
              "       6.79970923, 6.57763326, 7.15503696, 6.78342339, 6.80711309,\n",
              "       6.96997144, 6.85893125, 7.24830877, 6.85449247, 6.83080278,\n",
              "       6.93295658, 6.79970923, 6.66646189, 6.77009822, 6.88854227,\n",
              "       7.00846443, 6.57022941, 6.56726875, 6.4658518 , 6.58503271,\n",
              "       6.94332109, 6.91371008, 6.79970923, 7.1794635 , 6.56134743,\n",
              "       6.82932024, 6.67386574, 7.19205182, 6.6812696 , 6.74789106,\n",
              "       6.68274772, 6.90334556, 6.94036043, 7.50665834, 6.99513926,\n",
              "       6.62204757, 6.8219208 , 7.0136489 , 6.89298546, 6.55542611,\n",
              "       6.88854227, 7.04029484, 7.05880448, 7.16984026, 6.5213719 ,\n",
              "       6.58355458, 6.5065686 , 6.67756767, 7.15503696, 7.1328298 ,\n",
              "       6.70421802, 6.91519262, 6.77750208, 6.56134743, 6.9003849 ,\n",
              "       6.83820663, 6.70791995, 7.06990585, 6.70939807, 7.07656844,\n",
              "       6.68867345, 6.59984042, 6.79970923, 7.21721964, 6.71384127,\n",
              "       7.25126943, 7.03659291, 7.28088045, 6.70125736, 6.57393133,\n",
              "       6.96997144, 6.50952926, 6.68423026, 6.91815328, 6.77306329,\n",
              "       7.01216636, 6.78490593, 6.96997144, 6.88558161, 7.16984026,\n",
              "       7.08101163, 6.68274772, 7.06546707, 7.10766199, 7.01438575,\n",
              "       6.75529492, 7.18464797, 6.5258151 , 6.8174776 , 6.82932024,\n",
              "       6.9773753 , 7.1328298 , 6.89520485, 7.04991809, 6.79970923,\n",
              "       7.09581493, 6.5532023 , 7.04103611, 7.18464797, 6.85300993,\n",
              "       7.14023366, 6.56578621, 6.89594612, 6.71976259, 7.16244081,\n",
              "       6.97885342, 6.60131854, 7.16244081, 7.2882843 , 7.08101163,\n",
              "       6.66054057, 7.18464797, 6.60724427, 6.75529492, 6.83746537,\n",
              "       7.10396006, 6.92555713, 6.57911139, 6.67756767, 6.61020493,\n",
              "       6.96256759, 7.05140062, 7.3178909 , 6.81895573, 7.18094604,\n",
              "       6.67978706, 6.67386574, 7.16095828, 6.71088061, 6.8515274 ,\n",
              "       6.9240746 , 6.90334556, 6.8219208 , 6.87447582, 6.92555713,\n",
              "       6.50804672, 6.72568391, 6.63685087, 6.59984042, 6.64425473,\n",
              "       6.96997144, 7.03659291, 6.75233426, 6.6812696 , 6.6960729 ,\n",
              "       6.66942254, 7.46595037, 6.91223196, 6.50804672, 6.74641294,\n",
              "       7.02178961, 6.62204757, 7.03659291, 6.60724427, 6.67386574,\n",
              "       8.05075792, 7.19205182, 6.88336221, 6.61834565, 6.82932024,\n",
              "       6.87077831, 6.62204757, 6.64869793, 6.82414019, 6.78490593,\n",
              "       6.55986489, 7.14023366, 6.62945143, 6.65313671, 6.70347675,\n",
              "       6.88113841, 6.62796889, 6.74049162, 6.87151516, 6.71828005,\n",
              "       6.67090508, 6.75529492, 7.24830877, 6.51248992, 6.48880023,\n",
              "       7.03881671, 6.92777652, 6.67830894, 6.9966218 , 6.94776429,\n",
              "       7.04399677, 6.56282555, 6.62204757, 6.96256759, 6.7279033 ,\n",
              "       6.6812696 , 6.60428361, 6.67830894, 6.5746726 , 6.5258151 ,\n",
              "       6.94776429, 7.03511479, 6.84190415, 6.85893125, 6.95368561,\n",
              "       6.74715421, 7.19945127, 6.71976259, 6.65461925, 7.25126943,\n",
              "       7.13134726, 6.6812696 , 7.13430792, 6.48880023, 7.15503696,\n",
              "       7.0795291 , 7.01882895, 6.52433256, 6.70495929, 7.04843996,\n",
              "       6.54876352, 6.64573727, 6.94480363, 6.6960729 , 7.16984026,\n",
              "       7.15503696, 6.82932024, 7.15503696, 6.68423026, 6.77009822,\n",
              "       6.82932024, 6.87669963, 6.78490593, 6.67386574, 6.50619797,\n",
              "       7.23202294, 7.02475027, 6.95220307, 6.93295658, 6.79970923,\n",
              "       6.74049162, 6.67830894, 6.54802225, 6.60724427, 6.63685087,\n",
              "       7.00698631, 7.05880448, 6.74049162, 6.79527045, 7.17576599,\n",
              "       6.82932024, 6.66942254, 7.08841549, 6.65165859, 7.03215413,\n",
              "       6.4169943 , 6.66868569, 7.15873888, 6.64129407, 6.68719092,\n",
              "       7.08545042, 6.51915251, 6.97589276, 6.66646189, 6.76565944,\n",
              "       7.1158027 , 6.53765774, 7.06620392, 6.93295658, 6.72568391,\n",
              "       7.29568816, 6.57097067, 6.71828005, 7.13579046, 7.08101163,\n",
              "       6.48583957, 7.14541371, 6.83154405, 7.50665834, 6.65017605,\n",
              "       6.7493736 , 7.03215413, 6.77009822, 7.20241193, 6.91667074,\n",
              "       6.58281331, 6.58133519, 6.84264542, 7.18464797, 6.69903356,\n",
              "       6.72568391, 7.14023366, 7.21129832, 6.4658518 , 7.07212965,\n",
              "       6.9773753 , 6.83080278, 6.82932024, 6.63685087, 6.71384127,\n",
              "       6.75529492, 6.86485257, 7.05214189, 6.58503271, 6.59539722,\n",
              "       6.84264542, 6.67386574, 6.70717868, 7.16614274, 6.61686752,\n",
              "       7.01438575, 6.79970923, 6.93295658, 6.58355458, 6.87225643,\n",
              "       6.82932024, 7.09951686, 7.00698631, 6.59762103, 7.0795291 ,\n",
              "       6.56282555, 6.93295658, 6.67830894, 6.72568391, 6.97589276,\n",
              "       6.87373897, 6.6960729 , 6.96848891, 6.76269878, 6.54357906,\n",
              "       7.06620392, 6.99958246, 6.48583957, 6.5043448 , 7.05436128,\n",
              "       6.7538168 , 6.57393133, 7.1328298 , 7.01290763, 7.18612609,\n",
              "       6.6768264 , 6.95960693, 6.70643741, 6.69459477, 6.8515274 ,\n",
              "       6.84264542, 6.98477474, 6.71458254, 7.14171178, 6.63685087,\n",
              "       6.97145398, 7.06620392, 6.65906244, 7.08619169, 6.80119177,\n",
              "       6.6812696 , 7.10914011, 6.84412795, 6.54802225, 6.84412795,\n",
              "       6.65165859, 7.2882843 , 6.65906244, 6.52729322, 6.40144973,\n",
              "       6.77750208, 6.81155628, 6.85893125, 6.75529492, 6.91815328,\n",
              "       6.66720315, 6.88113841, 6.76269878, 6.50508606, 7.01142509,\n",
              "       6.9773753 , 6.93295658, 7.00402124, 6.84930801, 7.1328298 ,\n",
              "       6.60280108, 6.88854227, 6.88854227, 6.62945143, 6.8219208 ,\n",
              "       6.8367241 , 6.96256759, 6.91519262, 6.63092955, 7.02178961,\n",
              "       6.6597993 , 6.74049162, 6.72568391, 7.273481  , 6.70347675,\n",
              "       6.60724427, 6.63685087, 6.9921786 , 7.14023366, 6.98477474,\n",
              "       7.1476331 , 6.50841736, 7.07360778, 7.31049587, 6.88854227,\n",
              "       6.8367241 , 6.67016381, 6.68423026, 6.7493736 , 6.71828005,\n",
              "       6.95516814, 6.50804672, 6.94776429, 6.74789106, 6.77602395,\n",
              "       7.16244081, 7.01438575, 7.04843996, 6.72568391, 6.8219208 ,\n",
              "       6.60354235, 6.92703526, 7.19945127, 6.96552825, 6.82488146,\n",
              "       6.51323119, 6.88632287, 6.67238762, 6.84116729, 6.77602395,\n",
              "       6.94776429, 6.82932024, 7.07360778, 6.80711309, 6.96701078,\n",
              "       6.77009822, 7.06250199, 7.15873888, 6.71384127, 7.24238745,\n",
              "       7.00698631, 6.75529492, 6.90334556, 7.16984026, 6.6257495 ,\n",
              "       6.75529492, 6.78194527, 6.58207205, 6.84264542, 7.33269861,\n",
              "       6.94036043, 6.9773753 , 6.99809992, 6.72864457, 6.66942254,\n",
              "       6.63241209, 6.97811216, 6.4873221 , 6.77750208, 6.78638405,\n",
              "       7.03659291, 6.82932024, 7.15503696, 6.58577397, 6.85893125,\n",
              "       6.64869793, 7.09729747, 6.7323465 , 6.5021254 , 6.9196314 ,\n",
              "       6.66646189, 6.77009822, 6.77009822, 6.74049162, 6.66646189,\n",
              "       6.84412795, 6.66646189, 6.53321454, 6.61464372, 6.63389021,\n",
              "       6.97589276, 7.07434905, 6.91371008, 6.781204  , 6.9751515 ,\n",
              "       6.90334556, 6.62500823, 7.16244081, 6.76269878, 6.79230979,\n",
              "       7.02919347, 6.78490593, 6.63981595, 6.59095844, 6.86263318,\n",
              "       7.02919347, 6.94628175, 7.01438575, 6.68423026, 6.6812696 ,\n",
              "       6.58281331, 7.1476331 , 6.52729322, 6.74789106, 6.85893125,\n",
              "       6.5065686 , 6.60724427, 6.98477474, 7.05880448, 6.89298546,\n",
              "       6.78490593, 7.11062265, 7.08101163, 6.55542611, 6.77009822,\n",
              "       6.58799778, 6.70347675, 6.65906244, 6.8537512 , 6.72346452,\n",
              "       6.98329662, 6.75529492, 6.5361752 , 6.58725651, 6.93369784,\n",
              "       6.62500823, 6.94036043, 7.273481  , 7.16095828, 7.05880448,\n",
              "       6.94036043, 7.15503696, 7.1283866 , 6.6960729 , 6.9773753 ,\n",
              "       6.96997144, 6.50804672, 6.72420578, 6.93814104, 6.56430809,\n",
              "       6.470295  , 7.34750632, 6.93295658, 6.64425473, 6.95516814,\n",
              "       6.62204757, 6.71088061, 6.78934913, 6.62945143, 6.95516814,\n",
              "       6.69459477, 6.64869793, 6.99366114, 6.91815328, 6.6812696 ,\n",
              "       6.68793218, 7.05954133, 7.23646613, 6.84412795, 7.24386999,\n",
              "       6.81599507, 7.00698631, 6.61464372, 6.77158076, 7.14023366,\n",
              "       6.96775205, 7.34750632, 6.82932024, 6.82932024, 6.92555713,\n",
              "       6.75529492, 6.90334556, 6.69237097, 6.75529492, 6.94776429,\n",
              "       6.50064287, 7.16021701, 6.91667074, 6.6960729 , 7.22906228,\n",
              "       6.75529492, 6.87743648, 6.78490593, 6.73678969, 7.12024589,\n",
              "       6.77750208, 6.6087224 , 6.51545058, 6.9773753 , 6.66128183,\n",
              "       6.79823111, 6.93147845, 6.87373897, 6.6812696 , 6.6812696 ,\n",
              "       6.85893125, 7.08693295, 6.93295658, 6.76121624, 7.20685512,\n",
              "       6.74789106, 6.49324342, 6.8515274 , 6.59243656, 6.96256759,\n",
              "       6.89520485, 6.57097067, 6.75085172, 6.96997144, 6.57985265,\n",
              "       6.61094179, 6.48880023, 7.19945127, 6.78490593, 6.65906244,\n",
              "       6.94776429, 7.02919347, 6.88854227, 6.5258151 , 7.19352995,\n",
              "       6.74641294, 6.62204757, 6.955905  , 6.88040155, 6.8219208 ,\n",
              "       6.77009822, 7.03659291, 7.29568816, 7.3178909 , 6.83154405,\n",
              "       6.5724488 , 6.46659307, 6.83524156, 6.54802225, 6.41625303,\n",
              "       7.25571263, 7.20685512, 6.59687976, 7.06916458, 6.54802225,\n",
              "       7.21425898, 6.75529492, 6.94036043, 6.50804672, 6.69089284,\n",
              "       6.63537275, 6.79970923, 7.34010247, 6.79970923, 7.02178961,\n",
              "       6.84412795, 7.2882843 , 6.75529492, 7.21277644, 6.62945143,\n",
              "       7.25867329, 6.77009822, 7.04991809, 6.76936136, 6.46363241,\n",
              "       6.98477474, 6.64351346, 7.00698631, 6.8367241 , 6.81451694,\n",
              "       7.10321879, 6.74789106, 7.15873888, 6.59909915, 6.71088061,\n",
              "       6.82561831, 6.50360794, 6.82932024, 6.88113841, 6.75677746,\n",
              "       6.60798113, 6.94776429, 6.9773753 , 6.9773753 , 6.9196314 ,\n",
              "       6.8219208 , 7.1328298 , 6.57985265, 6.67386574, 6.97441464,\n",
              "       7.1328298 , 6.89594612, 7.05954133, 6.85893125, 6.5213719 ,\n",
              "       6.98477474, 6.79970923, 6.72494264, 7.03067159, 7.16244081,\n",
              "       6.93591724, 7.16984026, 6.78786659, 6.87373897, 6.97441464,\n",
              "       6.86633511, 6.64425473, 7.05140062, 7.01438575, 7.01438575,\n",
              "       6.47843571, 6.8515274 , 6.87225643, 7.14023366, 6.48880023,\n",
              "       7.14023366, 7.02919347, 6.68274772, 6.76269878, 7.16058764,\n",
              "       6.8219208 , 6.59465595, 6.78786659, 6.88705973, 7.20685512,\n",
              "       6.51396804, 6.84560608, 6.72198198, 6.96552825, 7.14615498,\n",
              "       6.88409907, 6.79970923, 7.10321879, 6.54653972, 6.6301927 ,\n",
              "       6.87373897, 6.92999592, 6.76195751, 6.84856674, 6.54802225,\n",
              "       6.57393133, 7.24016806, 7.1883499 , 7.4333787 , 6.84412795,\n",
              "       6.86781323, 7.16984026, 6.95220307, 6.93295658, 6.59095844,\n",
              "       7.00106058, 6.60724427, 6.77454142, 7.16984026, 6.79378791,\n",
              "       7.1328298 , 6.6812696 , 6.58133519, 7.19205182, 7.0454793 ,\n",
              "       6.97811216, 6.82932024, 6.95664627, 7.2882843 , 6.69533163,\n",
              "       7.2882843 , 7.05065935, 6.74789106, 7.19205182, 7.0602826 ,\n",
              "       6.51766997, 6.8367241 , 7.17576599, 6.66498376, 6.91815328,\n",
              "       6.96479139, 7.14245305, 7.2882843 , 6.68570838, 6.55098291,\n",
              "       6.74715421, 6.84412795, 6.82932024, 7.08989361, 6.67386574,\n",
              "       6.96256759, 6.65387798, 7.00106058, 6.65165859, 7.02178961,\n",
              "       6.88854227, 7.16318208, 6.75529492, 6.66646189, 6.68793218,\n",
              "       7.273481  , 6.65165859, 6.70495929, 7.06620392, 7.14023366,\n",
              "       7.19945127, 6.85893125, 6.90408683, 7.33269861, 6.63685087,\n",
              "       6.85893125, 7.11802209, 7.05140062, 6.70791995, 6.81451694,\n",
              "       6.7279033 , 6.90334556, 6.8515274 , 6.78490593, 6.82932024,\n",
              "       7.14541371, 7.05140062, 6.49324342, 7.02549154, 7.07434905,\n",
              "       6.62796889, 6.79970923, 6.67978706, 7.21943903, 6.52063063,\n",
              "       6.80266989, 6.84412795, 7.08101163, 6.65313671, 6.538399  ,\n",
              "       6.80711309, 7.21425898, 6.70347675, 6.57615073, 6.76269878,\n",
              "       6.75529492, 7.18612609, 7.10766199, 6.81451694, 6.78490593,\n",
              "       6.74049162, 6.51248992, 6.8367241 , 6.76269878, 6.66794442,\n",
              "       7.11062265, 7.16984026, 6.94776429, 6.94776429, 7.19945127,\n",
              "       6.91593388, 6.57763326, 6.81451694, 6.91074942, 6.66794442,\n",
              "       6.54802225, 6.65610178, 7.19205182, 7.02178961, 6.71828005,\n",
              "       6.66276437, 6.79970923, 6.9773753 , 6.56430809, 6.84412795,\n",
              "       6.91815328, 7.02919347, 7.15873888, 6.71088061, 7.06620392,\n",
              "       6.67386574, 6.75529492, 6.79970923, 6.8367241 , 6.61464372,\n",
              "       6.94924241, 6.78934913, 6.67016381, 6.71828005, 6.85893125,\n",
              "       7.32307978, 7.21721964, 6.70199422, 6.79970923, 7.01142509,\n",
              "       6.60354235, 7.26681841, 7.09581493, 6.7301271 , 6.64425473,\n",
              "       7.10321879, 6.87373897, 6.8174776 , 7.03659291, 6.96108946,\n",
              "       6.75529492, 6.88113841, 6.94776429, 6.7449304 , 6.6960729 ,\n",
              "       6.59243656, 6.99588053, 6.6960729 , 6.88409907, 6.65091732])"
            ]
          },
          "metadata": {},
          "execution_count": 81
        }
      ]
    },
    {
      "cell_type": "code",
      "source": [
        "def check_R2(y_predict):\n",
        "  mse_test = np.sum((y_predict - y_test)**2) / len(y_test)\n",
        "  return f'R^2 точного подхода : {1 - mse_test/np.var(y_test)}'\n"
      ],
      "metadata": {
        "id": "Gv3gkRNSHuZN"
      },
      "execution_count": 90,
      "outputs": []
    },
    {
      "cell_type": "code",
      "source": [],
      "metadata": {
        "id": "dr1AtWNfJt7f"
      },
      "execution_count": null,
      "outputs": []
    },
    {
      "cell_type": "markdown",
      "source": [
        "при помощи нейронной сети:"
      ],
      "metadata": {
        "id": "RxhBaD-rrmva"
      }
    },
    {
      "cell_type": "code",
      "source": [
        "import tensorflow as tf"
      ],
      "metadata": {
        "id": "zVCXsWpeqUEx"
      },
      "execution_count": 32,
      "outputs": []
    },
    {
      "cell_type": "code",
      "source": [
        "model = tf.keras.Sequential( [ tf.keras.layers.Dense(1, input_shape=(1,)) ] )"
      ],
      "metadata": {
        "id": "x7OKiu7MrCn_"
      },
      "execution_count": 33,
      "outputs": []
    },
    {
      "cell_type": "code",
      "source": [
        "model.summary()"
      ],
      "metadata": {
        "id": "7iK5ST0frEr3",
        "outputId": "bf4a3b5b-cfe4-41e6-ce76-d66223515d9c",
        "colab": {
          "base_uri": "https://localhost:8080/"
        }
      },
      "execution_count": 34,
      "outputs": [
        {
          "output_type": "stream",
          "name": "stdout",
          "text": [
            "Model: \"sequential\"\n",
            "_________________________________________________________________\n",
            " Layer (type)                Output Shape              Param #   \n",
            "=================================================================\n",
            " dense (Dense)               (None, 1)                 2         \n",
            "                                                                 \n",
            "=================================================================\n",
            "Total params: 2\n",
            "Trainable params: 2\n",
            "Non-trainable params: 0\n",
            "_________________________________________________________________\n"
          ]
        }
      ]
    },
    {
      "cell_type": "code",
      "source": [
        "model.compile(\n",
        "    loss=tf.keras.losses.mean_absolute_error,\n",
        "    optimizer=tf.keras.optimizers.Adam(learning_rate=0.25),\n",
        "    metrics=['mean_absolute_error']\n",
        ")\n",
        "#R2"
      ],
      "metadata": {
        "id": "DVrFxxeCrGqX"
      },
      "execution_count": 86,
      "outputs": []
    },
    {
      "cell_type": "code",
      "source": [
        "model.fit(x, y, epochs=100) # verbose=0  процесс обучения будет скрыт и не будет отображаться в выводе"
      ],
      "metadata": {
        "id": "Brdv7aOErK4X",
        "outputId": "285f9f83-32d6-4a0a-bc0c-505a0265c360",
        "colab": {
          "base_uri": "https://localhost:8080/"
        }
      },
      "execution_count": 87,
      "outputs": [
        {
          "output_type": "stream",
          "name": "stdout",
          "text": [
            "Epoch 1/100\n",
            "123/123 [==============================] - 1s 2ms/step - loss: 0.6650 - mean_absolute_error: 0.6650\n",
            "Epoch 2/100\n",
            "123/123 [==============================] - 0s 2ms/step - loss: 0.6480 - mean_absolute_error: 0.6480\n",
            "Epoch 3/100\n",
            "123/123 [==============================] - 0s 2ms/step - loss: 0.6566 - mean_absolute_error: 0.6566\n",
            "Epoch 4/100\n",
            "123/123 [==============================] - 0s 2ms/step - loss: 0.6584 - mean_absolute_error: 0.6584\n",
            "Epoch 5/100\n",
            "123/123 [==============================] - 0s 2ms/step - loss: 0.6507 - mean_absolute_error: 0.6507\n",
            "Epoch 6/100\n",
            "123/123 [==============================] - 0s 2ms/step - loss: 0.6479 - mean_absolute_error: 0.6479\n",
            "Epoch 7/100\n",
            "123/123 [==============================] - 0s 2ms/step - loss: 0.6471 - mean_absolute_error: 0.6471\n",
            "Epoch 8/100\n",
            "123/123 [==============================] - 0s 2ms/step - loss: 0.6639 - mean_absolute_error: 0.6639\n",
            "Epoch 9/100\n",
            "123/123 [==============================] - 0s 2ms/step - loss: 0.6519 - mean_absolute_error: 0.6519\n",
            "Epoch 10/100\n",
            "123/123 [==============================] - 0s 2ms/step - loss: 0.6491 - mean_absolute_error: 0.6491\n",
            "Epoch 11/100\n",
            "123/123 [==============================] - 0s 2ms/step - loss: 0.6557 - mean_absolute_error: 0.6557\n",
            "Epoch 12/100\n",
            "123/123 [==============================] - 0s 2ms/step - loss: 0.6425 - mean_absolute_error: 0.6425\n",
            "Epoch 13/100\n",
            "123/123 [==============================] - 0s 2ms/step - loss: 0.6616 - mean_absolute_error: 0.6616\n",
            "Epoch 14/100\n",
            "123/123 [==============================] - 0s 2ms/step - loss: 0.6505 - mean_absolute_error: 0.6505\n",
            "Epoch 15/100\n",
            "123/123 [==============================] - 0s 2ms/step - loss: 0.6458 - mean_absolute_error: 0.6458\n",
            "Epoch 16/100\n",
            "123/123 [==============================] - 0s 2ms/step - loss: 0.6528 - mean_absolute_error: 0.6528\n",
            "Epoch 17/100\n",
            "123/123 [==============================] - 0s 2ms/step - loss: 0.6571 - mean_absolute_error: 0.6571\n",
            "Epoch 18/100\n",
            "123/123 [==============================] - 0s 2ms/step - loss: 0.6480 - mean_absolute_error: 0.6480\n",
            "Epoch 19/100\n",
            "123/123 [==============================] - 0s 2ms/step - loss: 0.6627 - mean_absolute_error: 0.6627\n",
            "Epoch 20/100\n",
            "123/123 [==============================] - 0s 2ms/step - loss: 0.6480 - mean_absolute_error: 0.6480\n",
            "Epoch 21/100\n",
            "123/123 [==============================] - 0s 2ms/step - loss: 0.6590 - mean_absolute_error: 0.6590\n",
            "Epoch 22/100\n",
            "123/123 [==============================] - 0s 2ms/step - loss: 0.6485 - mean_absolute_error: 0.6485\n",
            "Epoch 23/100\n",
            "123/123 [==============================] - 0s 2ms/step - loss: 0.6553 - mean_absolute_error: 0.6553\n",
            "Epoch 24/100\n",
            "123/123 [==============================] - 0s 2ms/step - loss: 0.6480 - mean_absolute_error: 0.6480\n",
            "Epoch 25/100\n",
            "123/123 [==============================] - 0s 2ms/step - loss: 0.6584 - mean_absolute_error: 0.6584\n",
            "Epoch 26/100\n",
            "123/123 [==============================] - 0s 2ms/step - loss: 0.6482 - mean_absolute_error: 0.6482\n",
            "Epoch 27/100\n",
            "123/123 [==============================] - 0s 2ms/step - loss: 0.6556 - mean_absolute_error: 0.6556\n",
            "Epoch 28/100\n",
            "123/123 [==============================] - 0s 3ms/step - loss: 0.6480 - mean_absolute_error: 0.6480\n",
            "Epoch 29/100\n",
            "123/123 [==============================] - 0s 3ms/step - loss: 0.6489 - mean_absolute_error: 0.6489\n",
            "Epoch 30/100\n",
            "123/123 [==============================] - 0s 2ms/step - loss: 0.6600 - mean_absolute_error: 0.6600\n",
            "Epoch 31/100\n",
            "123/123 [==============================] - 0s 2ms/step - loss: 0.6574 - mean_absolute_error: 0.6574\n",
            "Epoch 32/100\n",
            "123/123 [==============================] - 0s 2ms/step - loss: 0.6480 - mean_absolute_error: 0.6480\n",
            "Epoch 33/100\n",
            "123/123 [==============================] - 0s 2ms/step - loss: 0.6461 - mean_absolute_error: 0.6461\n",
            "Epoch 34/100\n",
            "123/123 [==============================] - 0s 3ms/step - loss: 0.6509 - mean_absolute_error: 0.6509\n",
            "Epoch 35/100\n",
            "123/123 [==============================] - 0s 3ms/step - loss: 0.6516 - mean_absolute_error: 0.6516\n",
            "Epoch 36/100\n",
            "123/123 [==============================] - 0s 3ms/step - loss: 0.6473 - mean_absolute_error: 0.6473\n",
            "Epoch 37/100\n",
            "123/123 [==============================] - 0s 2ms/step - loss: 0.6506 - mean_absolute_error: 0.6506\n",
            "Epoch 38/100\n",
            "123/123 [==============================] - 0s 2ms/step - loss: 0.6544 - mean_absolute_error: 0.6544\n",
            "Epoch 39/100\n",
            "123/123 [==============================] - 0s 2ms/step - loss: 0.6580 - mean_absolute_error: 0.6580\n",
            "Epoch 40/100\n",
            "123/123 [==============================] - 0s 2ms/step - loss: 0.6543 - mean_absolute_error: 0.6543\n",
            "Epoch 41/100\n",
            "123/123 [==============================] - 0s 2ms/step - loss: 0.6538 - mean_absolute_error: 0.6538\n",
            "Epoch 42/100\n",
            "123/123 [==============================] - 0s 2ms/step - loss: 0.6770 - mean_absolute_error: 0.6770\n",
            "Epoch 43/100\n",
            "123/123 [==============================] - 0s 2ms/step - loss: 0.6470 - mean_absolute_error: 0.6470\n",
            "Epoch 44/100\n",
            "123/123 [==============================] - 0s 2ms/step - loss: 0.6510 - mean_absolute_error: 0.6510\n",
            "Epoch 45/100\n",
            "123/123 [==============================] - 0s 2ms/step - loss: 0.6517 - mean_absolute_error: 0.6517\n",
            "Epoch 46/100\n",
            "123/123 [==============================] - 0s 2ms/step - loss: 0.6575 - mean_absolute_error: 0.6575\n",
            "Epoch 47/100\n",
            "123/123 [==============================] - 0s 2ms/step - loss: 0.6456 - mean_absolute_error: 0.6456\n",
            "Epoch 48/100\n",
            "123/123 [==============================] - 0s 2ms/step - loss: 0.6474 - mean_absolute_error: 0.6474\n",
            "Epoch 49/100\n",
            "123/123 [==============================] - 0s 2ms/step - loss: 0.6469 - mean_absolute_error: 0.6469\n",
            "Epoch 50/100\n",
            "123/123 [==============================] - 0s 2ms/step - loss: 0.6469 - mean_absolute_error: 0.6469\n",
            "Epoch 51/100\n",
            "123/123 [==============================] - 0s 2ms/step - loss: 0.6457 - mean_absolute_error: 0.6457\n",
            "Epoch 52/100\n",
            "123/123 [==============================] - 0s 2ms/step - loss: 0.6499 - mean_absolute_error: 0.6499\n",
            "Epoch 53/100\n",
            "123/123 [==============================] - 0s 2ms/step - loss: 0.6440 - mean_absolute_error: 0.6440\n",
            "Epoch 54/100\n",
            "123/123 [==============================] - 0s 2ms/step - loss: 0.6552 - mean_absolute_error: 0.6552\n",
            "Epoch 55/100\n",
            "123/123 [==============================] - 0s 2ms/step - loss: 0.6586 - mean_absolute_error: 0.6586\n",
            "Epoch 56/100\n",
            "123/123 [==============================] - 0s 2ms/step - loss: 0.6520 - mean_absolute_error: 0.6520\n",
            "Epoch 57/100\n",
            "123/123 [==============================] - 0s 2ms/step - loss: 0.6527 - mean_absolute_error: 0.6527\n",
            "Epoch 58/100\n",
            "123/123 [==============================] - 0s 2ms/step - loss: 0.6546 - mean_absolute_error: 0.6546\n",
            "Epoch 59/100\n",
            "123/123 [==============================] - 0s 2ms/step - loss: 0.6475 - mean_absolute_error: 0.6475\n",
            "Epoch 60/100\n",
            "123/123 [==============================] - 0s 2ms/step - loss: 0.6488 - mean_absolute_error: 0.6488\n",
            "Epoch 61/100\n",
            "123/123 [==============================] - 0s 2ms/step - loss: 0.6476 - mean_absolute_error: 0.6476\n",
            "Epoch 62/100\n",
            "123/123 [==============================] - 0s 2ms/step - loss: 0.6477 - mean_absolute_error: 0.6477\n",
            "Epoch 63/100\n",
            "123/123 [==============================] - 0s 2ms/step - loss: 0.6548 - mean_absolute_error: 0.6548\n",
            "Epoch 64/100\n",
            "123/123 [==============================] - 0s 2ms/step - loss: 0.6468 - mean_absolute_error: 0.6468\n",
            "Epoch 65/100\n",
            "123/123 [==============================] - 0s 2ms/step - loss: 0.6481 - mean_absolute_error: 0.6481\n",
            "Epoch 66/100\n",
            "123/123 [==============================] - 0s 2ms/step - loss: 0.6673 - mean_absolute_error: 0.6673\n",
            "Epoch 67/100\n",
            "123/123 [==============================] - 0s 2ms/step - loss: 0.6438 - mean_absolute_error: 0.6438\n",
            "Epoch 68/100\n",
            "123/123 [==============================] - 0s 2ms/step - loss: 0.6420 - mean_absolute_error: 0.6420\n",
            "Epoch 69/100\n",
            "123/123 [==============================] - 0s 2ms/step - loss: 0.6598 - mean_absolute_error: 0.6598\n",
            "Epoch 70/100\n",
            "123/123 [==============================] - 0s 2ms/step - loss: 0.6476 - mean_absolute_error: 0.6476\n",
            "Epoch 71/100\n",
            "123/123 [==============================] - 0s 2ms/step - loss: 0.6505 - mean_absolute_error: 0.6505\n",
            "Epoch 72/100\n",
            "123/123 [==============================] - 0s 2ms/step - loss: 0.6473 - mean_absolute_error: 0.6473\n",
            "Epoch 73/100\n",
            "123/123 [==============================] - 0s 2ms/step - loss: 0.6684 - mean_absolute_error: 0.6684\n",
            "Epoch 74/100\n",
            "123/123 [==============================] - 0s 2ms/step - loss: 0.6588 - mean_absolute_error: 0.6588\n",
            "Epoch 75/100\n",
            "123/123 [==============================] - 0s 2ms/step - loss: 0.6473 - mean_absolute_error: 0.6473\n",
            "Epoch 76/100\n",
            "123/123 [==============================] - 0s 2ms/step - loss: 0.6459 - mean_absolute_error: 0.6459\n",
            "Epoch 77/100\n",
            "123/123 [==============================] - 0s 2ms/step - loss: 0.6437 - mean_absolute_error: 0.6437\n",
            "Epoch 78/100\n",
            "123/123 [==============================] - 0s 2ms/step - loss: 0.6489 - mean_absolute_error: 0.6489\n",
            "Epoch 79/100\n",
            "123/123 [==============================] - 0s 2ms/step - loss: 0.6463 - mean_absolute_error: 0.6463\n",
            "Epoch 80/100\n",
            "123/123 [==============================] - 0s 2ms/step - loss: 0.6469 - mean_absolute_error: 0.6469\n",
            "Epoch 81/100\n",
            "123/123 [==============================] - 0s 2ms/step - loss: 0.6490 - mean_absolute_error: 0.6490\n",
            "Epoch 82/100\n",
            "123/123 [==============================] - 0s 2ms/step - loss: 0.6533 - mean_absolute_error: 0.6533\n",
            "Epoch 83/100\n",
            "123/123 [==============================] - 0s 3ms/step - loss: 0.6454 - mean_absolute_error: 0.6454\n",
            "Epoch 84/100\n",
            "123/123 [==============================] - 0s 3ms/step - loss: 0.6443 - mean_absolute_error: 0.6443\n",
            "Epoch 85/100\n",
            "123/123 [==============================] - 0s 2ms/step - loss: 0.6510 - mean_absolute_error: 0.6510\n",
            "Epoch 86/100\n",
            "123/123 [==============================] - 0s 2ms/step - loss: 0.6510 - mean_absolute_error: 0.6510\n",
            "Epoch 87/100\n",
            "123/123 [==============================] - 0s 2ms/step - loss: 0.6504 - mean_absolute_error: 0.6504\n",
            "Epoch 88/100\n",
            "123/123 [==============================] - 0s 2ms/step - loss: 0.6426 - mean_absolute_error: 0.6426\n",
            "Epoch 89/100\n",
            "123/123 [==============================] - 0s 3ms/step - loss: 0.6613 - mean_absolute_error: 0.6613\n",
            "Epoch 90/100\n",
            "123/123 [==============================] - 0s 3ms/step - loss: 0.6476 - mean_absolute_error: 0.6476\n",
            "Epoch 91/100\n",
            "123/123 [==============================] - 0s 3ms/step - loss: 0.6448 - mean_absolute_error: 0.6448\n",
            "Epoch 92/100\n",
            "123/123 [==============================] - 0s 2ms/step - loss: 0.6702 - mean_absolute_error: 0.6702\n",
            "Epoch 93/100\n",
            "123/123 [==============================] - 0s 2ms/step - loss: 0.6533 - mean_absolute_error: 0.6533\n",
            "Epoch 94/100\n",
            "123/123 [==============================] - 0s 2ms/step - loss: 0.6426 - mean_absolute_error: 0.6426\n",
            "Epoch 95/100\n",
            "123/123 [==============================] - 0s 2ms/step - loss: 0.6429 - mean_absolute_error: 0.6429\n",
            "Epoch 96/100\n",
            "123/123 [==============================] - 0s 2ms/step - loss: 0.6500 - mean_absolute_error: 0.6500\n",
            "Epoch 97/100\n",
            "123/123 [==============================] - 0s 2ms/step - loss: 0.6461 - mean_absolute_error: 0.6461\n",
            "Epoch 98/100\n",
            "123/123 [==============================] - 0s 2ms/step - loss: 0.6497 - mean_absolute_error: 0.6497\n",
            "Epoch 99/100\n",
            "123/123 [==============================] - 0s 2ms/step - loss: 0.6455 - mean_absolute_error: 0.6455\n",
            "Epoch 100/100\n",
            "123/123 [==============================] - 0s 2ms/step - loss: 0.6422 - mean_absolute_error: 0.6422\n"
          ]
        },
        {
          "output_type": "execute_result",
          "data": {
            "text/plain": [
              "<keras.callbacks.History at 0x7f3adc595340>"
            ]
          },
          "metadata": {},
          "execution_count": 87
        }
      ]
    },
    {
      "cell_type": "markdown",
      "source": [
        "Выполним прогнозирование значений зависимой переменной (отклика)"
      ],
      "metadata": {
        "id": "9YDeM4y1u0a_"
      }
    },
    {
      "cell_type": "code",
      "source": [
        "y_predict2 = model.predict(x_test)\n",
        "y_predict2[:5]"
      ],
      "metadata": {
        "id": "25kLcwJBres5",
        "outputId": "9773a191-da3f-4bbd-c18f-944ecbfd8cd8",
        "colab": {
          "base_uri": "https://localhost:8080/"
        }
      },
      "execution_count": 88,
      "outputs": [
        {
          "output_type": "stream",
          "name": "stdout",
          "text": [
            "31/31 [==============================] - 0s 1ms/step\n"
          ]
        },
        {
          "output_type": "execute_result",
          "data": {
            "text/plain": [
              "array([[7.0435467],\n",
              "       [7.0231085],\n",
              "       [7.0888033],\n",
              "       [7.04167  ],\n",
              "       [6.9882803]], dtype=float32)"
            ]
          },
          "metadata": {},
          "execution_count": 88
        }
      ]
    },
    {
      "cell_type": "code",
      "source": [
        "plt.figure(figsize=(12,8))\n",
        "plt.scatter(x, y)\n",
        "plt.scatter(x_test, y_test, c='y')\n",
        "plt.plot(x_test, y_predict, c='g', label='точная линия регрессии')\n",
        "plt.plot(x_test, y_predict2, c='r', label='линия регрессии (ANN)')\n",
        "plt.legend();"
      ],
      "metadata": {
        "id": "QWIf4X-vuyev",
        "outputId": "d5b5dfe4-14d5-455c-b9fe-cccecd046cea",
        "colab": {
          "base_uri": "https://localhost:8080/",
          "height": 676
        }
      },
      "execution_count": 89,
      "outputs": [
        {
          "output_type": "display_data",
          "data": {
            "text/plain": [
              "<Figure size 1200x800 with 1 Axes>"
            ],
            "image/png": "[encoded data removed]"
          },
          "metadata": {}
        }
      ]
    },
    {
      "cell_type": "markdown",
      "source": [
        "1 - mse_test/np.var(y_test)\n",
        "коэффициент детерминации, по нему сравню модели"
      ],
      "metadata": {
        "id": "HiwxoAumuoML"
      }
    },
    {
      "cell_type": "code",
      "source": [
        "check_R2(y_predict)"
      ],
      "metadata": {
        "id": "nJXJfNZIuoxw",
        "outputId": "16b78982-8de1-4fc1-b355-e8460412e1d5",
        "colab": {
          "base_uri": "https://localhost:8080/",
          "height": 36
        }
      },
      "execution_count": 91,
      "outputs": [
        {
          "output_type": "execute_result",
          "data": {
            "text/plain": [
              "'R^2 точного подхода : 0.07154566177183763'"
            ],
            "application/vnd.google.colaboratory.intrinsic+json": {
              "type": "string"
            }
          },
          "metadata": {},
          "execution_count": 91
        }
      ]
    },
    {
      "cell_type": "code",
      "source": [
        "check_R2(y_predict2)"
      ],
      "metadata": {
        "id": "XFmQEKQ6Jzcm",
        "outputId": "113a41ed-d1cb-41ed-ad1c-66fc70c8bc4f",
        "colab": {
          "base_uri": "https://localhost:8080/",
          "height": 311
        }
      },
      "execution_count": 98,
      "outputs": [
        {
          "output_type": "error",
          "ename": "ValueError",
          "evalue": "ignored",
          "traceback": [
            "\u001b[0;31m---------------------------------------------------------------------------\u001b[0m",
            "\u001b[0;31mValueError\u001b[0m                                Traceback (most recent call last)",
            "\u001b[0;32m<ipython-input-98-ee6e04f5f750>\u001b[0m in \u001b[0;36m<cell line: 1>\u001b[0;34m()\u001b[0m\n\u001b[0;32m----> 1\u001b[0;31m \u001b[0mcheck_R2\u001b[0m\u001b[0;34m(\u001b[0m\u001b[0my_predict2\u001b[0m\u001b[0;34m)\u001b[0m\u001b[0;34m\u001b[0m\u001b[0;34m\u001b[0m\u001b[0m\n\u001b[0m",
            "\u001b[0;32m<ipython-input-90-0cfed59c70a0>\u001b[0m in \u001b[0;36mcheck_R2\u001b[0;34m(y_predict)\u001b[0m\n\u001b[1;32m      1\u001b[0m \u001b[0;32mdef\u001b[0m \u001b[0mcheck_R2\u001b[0m\u001b[0;34m(\u001b[0m\u001b[0my_predict\u001b[0m\u001b[0;34m)\u001b[0m\u001b[0;34m:\u001b[0m\u001b[0;34m\u001b[0m\u001b[0;34m\u001b[0m\u001b[0m\n\u001b[0;32m----> 2\u001b[0;31m   \u001b[0mmse_test\u001b[0m \u001b[0;34m=\u001b[0m \u001b[0mnp\u001b[0m\u001b[0;34m.\u001b[0m\u001b[0msum\u001b[0m\u001b[0;34m(\u001b[0m\u001b[0;34m(\u001b[0m\u001b[0my_predict\u001b[0m \u001b[0;34m-\u001b[0m \u001b[0my_test\u001b[0m\u001b[0;34m)\u001b[0m\u001b[0;34m**\u001b[0m\u001b[0;36m2\u001b[0m\u001b[0;34m)\u001b[0m \u001b[0;34m/\u001b[0m \u001b[0mlen\u001b[0m\u001b[0;34m(\u001b[0m\u001b[0my_test\u001b[0m\u001b[0;34m)\u001b[0m\u001b[0;34m\u001b[0m\u001b[0;34m\u001b[0m\u001b[0m\n\u001b[0m\u001b[1;32m      3\u001b[0m   \u001b[0;32mreturn\u001b[0m \u001b[0;34mf'R^2 точного подхода : {1 - mse_test/np.var(y_test)}'\u001b[0m\u001b[0;34m\u001b[0m\u001b[0;34m\u001b[0m\u001b[0m\n",
            "\u001b[0;32m/usr/local/lib/python3.9/dist-packages/pandas/core/generic.py\u001b[0m in \u001b[0;36m__array_ufunc__\u001b[0;34m(self, ufunc, method, *inputs, **kwargs)\u001b[0m\n\u001b[1;32m   2111\u001b[0m         \u001b[0mself\u001b[0m\u001b[0;34m,\u001b[0m \u001b[0mufunc\u001b[0m\u001b[0;34m:\u001b[0m \u001b[0mnp\u001b[0m\u001b[0;34m.\u001b[0m\u001b[0mufunc\u001b[0m\u001b[0;34m,\u001b[0m \u001b[0mmethod\u001b[0m\u001b[0;34m:\u001b[0m \u001b[0mstr\u001b[0m\u001b[0;34m,\u001b[0m \u001b[0;34m*\u001b[0m\u001b[0minputs\u001b[0m\u001b[0;34m:\u001b[0m \u001b[0mAny\u001b[0m\u001b[0;34m,\u001b[0m \u001b[0;34m**\u001b[0m\u001b[0mkwargs\u001b[0m\u001b[0;34m:\u001b[0m \u001b[0mAny\u001b[0m\u001b[0;34m\u001b[0m\u001b[0;34m\u001b[0m\u001b[0m\n\u001b[1;32m   2112\u001b[0m     ):\n\u001b[0;32m-> 2113\u001b[0;31m         \u001b[0;32mreturn\u001b[0m \u001b[0marraylike\u001b[0m\u001b[0;34m.\u001b[0m\u001b[0marray_ufunc\u001b[0m\u001b[0;34m(\u001b[0m\u001b[0mself\u001b[0m\u001b[0;34m,\u001b[0m \u001b[0mufunc\u001b[0m\u001b[0;34m,\u001b[0m \u001b[0mmethod\u001b[0m\u001b[0;34m,\u001b[0m \u001b[0;34m*\u001b[0m\u001b[0minputs\u001b[0m\u001b[0;34m,\u001b[0m \u001b[0;34m**\u001b[0m\u001b[0mkwargs\u001b[0m\u001b[0;34m)\u001b[0m\u001b[0;34m\u001b[0m\u001b[0;34m\u001b[0m\u001b[0m\n\u001b[0m\u001b[1;32m   2114\u001b[0m \u001b[0;34m\u001b[0m\u001b[0m\n\u001b[1;32m   2115\u001b[0m     \u001b[0;31m# ----------------------------------------------------------------------\u001b[0m\u001b[0;34m\u001b[0m\u001b[0;34m\u001b[0m\u001b[0m\n",
            "\u001b[0;32m/usr/local/lib/python3.9/dist-packages/pandas/core/arraylike.py\u001b[0m in \u001b[0;36marray_ufunc\u001b[0;34m(self, ufunc, method, *inputs, **kwargs)\u001b[0m\n\u001b[1;32m    263\u001b[0m \u001b[0;34m\u001b[0m\u001b[0m\n\u001b[1;32m    264\u001b[0m     \u001b[0;31m# for binary ops, use our custom dunder methods\u001b[0m\u001b[0;34m\u001b[0m\u001b[0;34m\u001b[0m\u001b[0m\n\u001b[0;32m--> 265\u001b[0;31m     \u001b[0mresult\u001b[0m \u001b[0;34m=\u001b[0m \u001b[0mmaybe_dispatch_ufunc_to_dunder_op\u001b[0m\u001b[0;34m(\u001b[0m\u001b[0mself\u001b[0m\u001b[0;34m,\u001b[0m \u001b[0mufunc\u001b[0m\u001b[0;34m,\u001b[0m \u001b[0mmethod\u001b[0m\u001b[0;34m,\u001b[0m \u001b[0;34m*\u001b[0m\u001b[0minputs\u001b[0m\u001b[0;34m,\u001b[0m \u001b[0;34m**\u001b[0m\u001b[0mkwargs\u001b[0m\u001b[0;34m)\u001b[0m\u001b[0;34m\u001b[0m\u001b[0;34m\u001b[0m\u001b[0m\n\u001b[0m\u001b[1;32m    266\u001b[0m     \u001b[0;32mif\u001b[0m \u001b[0mresult\u001b[0m \u001b[0;32mis\u001b[0m \u001b[0;32mnot\u001b[0m \u001b[0mNotImplemented\u001b[0m\u001b[0;34m:\u001b[0m\u001b[0;34m\u001b[0m\u001b[0;34m\u001b[0m\u001b[0m\n\u001b[1;32m    267\u001b[0m         \u001b[0;32mreturn\u001b[0m \u001b[0mresult\u001b[0m\u001b[0;34m\u001b[0m\u001b[0;34m\u001b[0m\u001b[0m\n",
            "\u001b[0;32m/usr/local/lib/python3.9/dist-packages/pandas/_libs/ops_dispatch.pyx\u001b[0m in \u001b[0;36mpandas._libs.ops_dispatch.maybe_dispatch_ufunc_to_dunder_op\u001b[0;34m()\u001b[0m\n",
            "\u001b[0;32m/usr/local/lib/python3.9/dist-packages/pandas/core/ops/common.py\u001b[0m in \u001b[0;36mnew_method\u001b[0;34m(self, other)\u001b[0m\n\u001b[1;32m     70\u001b[0m         \u001b[0mother\u001b[0m \u001b[0;34m=\u001b[0m \u001b[0mitem_from_zerodim\u001b[0m\u001b[0;34m(\u001b[0m\u001b[0mother\u001b[0m\u001b[0;34m)\u001b[0m\u001b[0;34m\u001b[0m\u001b[0;34m\u001b[0m\u001b[0m\n\u001b[1;32m     71\u001b[0m \u001b[0;34m\u001b[0m\u001b[0m\n\u001b[0;32m---> 72\u001b[0;31m         \u001b[0;32mreturn\u001b[0m \u001b[0mmethod\u001b[0m\u001b[0;34m(\u001b[0m\u001b[0mself\u001b[0m\u001b[0;34m,\u001b[0m \u001b[0mother\u001b[0m\u001b[0;34m)\u001b[0m\u001b[0;34m\u001b[0m\u001b[0;34m\u001b[0m\u001b[0m\n\u001b[0m\u001b[1;32m     73\u001b[0m \u001b[0;34m\u001b[0m\u001b[0m\n\u001b[1;32m     74\u001b[0m     \u001b[0;32mreturn\u001b[0m \u001b[0mnew_method\u001b[0m\u001b[0;34m\u001b[0m\u001b[0;34m\u001b[0m\u001b[0m\n",
            "\u001b[0;32m/usr/local/lib/python3.9/dist-packages/pandas/core/arraylike.py\u001b[0m in \u001b[0;36m__rsub__\u001b[0;34m(self, other)\u001b[0m\n\u001b[1;32m    112\u001b[0m     \u001b[0;34m@\u001b[0m\u001b[0munpack_zerodim_and_defer\u001b[0m\u001b[0;34m(\u001b[0m\u001b[0;34m\"__rsub__\"\u001b[0m\u001b[0;34m)\u001b[0m\u001b[0;34m\u001b[0m\u001b[0;34m\u001b[0m\u001b[0m\n\u001b[1;32m    113\u001b[0m     \u001b[0;32mdef\u001b[0m \u001b[0m__rsub__\u001b[0m\u001b[0;34m(\u001b[0m\u001b[0mself\u001b[0m\u001b[0;34m,\u001b[0m \u001b[0mother\u001b[0m\u001b[0;34m)\u001b[0m\u001b[0;34m:\u001b[0m\u001b[0;34m\u001b[0m\u001b[0;34m\u001b[0m\u001b[0m\n\u001b[0;32m--> 114\u001b[0;31m         \u001b[0;32mreturn\u001b[0m \u001b[0mself\u001b[0m\u001b[0;34m.\u001b[0m\u001b[0m_arith_method\u001b[0m\u001b[0;34m(\u001b[0m\u001b[0mother\u001b[0m\u001b[0;34m,\u001b[0m \u001b[0mroperator\u001b[0m\u001b[0;34m.\u001b[0m\u001b[0mrsub\u001b[0m\u001b[0;34m)\u001b[0m\u001b[0;34m\u001b[0m\u001b[0;34m\u001b[0m\u001b[0m\n\u001b[0m\u001b[1;32m    115\u001b[0m \u001b[0;34m\u001b[0m\u001b[0m\n\u001b[1;32m    116\u001b[0m     \u001b[0;34m@\u001b[0m\u001b[0munpack_zerodim_and_defer\u001b[0m\u001b[0;34m(\u001b[0m\u001b[0;34m\"__mul__\"\u001b[0m\u001b[0;34m)\u001b[0m\u001b[0;34m\u001b[0m\u001b[0;34m\u001b[0m\u001b[0m\n",
            "\u001b[0;32m/usr/local/lib/python3.9/dist-packages/pandas/core/series.py\u001b[0m in \u001b[0;36m_arith_method\u001b[0;34m(self, other, op)\u001b[0m\n\u001b[1;32m   6257\u001b[0m     \u001b[0;32mdef\u001b[0m \u001b[0m_arith_method\u001b[0m\u001b[0;34m(\u001b[0m\u001b[0mself\u001b[0m\u001b[0;34m,\u001b[0m \u001b[0mother\u001b[0m\u001b[0;34m,\u001b[0m \u001b[0mop\u001b[0m\u001b[0;34m)\u001b[0m\u001b[0;34m:\u001b[0m\u001b[0;34m\u001b[0m\u001b[0;34m\u001b[0m\u001b[0m\n\u001b[1;32m   6258\u001b[0m         \u001b[0mself\u001b[0m\u001b[0;34m,\u001b[0m \u001b[0mother\u001b[0m \u001b[0;34m=\u001b[0m \u001b[0mops\u001b[0m\u001b[0;34m.\u001b[0m\u001b[0malign_method_SERIES\u001b[0m\u001b[0;34m(\u001b[0m\u001b[0mself\u001b[0m\u001b[0;34m,\u001b[0m \u001b[0mother\u001b[0m\u001b[0;34m)\u001b[0m\u001b[0;34m\u001b[0m\u001b[0;34m\u001b[0m\u001b[0m\n\u001b[0;32m-> 6259\u001b[0;31m         \u001b[0;32mreturn\u001b[0m \u001b[0mbase\u001b[0m\u001b[0;34m.\u001b[0m\u001b[0mIndexOpsMixin\u001b[0m\u001b[0;34m.\u001b[0m\u001b[0m_arith_method\u001b[0m\u001b[0;34m(\u001b[0m\u001b[0mself\u001b[0m\u001b[0;34m,\u001b[0m \u001b[0mother\u001b[0m\u001b[0;34m,\u001b[0m \u001b[0mop\u001b[0m\u001b[0;34m)\u001b[0m\u001b[0;34m\u001b[0m\u001b[0;34m\u001b[0m\u001b[0m\n\u001b[0m\u001b[1;32m   6260\u001b[0m \u001b[0;34m\u001b[0m\u001b[0m\n\u001b[1;32m   6261\u001b[0m \u001b[0;34m\u001b[0m\u001b[0m\n",
            "\u001b[0;32m/usr/local/lib/python3.9/dist-packages/pandas/core/base.py\u001b[0m in \u001b[0;36m_arith_method\u001b[0;34m(self, other, op)\u001b[0m\n\u001b[1;32m   1325\u001b[0m             \u001b[0mresult\u001b[0m \u001b[0;34m=\u001b[0m \u001b[0mops\u001b[0m\u001b[0;34m.\u001b[0m\u001b[0marithmetic_op\u001b[0m\u001b[0;34m(\u001b[0m\u001b[0mlvalues\u001b[0m\u001b[0;34m,\u001b[0m \u001b[0mrvalues\u001b[0m\u001b[0;34m,\u001b[0m \u001b[0mop\u001b[0m\u001b[0;34m)\u001b[0m\u001b[0;34m\u001b[0m\u001b[0;34m\u001b[0m\u001b[0m\n\u001b[1;32m   1326\u001b[0m \u001b[0;34m\u001b[0m\u001b[0m\n\u001b[0;32m-> 1327\u001b[0;31m         \u001b[0;32mreturn\u001b[0m \u001b[0mself\u001b[0m\u001b[0;34m.\u001b[0m\u001b[0m_construct_result\u001b[0m\u001b[0;34m(\u001b[0m\u001b[0mresult\u001b[0m\u001b[0;34m,\u001b[0m \u001b[0mname\u001b[0m\u001b[0;34m=\u001b[0m\u001b[0mres_name\u001b[0m\u001b[0;34m)\u001b[0m\u001b[0;34m\u001b[0m\u001b[0;34m\u001b[0m\u001b[0m\n\u001b[0m\u001b[1;32m   1328\u001b[0m \u001b[0;34m\u001b[0m\u001b[0m\n\u001b[1;32m   1329\u001b[0m     \u001b[0;32mdef\u001b[0m \u001b[0m_construct_result\u001b[0m\u001b[0;34m(\u001b[0m\u001b[0mself\u001b[0m\u001b[0;34m,\u001b[0m \u001b[0mresult\u001b[0m\u001b[0;34m,\u001b[0m \u001b[0mname\u001b[0m\u001b[0;34m)\u001b[0m\u001b[0;34m:\u001b[0m\u001b[0;34m\u001b[0m\u001b[0;34m\u001b[0m\u001b[0m\n",
            "\u001b[0;32m/usr/local/lib/python3.9/dist-packages/pandas/core/series.py\u001b[0m in \u001b[0;36m_construct_result\u001b[0;34m(self, result, name)\u001b[0m\n\u001b[1;32m   3221\u001b[0m         \u001b[0;31m# We do not pass dtype to ensure that the Series constructor\u001b[0m\u001b[0;34m\u001b[0m\u001b[0;34m\u001b[0m\u001b[0m\n\u001b[1;32m   3222\u001b[0m         \u001b[0;31m#  does inference in the case where `result` has object-dtype.\u001b[0m\u001b[0;34m\u001b[0m\u001b[0;34m\u001b[0m\u001b[0m\n\u001b[0;32m-> 3223\u001b[0;31m         \u001b[0mout\u001b[0m \u001b[0;34m=\u001b[0m \u001b[0mself\u001b[0m\u001b[0;34m.\u001b[0m\u001b[0m_constructor\u001b[0m\u001b[0;34m(\u001b[0m\u001b[0mresult\u001b[0m\u001b[0;34m,\u001b[0m \u001b[0mindex\u001b[0m\u001b[0;34m=\u001b[0m\u001b[0mself\u001b[0m\u001b[0;34m.\u001b[0m\u001b[0mindex\u001b[0m\u001b[0;34m)\u001b[0m\u001b[0;34m\u001b[0m\u001b[0;34m\u001b[0m\u001b[0m\n\u001b[0m\u001b[1;32m   3224\u001b[0m         \u001b[0mout\u001b[0m \u001b[0;34m=\u001b[0m \u001b[0mout\u001b[0m\u001b[0;34m.\u001b[0m\u001b[0m__finalize__\u001b[0m\u001b[0;34m(\u001b[0m\u001b[0mself\u001b[0m\u001b[0;34m)\u001b[0m\u001b[0;34m\u001b[0m\u001b[0;34m\u001b[0m\u001b[0m\n\u001b[1;32m   3225\u001b[0m \u001b[0;34m\u001b[0m\u001b[0m\n",
            "\u001b[0;32m/usr/local/lib/python3.9/dist-packages/pandas/core/series.py\u001b[0m in \u001b[0;36m__init__\u001b[0;34m(self, data, index, dtype, name, copy, fastpath)\u001b[0m\n\u001b[1;32m    468\u001b[0m                     \u001b[0mdata\u001b[0m \u001b[0;34m=\u001b[0m \u001b[0mdata\u001b[0m\u001b[0;34m.\u001b[0m\u001b[0mcopy\u001b[0m\u001b[0;34m(\u001b[0m\u001b[0;34m)\u001b[0m\u001b[0;34m\u001b[0m\u001b[0;34m\u001b[0m\u001b[0m\n\u001b[1;32m    469\u001b[0m             \u001b[0;32melse\u001b[0m\u001b[0;34m:\u001b[0m\u001b[0;34m\u001b[0m\u001b[0;34m\u001b[0m\u001b[0m\n\u001b[0;32m--> 470\u001b[0;31m                 \u001b[0mdata\u001b[0m \u001b[0;34m=\u001b[0m \u001b[0msanitize_array\u001b[0m\u001b[0;34m(\u001b[0m\u001b[0mdata\u001b[0m\u001b[0;34m,\u001b[0m \u001b[0mindex\u001b[0m\u001b[0;34m,\u001b[0m \u001b[0mdtype\u001b[0m\u001b[0;34m,\u001b[0m \u001b[0mcopy\u001b[0m\u001b[0;34m)\u001b[0m\u001b[0;34m\u001b[0m\u001b[0;34m\u001b[0m\u001b[0m\n\u001b[0m\u001b[1;32m    471\u001b[0m \u001b[0;34m\u001b[0m\u001b[0m\n\u001b[1;32m    472\u001b[0m                 \u001b[0mmanager\u001b[0m \u001b[0;34m=\u001b[0m \u001b[0mget_option\u001b[0m\u001b[0;34m(\u001b[0m\u001b[0;34m\"mode.data_manager\"\u001b[0m\u001b[0;34m)\u001b[0m\u001b[0;34m\u001b[0m\u001b[0;34m\u001b[0m\u001b[0m\n",
            "\u001b[0;32m/usr/local/lib/python3.9/dist-packages/pandas/core/construction.py\u001b[0m in \u001b[0;36msanitize_array\u001b[0;34m(data, index, dtype, copy, raise_cast_failure, allow_2d)\u001b[0m\n\u001b[1;32m    645\u001b[0m                 \u001b[0msubarr\u001b[0m \u001b[0;34m=\u001b[0m \u001b[0mmaybe_infer_to_datetimelike\u001b[0m\u001b[0;34m(\u001b[0m\u001b[0msubarr\u001b[0m\u001b[0;34m)\u001b[0m\u001b[0;34m\u001b[0m\u001b[0;34m\u001b[0m\u001b[0m\n\u001b[1;32m    646\u001b[0m \u001b[0;34m\u001b[0m\u001b[0m\n\u001b[0;32m--> 647\u001b[0;31m     \u001b[0msubarr\u001b[0m \u001b[0;34m=\u001b[0m \u001b[0m_sanitize_ndim\u001b[0m\u001b[0;34m(\u001b[0m\u001b[0msubarr\u001b[0m\u001b[0;34m,\u001b[0m \u001b[0mdata\u001b[0m\u001b[0;34m,\u001b[0m \u001b[0mdtype\u001b[0m\u001b[0;34m,\u001b[0m \u001b[0mindex\u001b[0m\u001b[0;34m,\u001b[0m \u001b[0mallow_2d\u001b[0m\u001b[0;34m=\u001b[0m\u001b[0mallow_2d\u001b[0m\u001b[0;34m)\u001b[0m\u001b[0;34m\u001b[0m\u001b[0;34m\u001b[0m\u001b[0m\n\u001b[0m\u001b[1;32m    648\u001b[0m \u001b[0;34m\u001b[0m\u001b[0m\n\u001b[1;32m    649\u001b[0m     \u001b[0;32mif\u001b[0m \u001b[0misinstance\u001b[0m\u001b[0;34m(\u001b[0m\u001b[0msubarr\u001b[0m\u001b[0;34m,\u001b[0m \u001b[0mnp\u001b[0m\u001b[0;34m.\u001b[0m\u001b[0mndarray\u001b[0m\u001b[0;34m)\u001b[0m\u001b[0;34m:\u001b[0m\u001b[0;34m\u001b[0m\u001b[0;34m\u001b[0m\u001b[0m\n",
            "\u001b[0;32m/usr/local/lib/python3.9/dist-packages/pandas/core/construction.py\u001b[0m in \u001b[0;36m_sanitize_ndim\u001b[0;34m(result, data, dtype, index, allow_2d)\u001b[0m\n\u001b[1;32m    696\u001b[0m             \u001b[0;32mif\u001b[0m \u001b[0mallow_2d\u001b[0m\u001b[0;34m:\u001b[0m\u001b[0;34m\u001b[0m\u001b[0;34m\u001b[0m\u001b[0m\n\u001b[1;32m    697\u001b[0m                 \u001b[0;32mreturn\u001b[0m \u001b[0mresult\u001b[0m\u001b[0;34m\u001b[0m\u001b[0;34m\u001b[0m\u001b[0m\n\u001b[0;32m--> 698\u001b[0;31m             \u001b[0;32mraise\u001b[0m \u001b[0mValueError\u001b[0m\u001b[0;34m(\u001b[0m\u001b[0;34m\"Data must be 1-dimensional\"\u001b[0m\u001b[0;34m)\u001b[0m\u001b[0;34m\u001b[0m\u001b[0;34m\u001b[0m\u001b[0m\n\u001b[0m\u001b[1;32m    699\u001b[0m         \u001b[0;32mif\u001b[0m \u001b[0mis_object_dtype\u001b[0m\u001b[0;34m(\u001b[0m\u001b[0mdtype\u001b[0m\u001b[0;34m)\u001b[0m \u001b[0;32mand\u001b[0m \u001b[0misinstance\u001b[0m\u001b[0;34m(\u001b[0m\u001b[0mdtype\u001b[0m\u001b[0;34m,\u001b[0m \u001b[0mExtensionDtype\u001b[0m\u001b[0;34m)\u001b[0m\u001b[0;34m:\u001b[0m\u001b[0;34m\u001b[0m\u001b[0;34m\u001b[0m\u001b[0m\n\u001b[1;32m    700\u001b[0m             \u001b[0;31m# i.e. PandasDtype(\"O\")\u001b[0m\u001b[0;34m\u001b[0m\u001b[0;34m\u001b[0m\u001b[0m\n",
            "\u001b[0;31mValueError\u001b[0m: Data must be 1-dimensional"
          ]
        }
      ]
    }
  ]
}