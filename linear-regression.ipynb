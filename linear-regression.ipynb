{
  "nbformat": 4,
  "nbformat_minor": 0,
  "metadata": {
    "colab": {
      "provenance": [],
      "authorship_tag": "ABX9TyPbqTp3ARd44ZzD2EKVVVri",
      "include_colab_link": true
    },
    "kernelspec": {
      "name": "python3",
      "display_name": "Python 3"
    },
    "language_info": {
      "name": "python"
    }
  },
  "cells": [
    {
      "cell_type": "markdown",
      "metadata": {
        "id": "view-in-github",
        "colab_type": "text"
      },
      "source": [
        "<a href=\"https://colab.research.google.com/github/kjxeez/machine-learning/blob/main/linear-regression.ipynb\" target=\"_parent\"><img src=\"https://colab.research.google.com/assets/colab-badge.svg\" alt=\"Open In Colab\"/></a>"
      ]
    },
    {
      "cell_type": "markdown",
      "metadata": {
        "id": "bkvu6piHt3ra"
      },
      "source": [
        "### РОССИЙСКИЙ УНИВЕРСИТЕТ ДРУЖБЫ НАРОДОВ\n",
        "\n",
        "#### Факультет физико-математических и естественных наук  \n",
        "#### Кафедра информационных технологий "
      ]
    },
    {
      "cell_type": "markdown",
      "metadata": {
        "id": "djXIWnpjt3rf"
      },
      "source": [
        "## ОТЧЕТ ПО ЛАБОРАТОРНОЙ РАБОТЕ № 1\n",
        "\n",
        "\n",
        "### Дисциплина: Методы машинного обучения"
      ]
    },
    {
      "cell_type": "markdown",
      "metadata": {
        "id": "fo_ynhTst3rg"
      },
      "source": [
        "##### Студент:  Акопян Изабелла Арменовна\n",
        "##### Группа:   НБИбд-01-20"
      ]
    },
    {
      "cell_type": "markdown",
      "metadata": {
        "id": "TbvGIymht3rh"
      },
      "source": [
        "## Москва 2023\n",
        "***"
      ]
    },
    {
      "cell_type": "markdown",
      "metadata": {
        "id": "avs03Eqmt3rh"
      },
      "source": [
        "### Вариант №12\n",
        "\n",
        "#### __Текст задания__:\n",
        "В соответствии с индивидуальным заданием, указанным в записной книжке команды, выполните следующие работы:\n",
        "\n",
        "1. Загрузите заданный в индивидуальном задании набор данных из Tensorflow Datasets и оставьте в наборе данных признаки, принимающие непрерывные числовые значения, включая указанные в индивидуальном задании независимую и зависимую переменные. Вычислите матрицу корреляции признаков и определите пары признаков с наиболее низкой и наиболее высокой корреляцией.\n",
        "\n",
        "2. Выполните визуализацию независимой и зависимой переменных в соответствии с индивидуальным заданием, подписывая оси и рисунок.\n",
        "\n",
        "3. Постройте парную линейную регрессию для независимого и зависимого признаков при помощи точного подхода и при помощи нейронной сети с одним нейроном. Вычислите и сравните значения показателей качества  R2  двух подходов.\n",
        "\n",
        "4. Постройте диаграмму рассеяния для независимого и зависимого признаков и изобразите линии двух построенных парных регрессий, подписывая оси и рисунок и создавая легенду.\n",
        "\n",
        "5. Разбейте набор признаков на обучающую и контрольную выборки. Создайте и адаптируйте нормализующий слой Tensorflow для всех признаков набора данных (за исключением зависимого признака).\n",
        "\n",
        "6. Используя созданный нормализующий слой, постройте регресоры на базе следующих моделей множественной регрессии:\n",
        "\n",
        "линейной регрессии\n",
        "гребневой регрессии (L2)\n",
        "лассо регрессии (L1)\n",
        "7. Определите на контрольной выборке модель множественной регрессии с наиболее высоким качеством по показателю, указанному в индивидуальном задании, среди построенных моделей.\n",
        "\n",
        "8. Для лучшего регрессора визуализируйте кривые обучения (в зависимости от эпохи обучения).\n",
        "\n",
        "9. Определите медианные значения признаков (кроме независимого и зависимого признаков) и для построенных медианных значений визуализируйте на плоскости с независимым признаком в качестве оси абсцисс и зависимым признаком в качестве оси ординат точки тестовой выборки и линии (графики) различных моделей множественной регрессии разными цветами. Подпишите оси и создайте легенду и заголовок для рисунка.\n",
        "\n",
        "\n",
        "------------------------\n",
        "Лабораторная работа 1 – Вариант 12 \n",
        "\n",
        "1. Набор данных: wine_quality \n",
        "\n",
        "2. Независимая переменная: features/density \n",
        "\n",
        "3. Зависимая переменная: features/fixed acidity \n",
        "\n",
        "4. Визуализация для независимой переменной – эмпирическая плотность распределения \n",
        "\n",
        "5. Визуализация для зависимой переменной – столбчатая диаграмма \n",
        "\n",
        "6. Показатель качества регрессии – R^2 (коэффициент детерминации) \n",
        "\n",
        "Решение ниже\n"
      ]
    },
    {
      "cell_type": "markdown",
      "source": [
        "__Загрузите заданный в индивидуальном задании набор данных из Tensorflow Datasets и оставьте в наборе данных признаки, принимающие непрерывные числовые значения, включая указанные в индивидуальном задании независимую и зависимую переменные.__"
      ],
      "metadata": {
        "id": "KVNyVdjb4PiN"
      }
    },
    {
      "cell_type": "code",
      "source": [
        "import tensorflow_datasets as tfds"
      ],
      "metadata": {
        "id": "YQ_-2OJnz9Re"
      },
      "execution_count": 2,
      "outputs": []
    },
    {
      "cell_type": "code",
      "source": [
        "ds = tfds.load(\"wine_quality\", split='train') \n",
        "\n",
        "ds"
      ],
      "metadata": {
        "colab": {
          "base_uri": "https://localhost:8080/"
        },
        "id": "Mb5Wl9QkzKaE",
        "outputId": "26d4906d-5a1d-4cee-f2b7-a9c118741f5e"
      },
      "execution_count": 74,
      "outputs": [
        {
          "output_type": "execute_result",
          "data": {
            "text/plain": [
              "<_PrefetchDataset element_spec={'features': {'alcohol': TensorSpec(shape=(), dtype=tf.float32, name=None), 'chlorides': TensorSpec(shape=(), dtype=tf.float32, name=None), 'citric acid': TensorSpec(shape=(), dtype=tf.float32, name=None), 'density': TensorSpec(shape=(), dtype=tf.float32, name=None), 'fixed acidity': TensorSpec(shape=(), dtype=tf.float32, name=None), 'free sulfur dioxide': TensorSpec(shape=(), dtype=tf.float32, name=None), 'pH': TensorSpec(shape=(), dtype=tf.float32, name=None), 'residual sugar': TensorSpec(shape=(), dtype=tf.float32, name=None), 'sulphates': TensorSpec(shape=(), dtype=tf.float64, name=None), 'total sulfur dioxide': TensorSpec(shape=(), dtype=tf.float32, name=None), 'volatile acidity': TensorSpec(shape=(), dtype=tf.float32, name=None)}, 'quality': TensorSpec(shape=(), dtype=tf.int32, name=None)}>"
            ]
          },
          "metadata": {},
          "execution_count": 74
        }
      ]
    },
    {
      "cell_type": "code",
      "source": [
        "df = tfds.as_dataframe(ds)\n",
        "df.head()"
      ],
      "metadata": {
        "colab": {
          "base_uri": "https://localhost:8080/",
          "height": 305
        },
        "id": "jYdpiswt3JbY",
        "outputId": "0b279cfc-f44f-4cae-ff68-29b50659a5f2"
      },
      "execution_count": 4,
      "outputs": [
        {
          "output_type": "execute_result",
          "data": {
            "text/plain": [
              "   features/alcohol  features/chlorides  features/citric acid  \\\n",
              "0               9.0               0.054                  0.34   \n",
              "1              12.2               0.063                  0.49   \n",
              "2              11.2               0.029                  0.11   \n",
              "3               9.0               0.110                  0.27   \n",
              "4              12.0               0.035                  0.30   \n",
              "\n",
              "   features/density  features/fixed acidity  features/free sulfur dioxide  \\\n",
              "0           1.00080                     7.6                          44.0   \n",
              "1           0.99110                     6.3                          35.0   \n",
              "2           0.99076                     5.3                           6.0   \n",
              "3           0.99672                     6.6                          20.0   \n",
              "4           0.99016                     5.9                          57.0   \n",
              "\n",
              "   features/pH  features/residual sugar  features/sulphates  \\\n",
              "0         3.22                    18.35                0.55   \n",
              "1         3.38                     1.20                0.42   \n",
              "2         3.51                     1.10                0.48   \n",
              "3         3.08                    10.70                0.41   \n",
              "4         3.09                     3.80                0.34   \n",
              "\n",
              "   features/total sulfur dioxide  features/volatile acidity  quality  \n",
              "0                          197.0                       0.32        5  \n",
              "1                           92.0                       0.27        6  \n",
              "2                           51.0                       0.43        4  \n",
              "3                          103.0                       0.41        6  \n",
              "4                          135.0                       0.34        6  "
            ],
            "text/html": [
              "\n",
              "  <div id=\"df-6f1d859e-53a5-41ec-95da-5adf4ab0ac4a\">\n",
              "    <div class=\"colab-df-container\">\n",
              "      <div>\n",
              "<style scoped>\n",
              "    .dataframe tbody tr th:only-of-type {\n",
              "        vertical-align: middle;\n",
              "    }\n",
              "\n",
              "    .dataframe tbody tr th {\n",
              "        vertical-align: top;\n",
              "    }\n",
              "\n",
              "    .dataframe thead th {\n",
              "        text-align: right;\n",
              "    }\n",
              "</style>\n",
              "<table border=\"1\" class=\"dataframe\">\n",
              "  <thead>\n",
              "    <tr style=\"text-align: right;\">\n",
              "      <th></th>\n",
              "      <th>features/alcohol</th>\n",
              "      <th>features/chlorides</th>\n",
              "      <th>features/citric acid</th>\n",
              "      <th>features/density</th>\n",
              "      <th>features/fixed acidity</th>\n",
              "      <th>features/free sulfur dioxide</th>\n",
              "      <th>features/pH</th>\n",
              "      <th>features/residual sugar</th>\n",
              "      <th>features/sulphates</th>\n",
              "      <th>features/total sulfur dioxide</th>\n",
              "      <th>features/volatile acidity</th>\n",
              "      <th>quality</th>\n",
              "    </tr>\n",
              "  </thead>\n",
              "  <tbody>\n",
              "    <tr>\n",
              "      <th>0</th>\n",
              "      <td>9.0</td>\n",
              "      <td>0.054</td>\n",
              "      <td>0.34</td>\n",
              "      <td>1.00080</td>\n",
              "      <td>7.6</td>\n",
              "      <td>44.0</td>\n",
              "      <td>3.22</td>\n",
              "      <td>18.35</td>\n",
              "      <td>0.55</td>\n",
              "      <td>197.0</td>\n",
              "      <td>0.32</td>\n",
              "      <td>5</td>\n",
              "    </tr>\n",
              "    <tr>\n",
              "      <th>1</th>\n",
              "      <td>12.2</td>\n",
              "      <td>0.063</td>\n",
              "      <td>0.49</td>\n",
              "      <td>0.99110</td>\n",
              "      <td>6.3</td>\n",
              "      <td>35.0</td>\n",
              "      <td>3.38</td>\n",
              "      <td>1.20</td>\n",
              "      <td>0.42</td>\n",
              "      <td>92.0</td>\n",
              "      <td>0.27</td>\n",
              "      <td>6</td>\n",
              "    </tr>\n",
              "    <tr>\n",
              "      <th>2</th>\n",
              "      <td>11.2</td>\n",
              "      <td>0.029</td>\n",
              "      <td>0.11</td>\n",
              "      <td>0.99076</td>\n",
              "      <td>5.3</td>\n",
              "      <td>6.0</td>\n",
              "      <td>3.51</td>\n",
              "      <td>1.10</td>\n",
              "      <td>0.48</td>\n",
              "      <td>51.0</td>\n",
              "      <td>0.43</td>\n",
              "      <td>4</td>\n",
              "    </tr>\n",
              "    <tr>\n",
              "      <th>3</th>\n",
              "      <td>9.0</td>\n",
              "      <td>0.110</td>\n",
              "      <td>0.27</td>\n",
              "      <td>0.99672</td>\n",
              "      <td>6.6</td>\n",
              "      <td>20.0</td>\n",
              "      <td>3.08</td>\n",
              "      <td>10.70</td>\n",
              "      <td>0.41</td>\n",
              "      <td>103.0</td>\n",
              "      <td>0.41</td>\n",
              "      <td>6</td>\n",
              "    </tr>\n",
              "    <tr>\n",
              "      <th>4</th>\n",
              "      <td>12.0</td>\n",
              "      <td>0.035</td>\n",
              "      <td>0.30</td>\n",
              "      <td>0.99016</td>\n",
              "      <td>5.9</td>\n",
              "      <td>57.0</td>\n",
              "      <td>3.09</td>\n",
              "      <td>3.80</td>\n",
              "      <td>0.34</td>\n",
              "      <td>135.0</td>\n",
              "      <td>0.34</td>\n",
              "      <td>6</td>\n",
              "    </tr>\n",
              "  </tbody>\n",
              "</table>\n",
              "</div>\n",
              "      <button class=\"colab-df-convert\" onclick=\"convertToInteractive('df-6f1d859e-53a5-41ec-95da-5adf4ab0ac4a')\"\n",
              "              title=\"Convert this dataframe to an interactive table.\"\n",
              "              style=\"display:none;\">\n",
              "        \n",
              "  <svg xmlns=\"http://www.w3.org/2000/svg\" height=\"24px\"viewBox=\"0 0 24 24\"\n",
              "       width=\"24px\">\n",
              "    <path d=\"M0 0h24v24H0V0z\" fill=\"none\"/>\n",
              "    <path d=\"M18.56 5.44l.94 2.06.94-2.06 2.06-.94-2.06-.94-.94-2.06-.94 2.06-2.06.94zm-11 1L8.5 8.5l.94-2.06 2.06-.94-2.06-.94L8.5 2.5l-.94 2.06-2.06.94zm10 10l.94 2.06.94-2.06 2.06-.94-2.06-.94-.94-2.06-.94 2.06-2.06.94z\"/><path d=\"M17.41 7.96l-1.37-1.37c-.4-.4-.92-.59-1.43-.59-.52 0-1.04.2-1.43.59L10.3 9.45l-7.72 7.72c-.78.78-.78 2.05 0 2.83L4 21.41c.39.39.9.59 1.41.59.51 0 1.02-.2 1.41-.59l7.78-7.78 2.81-2.81c.8-.78.8-2.07 0-2.86zM5.41 20L4 18.59l7.72-7.72 1.47 1.35L5.41 20z\"/>\n",
              "  </svg>\n",
              "      </button>\n",
              "      \n",
              "  <style>\n",
              "    .colab-df-container {\n",
              "      display:flex;\n",
              "      flex-wrap:wrap;\n",
              "      gap: 12px;\n",
              "    }\n",
              "\n",
              "    .colab-df-convert {\n",
              "      background-color: #E8F0FE;\n",
              "      border: none;\n",
              "      border-radius: 50%;\n",
              "      cursor: pointer;\n",
              "      display: none;\n",
              "      fill: #1967D2;\n",
              "      height: 32px;\n",
              "      padding: 0 0 0 0;\n",
              "      width: 32px;\n",
              "    }\n",
              "\n",
              "    .colab-df-convert:hover {\n",
              "      background-color: #E2EBFA;\n",
              "      box-shadow: 0px 1px 2px rgba(60, 64, 67, 0.3), 0px 1px 3px 1px rgba(60, 64, 67, 0.15);\n",
              "      fill: #174EA6;\n",
              "    }\n",
              "\n",
              "    [theme=dark] .colab-df-convert {\n",
              "      background-color: #3B4455;\n",
              "      fill: #D2E3FC;\n",
              "    }\n",
              "\n",
              "    [theme=dark] .colab-df-convert:hover {\n",
              "      background-color: #434B5C;\n",
              "      box-shadow: 0px 1px 3px 1px rgba(0, 0, 0, 0.15);\n",
              "      filter: drop-shadow(0px 1px 2px rgba(0, 0, 0, 0.3));\n",
              "      fill: #FFFFFF;\n",
              "    }\n",
              "  </style>\n",
              "\n",
              "      <script>\n",
              "        const buttonEl =\n",
              "          document.querySelector('#df-6f1d859e-53a5-41ec-95da-5adf4ab0ac4a button.colab-df-convert');\n",
              "        buttonEl.style.display =\n",
              "          google.colab.kernel.accessAllowed ? 'block' : 'none';\n",
              "\n",
              "        async function convertToInteractive(key) {\n",
              "          const element = document.querySelector('#df-6f1d859e-53a5-41ec-95da-5adf4ab0ac4a');\n",
              "          const dataTable =\n",
              "            await google.colab.kernel.invokeFunction('convertToInteractive',\n",
              "                                                     [key], {});\n",
              "          if (!dataTable) return;\n",
              "\n",
              "          const docLinkHtml = 'Like what you see? Visit the ' +\n",
              "            '<a target=\"_blank\" href=https://colab.research.google.com/notebooks/data_table.ipynb>data table notebook</a>'\n",
              "            + ' to learn more about interactive tables.';\n",
              "          element.innerHTML = '';\n",
              "          dataTable['output_type'] = 'display_data';\n",
              "          await google.colab.output.renderOutput(dataTable, element);\n",
              "          const docLink = document.createElement('div');\n",
              "          docLink.innerHTML = docLinkHtml;\n",
              "          element.appendChild(docLink);\n",
              "        }\n",
              "      </script>\n",
              "    </div>\n",
              "  </div>\n",
              "  "
            ]
          },
          "metadata": {},
          "execution_count": 4
        }
      ]
    },
    {
      "cell_type": "code",
      "source": [
        "#df.drop(columns=['quality'],inplace=True) #оценка качества может быть от 0 до 10 всего\n",
        "df.head()"
      ],
      "metadata": {
        "colab": {
          "base_uri": "https://localhost:8080/",
          "height": 305
        },
        "id": "SVyj1B8Y3oJs",
        "outputId": "af1f9ec7-434b-4ed5-f73c-371c1d4d6a9a"
      },
      "execution_count": 5,
      "outputs": [
        {
          "output_type": "execute_result",
          "data": {
            "text/plain": [
              "   features/alcohol  features/chlorides  features/citric acid  \\\n",
              "0               9.0               0.054                  0.34   \n",
              "1              12.2               0.063                  0.49   \n",
              "2              11.2               0.029                  0.11   \n",
              "3               9.0               0.110                  0.27   \n",
              "4              12.0               0.035                  0.30   \n",
              "\n",
              "   features/density  features/fixed acidity  features/free sulfur dioxide  \\\n",
              "0           1.00080                     7.6                          44.0   \n",
              "1           0.99110                     6.3                          35.0   \n",
              "2           0.99076                     5.3                           6.0   \n",
              "3           0.99672                     6.6                          20.0   \n",
              "4           0.99016                     5.9                          57.0   \n",
              "\n",
              "   features/pH  features/residual sugar  features/sulphates  \\\n",
              "0         3.22                    18.35                0.55   \n",
              "1         3.38                     1.20                0.42   \n",
              "2         3.51                     1.10                0.48   \n",
              "3         3.08                    10.70                0.41   \n",
              "4         3.09                     3.80                0.34   \n",
              "\n",
              "   features/total sulfur dioxide  features/volatile acidity  quality  \n",
              "0                          197.0                       0.32        5  \n",
              "1                           92.0                       0.27        6  \n",
              "2                           51.0                       0.43        4  \n",
              "3                          103.0                       0.41        6  \n",
              "4                          135.0                       0.34        6  "
            ],
            "text/html": [
              "\n",
              "  <div id=\"df-2b664c4a-897f-4a66-8bce-1e05d691a7dc\">\n",
              "    <div class=\"colab-df-container\">\n",
              "      <div>\n",
              "<style scoped>\n",
              "    .dataframe tbody tr th:only-of-type {\n",
              "        vertical-align: middle;\n",
              "    }\n",
              "\n",
              "    .dataframe tbody tr th {\n",
              "        vertical-align: top;\n",
              "    }\n",
              "\n",
              "    .dataframe thead th {\n",
              "        text-align: right;\n",
              "    }\n",
              "</style>\n",
              "<table border=\"1\" class=\"dataframe\">\n",
              "  <thead>\n",
              "    <tr style=\"text-align: right;\">\n",
              "      <th></th>\n",
              "      <th>features/alcohol</th>\n",
              "      <th>features/chlorides</th>\n",
              "      <th>features/citric acid</th>\n",
              "      <th>features/density</th>\n",
              "      <th>features/fixed acidity</th>\n",
              "      <th>features/free sulfur dioxide</th>\n",
              "      <th>features/pH</th>\n",
              "      <th>features/residual sugar</th>\n",
              "      <th>features/sulphates</th>\n",
              "      <th>features/total sulfur dioxide</th>\n",
              "      <th>features/volatile acidity</th>\n",
              "      <th>quality</th>\n",
              "    </tr>\n",
              "  </thead>\n",
              "  <tbody>\n",
              "    <tr>\n",
              "      <th>0</th>\n",
              "      <td>9.0</td>\n",
              "      <td>0.054</td>\n",
              "      <td>0.34</td>\n",
              "      <td>1.00080</td>\n",
              "      <td>7.6</td>\n",
              "      <td>44.0</td>\n",
              "      <td>3.22</td>\n",
              "      <td>18.35</td>\n",
              "      <td>0.55</td>\n",
              "      <td>197.0</td>\n",
              "      <td>0.32</td>\n",
              "      <td>5</td>\n",
              "    </tr>\n",
              "    <tr>\n",
              "      <th>1</th>\n",
              "      <td>12.2</td>\n",
              "      <td>0.063</td>\n",
              "      <td>0.49</td>\n",
              "      <td>0.99110</td>\n",
              "      <td>6.3</td>\n",
              "      <td>35.0</td>\n",
              "      <td>3.38</td>\n",
              "      <td>1.20</td>\n",
              "      <td>0.42</td>\n",
              "      <td>92.0</td>\n",
              "      <td>0.27</td>\n",
              "      <td>6</td>\n",
              "    </tr>\n",
              "    <tr>\n",
              "      <th>2</th>\n",
              "      <td>11.2</td>\n",
              "      <td>0.029</td>\n",
              "      <td>0.11</td>\n",
              "      <td>0.99076</td>\n",
              "      <td>5.3</td>\n",
              "      <td>6.0</td>\n",
              "      <td>3.51</td>\n",
              "      <td>1.10</td>\n",
              "      <td>0.48</td>\n",
              "      <td>51.0</td>\n",
              "      <td>0.43</td>\n",
              "      <td>4</td>\n",
              "    </tr>\n",
              "    <tr>\n",
              "      <th>3</th>\n",
              "      <td>9.0</td>\n",
              "      <td>0.110</td>\n",
              "      <td>0.27</td>\n",
              "      <td>0.99672</td>\n",
              "      <td>6.6</td>\n",
              "      <td>20.0</td>\n",
              "      <td>3.08</td>\n",
              "      <td>10.70</td>\n",
              "      <td>0.41</td>\n",
              "      <td>103.0</td>\n",
              "      <td>0.41</td>\n",
              "      <td>6</td>\n",
              "    </tr>\n",
              "    <tr>\n",
              "      <th>4</th>\n",
              "      <td>12.0</td>\n",
              "      <td>0.035</td>\n",
              "      <td>0.30</td>\n",
              "      <td>0.99016</td>\n",
              "      <td>5.9</td>\n",
              "      <td>57.0</td>\n",
              "      <td>3.09</td>\n",
              "      <td>3.80</td>\n",
              "      <td>0.34</td>\n",
              "      <td>135.0</td>\n",
              "      <td>0.34</td>\n",
              "      <td>6</td>\n",
              "    </tr>\n",
              "  </tbody>\n",
              "</table>\n",
              "</div>\n",
              "      <button class=\"colab-df-convert\" onclick=\"convertToInteractive('df-2b664c4a-897f-4a66-8bce-1e05d691a7dc')\"\n",
              "              title=\"Convert this dataframe to an interactive table.\"\n",
              "              style=\"display:none;\">\n",
              "        \n",
              "  <svg xmlns=\"http://www.w3.org/2000/svg\" height=\"24px\"viewBox=\"0 0 24 24\"\n",
              "       width=\"24px\">\n",
              "    <path d=\"M0 0h24v24H0V0z\" fill=\"none\"/>\n",
              "    <path d=\"M18.56 5.44l.94 2.06.94-2.06 2.06-.94-2.06-.94-.94-2.06-.94 2.06-2.06.94zm-11 1L8.5 8.5l.94-2.06 2.06-.94-2.06-.94L8.5 2.5l-.94 2.06-2.06.94zm10 10l.94 2.06.94-2.06 2.06-.94-2.06-.94-.94-2.06-.94 2.06-2.06.94z\"/><path d=\"M17.41 7.96l-1.37-1.37c-.4-.4-.92-.59-1.43-.59-.52 0-1.04.2-1.43.59L10.3 9.45l-7.72 7.72c-.78.78-.78 2.05 0 2.83L4 21.41c.39.39.9.59 1.41.59.51 0 1.02-.2 1.41-.59l7.78-7.78 2.81-2.81c.8-.78.8-2.07 0-2.86zM5.41 20L4 18.59l7.72-7.72 1.47 1.35L5.41 20z\"/>\n",
              "  </svg>\n",
              "      </button>\n",
              "      \n",
              "  <style>\n",
              "    .colab-df-container {\n",
              "      display:flex;\n",
              "      flex-wrap:wrap;\n",
              "      gap: 12px;\n",
              "    }\n",
              "\n",
              "    .colab-df-convert {\n",
              "      background-color: #E8F0FE;\n",
              "      border: none;\n",
              "      border-radius: 50%;\n",
              "      cursor: pointer;\n",
              "      display: none;\n",
              "      fill: #1967D2;\n",
              "      height: 32px;\n",
              "      padding: 0 0 0 0;\n",
              "      width: 32px;\n",
              "    }\n",
              "\n",
              "    .colab-df-convert:hover {\n",
              "      background-color: #E2EBFA;\n",
              "      box-shadow: 0px 1px 2px rgba(60, 64, 67, 0.3), 0px 1px 3px 1px rgba(60, 64, 67, 0.15);\n",
              "      fill: #174EA6;\n",
              "    }\n",
              "\n",
              "    [theme=dark] .colab-df-convert {\n",
              "      background-color: #3B4455;\n",
              "      fill: #D2E3FC;\n",
              "    }\n",
              "\n",
              "    [theme=dark] .colab-df-convert:hover {\n",
              "      background-color: #434B5C;\n",
              "      box-shadow: 0px 1px 3px 1px rgba(0, 0, 0, 0.15);\n",
              "      filter: drop-shadow(0px 1px 2px rgba(0, 0, 0, 0.3));\n",
              "      fill: #FFFFFF;\n",
              "    }\n",
              "  </style>\n",
              "\n",
              "      <script>\n",
              "        const buttonEl =\n",
              "          document.querySelector('#df-2b664c4a-897f-4a66-8bce-1e05d691a7dc button.colab-df-convert');\n",
              "        buttonEl.style.display =\n",
              "          google.colab.kernel.accessAllowed ? 'block' : 'none';\n",
              "\n",
              "        async function convertToInteractive(key) {\n",
              "          const element = document.querySelector('#df-2b664c4a-897f-4a66-8bce-1e05d691a7dc');\n",
              "          const dataTable =\n",
              "            await google.colab.kernel.invokeFunction('convertToInteractive',\n",
              "                                                     [key], {});\n",
              "          if (!dataTable) return;\n",
              "\n",
              "          const docLinkHtml = 'Like what you see? Visit the ' +\n",
              "            '<a target=\"_blank\" href=https://colab.research.google.com/notebooks/data_table.ipynb>data table notebook</a>'\n",
              "            + ' to learn more about interactive tables.';\n",
              "          element.innerHTML = '';\n",
              "          dataTable['output_type'] = 'display_data';\n",
              "          await google.colab.output.renderOutput(dataTable, element);\n",
              "          const docLink = document.createElement('div');\n",
              "          docLink.innerHTML = docLinkHtml;\n",
              "          element.appendChild(docLink);\n",
              "        }\n",
              "      </script>\n",
              "    </div>\n",
              "  </div>\n",
              "  "
            ]
          },
          "metadata": {},
          "execution_count": 5
        }
      ]
    },
    {
      "cell_type": "markdown",
      "source": [
        "__Вычислите матрицу корреляции признаков и определите пары признаков с наиболее низкой и наиболее высокой корреляцией.__"
      ],
      "metadata": {
        "id": "0uVq0IZ78jiW"
      }
    },
    {
      "cell_type": "code",
      "source": [
        "corr_matrix = df.corr()\n",
        "corr_matrix"
      ],
      "metadata": {
        "colab": {
          "base_uri": "https://localhost:8080/",
          "height": 611
        },
        "id": "kwpKRv2s8k3-",
        "outputId": "82cf55bc-1bda-4510-9e4a-75cd13b662fb"
      },
      "execution_count": 6,
      "outputs": [
        {
          "output_type": "execute_result",
          "data": {
            "text/plain": [
              "                               features/alcohol  features/chlorides  \\\n",
              "features/alcohol                       1.000000           -0.360189   \n",
              "features/chlorides                    -0.360189            1.000000   \n",
              "features/citric acid                  -0.075729            0.114364   \n",
              "features/density                      -0.780138            0.257211   \n",
              "features/fixed acidity                -0.120881            0.023086   \n",
              "features/free sulfur dioxide          -0.250104            0.101392   \n",
              "features/pH                            0.121432           -0.090439   \n",
              "features/residual sugar               -0.450631            0.088685   \n",
              "features/sulphates                    -0.017433            0.016763   \n",
              "features/total sulfur dioxide         -0.448892            0.198910   \n",
              "features/volatile acidity              0.067718            0.070512   \n",
              "quality                                0.435575           -0.209934   \n",
              "\n",
              "                               features/citric acid  features/density  \\\n",
              "features/alcohol                          -0.075729         -0.780138   \n",
              "features/chlorides                         0.114364          0.257211   \n",
              "features/citric acid                       1.000000          0.149503   \n",
              "features/density                           0.149503          1.000000   \n",
              "features/fixed acidity                     0.289181          0.265331   \n",
              "features/free sulfur dioxide               0.094077          0.294210   \n",
              "features/pH                               -0.163748         -0.093592   \n",
              "features/residual sugar                    0.094212          0.838967   \n",
              "features/sulphates                         0.062331          0.074493   \n",
              "features/total sulfur dioxide              0.121131          0.529881   \n",
              "features/volatile acidity                 -0.149472          0.027114   \n",
              "quality                                   -0.009209         -0.307123   \n",
              "\n",
              "                               features/fixed acidity  \\\n",
              "features/alcohol                            -0.120881   \n",
              "features/chlorides                           0.023086   \n",
              "features/citric acid                         0.289181   \n",
              "features/density                             0.265331   \n",
              "features/fixed acidity                       1.000000   \n",
              "features/free sulfur dioxide                -0.049396   \n",
              "features/pH                                 -0.425858   \n",
              "features/residual sugar                      0.089021   \n",
              "features/sulphates                          -0.017143   \n",
              "features/total sulfur dioxide                0.091070   \n",
              "features/volatile acidity                   -0.022697   \n",
              "quality                                     -0.113663   \n",
              "\n",
              "                               features/free sulfur dioxide  features/pH  \\\n",
              "features/alcohol                                  -0.250104     0.121432   \n",
              "features/chlorides                                 0.101392    -0.090439   \n",
              "features/citric acid                               0.094077    -0.163748   \n",
              "features/density                                   0.294210    -0.093592   \n",
              "features/fixed acidity                            -0.049396    -0.425858   \n",
              "features/free sulfur dioxide                       1.000000    -0.000618   \n",
              "features/pH                                       -0.000618     1.000000   \n",
              "features/residual sugar                            0.299098    -0.194133   \n",
              "features/sulphates                                 0.059217     0.155951   \n",
              "features/total sulfur dioxide                      0.615501     0.002321   \n",
              "features/volatile acidity                         -0.097012    -0.031915   \n",
              "quality                                            0.008158     0.099427   \n",
              "\n",
              "                               features/residual sugar  features/sulphates  \\\n",
              "features/alcohol                             -0.450631           -0.017433   \n",
              "features/chlorides                            0.088685            0.016763   \n",
              "features/citric acid                          0.094212            0.062331   \n",
              "features/density                              0.838967            0.074493   \n",
              "features/fixed acidity                        0.089021           -0.017143   \n",
              "features/free sulfur dioxide                  0.299098            0.059217   \n",
              "features/pH                                  -0.194133            0.155951   \n",
              "features/residual sugar                       1.000000           -0.026664   \n",
              "features/sulphates                           -0.026664            1.000000   \n",
              "features/total sulfur dioxide                 0.401439            0.134562   \n",
              "features/volatile acidity                     0.064286           -0.035728   \n",
              "quality                                      -0.097577            0.053678   \n",
              "\n",
              "                               features/total sulfur dioxide  \\\n",
              "features/alcohol                                   -0.448892   \n",
              "features/chlorides                                  0.198910   \n",
              "features/citric acid                                0.121131   \n",
              "features/density                                    0.529881   \n",
              "features/fixed acidity                              0.091070   \n",
              "features/free sulfur dioxide                        0.615501   \n",
              "features/pH                                         0.002321   \n",
              "features/residual sugar                             0.401439   \n",
              "features/sulphates                                  0.134562   \n",
              "features/total sulfur dioxide                       1.000000   \n",
              "features/volatile acidity                           0.089261   \n",
              "quality                                            -0.174737   \n",
              "\n",
              "                               features/volatile acidity   quality  \n",
              "features/alcohol                                0.067718  0.435575  \n",
              "features/chlorides                              0.070512 -0.209934  \n",
              "features/citric acid                           -0.149472 -0.009209  \n",
              "features/density                                0.027114 -0.307123  \n",
              "features/fixed acidity                         -0.022697 -0.113663  \n",
              "features/free sulfur dioxide                   -0.097012  0.008158  \n",
              "features/pH                                    -0.031915  0.099427  \n",
              "features/residual sugar                         0.064286 -0.097577  \n",
              "features/sulphates                             -0.035728  0.053678  \n",
              "features/total sulfur dioxide                   0.089261 -0.174737  \n",
              "features/volatile acidity                       1.000000 -0.194723  \n",
              "quality                                        -0.194723  1.000000  "
            ],
            "text/html": [
              "\n",
              "  <div id=\"df-9674d25f-9635-4907-a827-bdd73c36e96c\">\n",
              "    <div class=\"colab-df-container\">\n",
              "      <div>\n",
              "<style scoped>\n",
              "    .dataframe tbody tr th:only-of-type {\n",
              "        vertical-align: middle;\n",
              "    }\n",
              "\n",
              "    .dataframe tbody tr th {\n",
              "        vertical-align: top;\n",
              "    }\n",
              "\n",
              "    .dataframe thead th {\n",
              "        text-align: right;\n",
              "    }\n",
              "</style>\n",
              "<table border=\"1\" class=\"dataframe\">\n",
              "  <thead>\n",
              "    <tr style=\"text-align: right;\">\n",
              "      <th></th>\n",
              "      <th>features/alcohol</th>\n",
              "      <th>features/chlorides</th>\n",
              "      <th>features/citric acid</th>\n",
              "      <th>features/density</th>\n",
              "      <th>features/fixed acidity</th>\n",
              "      <th>features/free sulfur dioxide</th>\n",
              "      <th>features/pH</th>\n",
              "      <th>features/residual sugar</th>\n",
              "      <th>features/sulphates</th>\n",
              "      <th>features/total sulfur dioxide</th>\n",
              "      <th>features/volatile acidity</th>\n",
              "      <th>quality</th>\n",
              "    </tr>\n",
              "  </thead>\n",
              "  <tbody>\n",
              "    <tr>\n",
              "      <th>features/alcohol</th>\n",
              "      <td>1.000000</td>\n",
              "      <td>-0.360189</td>\n",
              "      <td>-0.075729</td>\n",
              "      <td>-0.780138</td>\n",
              "      <td>-0.120881</td>\n",
              "      <td>-0.250104</td>\n",
              "      <td>0.121432</td>\n",
              "      <td>-0.450631</td>\n",
              "      <td>-0.017433</td>\n",
              "      <td>-0.448892</td>\n",
              "      <td>0.067718</td>\n",
              "      <td>0.435575</td>\n",
              "    </tr>\n",
              "    <tr>\n",
              "      <th>features/chlorides</th>\n",
              "      <td>-0.360189</td>\n",
              "      <td>1.000000</td>\n",
              "      <td>0.114364</td>\n",
              "      <td>0.257211</td>\n",
              "      <td>0.023086</td>\n",
              "      <td>0.101392</td>\n",
              "      <td>-0.090439</td>\n",
              "      <td>0.088685</td>\n",
              "      <td>0.016763</td>\n",
              "      <td>0.198910</td>\n",
              "      <td>0.070512</td>\n",
              "      <td>-0.209934</td>\n",
              "    </tr>\n",
              "    <tr>\n",
              "      <th>features/citric acid</th>\n",
              "      <td>-0.075729</td>\n",
              "      <td>0.114364</td>\n",
              "      <td>1.000000</td>\n",
              "      <td>0.149503</td>\n",
              "      <td>0.289181</td>\n",
              "      <td>0.094077</td>\n",
              "      <td>-0.163748</td>\n",
              "      <td>0.094212</td>\n",
              "      <td>0.062331</td>\n",
              "      <td>0.121131</td>\n",
              "      <td>-0.149472</td>\n",
              "      <td>-0.009209</td>\n",
              "    </tr>\n",
              "    <tr>\n",
              "      <th>features/density</th>\n",
              "      <td>-0.780138</td>\n",
              "      <td>0.257211</td>\n",
              "      <td>0.149503</td>\n",
              "      <td>1.000000</td>\n",
              "      <td>0.265331</td>\n",
              "      <td>0.294210</td>\n",
              "      <td>-0.093592</td>\n",
              "      <td>0.838967</td>\n",
              "      <td>0.074493</td>\n",
              "      <td>0.529881</td>\n",
              "      <td>0.027114</td>\n",
              "      <td>-0.307123</td>\n",
              "    </tr>\n",
              "    <tr>\n",
              "      <th>features/fixed acidity</th>\n",
              "      <td>-0.120881</td>\n",
              "      <td>0.023086</td>\n",
              "      <td>0.289181</td>\n",
              "      <td>0.265331</td>\n",
              "      <td>1.000000</td>\n",
              "      <td>-0.049396</td>\n",
              "      <td>-0.425858</td>\n",
              "      <td>0.089021</td>\n",
              "      <td>-0.017143</td>\n",
              "      <td>0.091070</td>\n",
              "      <td>-0.022697</td>\n",
              "      <td>-0.113663</td>\n",
              "    </tr>\n",
              "    <tr>\n",
              "      <th>features/free sulfur dioxide</th>\n",
              "      <td>-0.250104</td>\n",
              "      <td>0.101392</td>\n",
              "      <td>0.094077</td>\n",
              "      <td>0.294210</td>\n",
              "      <td>-0.049396</td>\n",
              "      <td>1.000000</td>\n",
              "      <td>-0.000618</td>\n",
              "      <td>0.299098</td>\n",
              "      <td>0.059217</td>\n",
              "      <td>0.615501</td>\n",
              "      <td>-0.097012</td>\n",
              "      <td>0.008158</td>\n",
              "    </tr>\n",
              "    <tr>\n",
              "      <th>features/pH</th>\n",
              "      <td>0.121432</td>\n",
              "      <td>-0.090439</td>\n",
              "      <td>-0.163748</td>\n",
              "      <td>-0.093592</td>\n",
              "      <td>-0.425858</td>\n",
              "      <td>-0.000618</td>\n",
              "      <td>1.000000</td>\n",
              "      <td>-0.194133</td>\n",
              "      <td>0.155951</td>\n",
              "      <td>0.002321</td>\n",
              "      <td>-0.031915</td>\n",
              "      <td>0.099427</td>\n",
              "    </tr>\n",
              "    <tr>\n",
              "      <th>features/residual sugar</th>\n",
              "      <td>-0.450631</td>\n",
              "      <td>0.088685</td>\n",
              "      <td>0.094212</td>\n",
              "      <td>0.838967</td>\n",
              "      <td>0.089021</td>\n",
              "      <td>0.299098</td>\n",
              "      <td>-0.194133</td>\n",
              "      <td>1.000000</td>\n",
              "      <td>-0.026664</td>\n",
              "      <td>0.401439</td>\n",
              "      <td>0.064286</td>\n",
              "      <td>-0.097577</td>\n",
              "    </tr>\n",
              "    <tr>\n",
              "      <th>features/sulphates</th>\n",
              "      <td>-0.017433</td>\n",
              "      <td>0.016763</td>\n",
              "      <td>0.062331</td>\n",
              "      <td>0.074493</td>\n",
              "      <td>-0.017143</td>\n",
              "      <td>0.059217</td>\n",
              "      <td>0.155951</td>\n",
              "      <td>-0.026664</td>\n",
              "      <td>1.000000</td>\n",
              "      <td>0.134562</td>\n",
              "      <td>-0.035728</td>\n",
              "      <td>0.053678</td>\n",
              "    </tr>\n",
              "    <tr>\n",
              "      <th>features/total sulfur dioxide</th>\n",
              "      <td>-0.448892</td>\n",
              "      <td>0.198910</td>\n",
              "      <td>0.121131</td>\n",
              "      <td>0.529881</td>\n",
              "      <td>0.091070</td>\n",
              "      <td>0.615501</td>\n",
              "      <td>0.002321</td>\n",
              "      <td>0.401439</td>\n",
              "      <td>0.134562</td>\n",
              "      <td>1.000000</td>\n",
              "      <td>0.089261</td>\n",
              "      <td>-0.174737</td>\n",
              "    </tr>\n",
              "    <tr>\n",
              "      <th>features/volatile acidity</th>\n",
              "      <td>0.067718</td>\n",
              "      <td>0.070512</td>\n",
              "      <td>-0.149472</td>\n",
              "      <td>0.027114</td>\n",
              "      <td>-0.022697</td>\n",
              "      <td>-0.097012</td>\n",
              "      <td>-0.031915</td>\n",
              "      <td>0.064286</td>\n",
              "      <td>-0.035728</td>\n",
              "      <td>0.089261</td>\n",
              "      <td>1.000000</td>\n",
              "      <td>-0.194723</td>\n",
              "    </tr>\n",
              "    <tr>\n",
              "      <th>quality</th>\n",
              "      <td>0.435575</td>\n",
              "      <td>-0.209934</td>\n",
              "      <td>-0.009209</td>\n",
              "      <td>-0.307123</td>\n",
              "      <td>-0.113663</td>\n",
              "      <td>0.008158</td>\n",
              "      <td>0.099427</td>\n",
              "      <td>-0.097577</td>\n",
              "      <td>0.053678</td>\n",
              "      <td>-0.174737</td>\n",
              "      <td>-0.194723</td>\n",
              "      <td>1.000000</td>\n",
              "    </tr>\n",
              "  </tbody>\n",
              "</table>\n",
              "</div>\n",
              "      <button class=\"colab-df-convert\" onclick=\"convertToInteractive('df-9674d25f-9635-4907-a827-bdd73c36e96c')\"\n",
              "              title=\"Convert this dataframe to an interactive table.\"\n",
              "              style=\"display:none;\">\n",
              "        \n",
              "  <svg xmlns=\"http://www.w3.org/2000/svg\" height=\"24px\"viewBox=\"0 0 24 24\"\n",
              "       width=\"24px\">\n",
              "    <path d=\"M0 0h24v24H0V0z\" fill=\"none\"/>\n",
              "    <path d=\"M18.56 5.44l.94 2.06.94-2.06 2.06-.94-2.06-.94-.94-2.06-.94 2.06-2.06.94zm-11 1L8.5 8.5l.94-2.06 2.06-.94-2.06-.94L8.5 2.5l-.94 2.06-2.06.94zm10 10l.94 2.06.94-2.06 2.06-.94-2.06-.94-.94-2.06-.94 2.06-2.06.94z\"/><path d=\"M17.41 7.96l-1.37-1.37c-.4-.4-.92-.59-1.43-.59-.52 0-1.04.2-1.43.59L10.3 9.45l-7.72 7.72c-.78.78-.78 2.05 0 2.83L4 21.41c.39.39.9.59 1.41.59.51 0 1.02-.2 1.41-.59l7.78-7.78 2.81-2.81c.8-.78.8-2.07 0-2.86zM5.41 20L4 18.59l7.72-7.72 1.47 1.35L5.41 20z\"/>\n",
              "  </svg>\n",
              "      </button>\n",
              "      \n",
              "  <style>\n",
              "    .colab-df-container {\n",
              "      display:flex;\n",
              "      flex-wrap:wrap;\n",
              "      gap: 12px;\n",
              "    }\n",
              "\n",
              "    .colab-df-convert {\n",
              "      background-color: #E8F0FE;\n",
              "      border: none;\n",
              "      border-radius: 50%;\n",
              "      cursor: pointer;\n",
              "      display: none;\n",
              "      fill: #1967D2;\n",
              "      height: 32px;\n",
              "      padding: 0 0 0 0;\n",
              "      width: 32px;\n",
              "    }\n",
              "\n",
              "    .colab-df-convert:hover {\n",
              "      background-color: #E2EBFA;\n",
              "      box-shadow: 0px 1px 2px rgba(60, 64, 67, 0.3), 0px 1px 3px 1px rgba(60, 64, 67, 0.15);\n",
              "      fill: #174EA6;\n",
              "    }\n",
              "\n",
              "    [theme=dark] .colab-df-convert {\n",
              "      background-color: #3B4455;\n",
              "      fill: #D2E3FC;\n",
              "    }\n",
              "\n",
              "    [theme=dark] .colab-df-convert:hover {\n",
              "      background-color: #434B5C;\n",
              "      box-shadow: 0px 1px 3px 1px rgba(0, 0, 0, 0.15);\n",
              "      filter: drop-shadow(0px 1px 2px rgba(0, 0, 0, 0.3));\n",
              "      fill: #FFFFFF;\n",
              "    }\n",
              "  </style>\n",
              "\n",
              "      <script>\n",
              "        const buttonEl =\n",
              "          document.querySelector('#df-9674d25f-9635-4907-a827-bdd73c36e96c button.colab-df-convert');\n",
              "        buttonEl.style.display =\n",
              "          google.colab.kernel.accessAllowed ? 'block' : 'none';\n",
              "\n",
              "        async function convertToInteractive(key) {\n",
              "          const element = document.querySelector('#df-9674d25f-9635-4907-a827-bdd73c36e96c');\n",
              "          const dataTable =\n",
              "            await google.colab.kernel.invokeFunction('convertToInteractive',\n",
              "                                                     [key], {});\n",
              "          if (!dataTable) return;\n",
              "\n",
              "          const docLinkHtml = 'Like what you see? Visit the ' +\n",
              "            '<a target=\"_blank\" href=https://colab.research.google.com/notebooks/data_table.ipynb>data table notebook</a>'\n",
              "            + ' to learn more about interactive tables.';\n",
              "          element.innerHTML = '';\n",
              "          dataTable['output_type'] = 'display_data';\n",
              "          await google.colab.output.renderOutput(dataTable, element);\n",
              "          const docLink = document.createElement('div');\n",
              "          docLink.innerHTML = docLinkHtml;\n",
              "          element.appendChild(docLink);\n",
              "        }\n",
              "      </script>\n",
              "    </div>\n",
              "  </div>\n",
              "  "
            ]
          },
          "metadata": {},
          "execution_count": 6
        }
      ]
    },
    {
      "cell_type": "code",
      "source": [
        "import seaborn as sns"
      ],
      "metadata": {
        "id": "3SsHnbe39W2N"
      },
      "execution_count": 8,
      "outputs": []
    },
    {
      "cell_type": "code",
      "source": [
        "sns.heatmap(corr_matrix, cmap='coolwarm', annot=True, annot_kws={'size':8}) #для визуализации, так проще\n"
      ],
      "metadata": {
        "colab": {
          "base_uri": "https://localhost:8080/",
          "height": 567
        },
        "id": "x97Fq4uG9UPo",
        "outputId": "b8bca569-6e91-4438-bb1d-d5c8488c27f2"
      },
      "execution_count": 9,
      "outputs": [
        {
          "output_type": "execute_result",
          "data": {
            "text/plain": [
              "<Axes: >"
            ]
          },
          "metadata": {},
          "execution_count": 9
        },
        {
          "output_type": "display_data",
          "data": {
            "text/plain": [
              "<Figure size 640x480 with 2 Axes>"
            ],
            "image/png": "[encoded data removed]"
          },
          "metadata": {}
        }
      ]
    },
    {
      "cell_type": "markdown",
      "source": [
        "Видим, тут плотность зависит от спирта (чем больше спирта, тем меньше плотность (-0.78)) - по чеддоку корреляция высокая\n",
        "\n",
        "А диоксид серы (sulfur acidity) можно считать не зависит от меры кислотности (pH) - по Чеддоку вообще нет корреляции"
      ],
      "metadata": {
        "id": "tWbabDk5l3WT"
      }
    },
    {
      "cell_type": "markdown",
      "source": [
        "__Выполните визуализацию независимой и зависимой переменных в соответствии с индивидуальным заданием, подписывая оси и рисунок.__"
      ],
      "metadata": {
        "id": "Tq-KaSqZJn4r"
      }
    },
    {
      "cell_type": "code",
      "source": [
        "import matplotlib.pyplot as plt"
      ],
      "metadata": {
        "id": "j7D4qakz_z3X"
      },
      "execution_count": 10,
      "outputs": []
    },
    {
      "cell_type": "markdown",
      "source": [
        "y = features/fixed acidity \n",
        "\n",
        "x = features/density \n",
        "\n",
        "Визуализация для независимой переменной – эмпирическая плотность распределения \n",
        "\n",
        "Визуализация для зависимой переменной – столбчатая диаграмма "
      ],
      "metadata": {
        "id": "sJeyY_1JJxJY"
      }
    },
    {
      "cell_type": "markdown",
      "source": [
        "__Эмпирическая (выборочная) плотность распределения (PDF) для x__"
      ],
      "metadata": {
        "id": "qqQhn1dzlIP5"
      }
    },
    {
      "cell_type": "markdown",
      "source": [
        "# __границы х отредачить*__:"
      ],
      "metadata": {
        "id": "_WBzSjM9nZmy"
      }
    },
    {
      "cell_type": "code",
      "source": [
        "y = df['features/fixed acidity']\n",
        "x = df['features/density']"
      ],
      "metadata": {
        "id": "KoWPO5YmrQsZ"
      },
      "execution_count": 44,
      "outputs": []
    },
    {
      "cell_type": "code",
      "source": [
        "df['features/density'].plot.hist( density=True )\n"
      ],
      "metadata": {
        "id": "nZ4zqJCrlEFQ",
        "outputId": "105a0d69-6a8a-4749-8de7-327ce319c123",
        "colab": {
          "base_uri": "https://localhost:8080/",
          "height": 447
        }
      },
      "execution_count": 32,
      "outputs": [
        {
          "output_type": "execute_result",
          "data": {
            "text/plain": [
              "<Axes: ylabel='Frequency'>"
            ]
          },
          "metadata": {},
          "execution_count": 32
        },
        {
          "output_type": "display_data",
          "data": {
            "text/plain": [
              "<Figure size 640x480 with 1 Axes>"
            ],
            "image/png": "[encoded data removed]"
          },
          "metadata": {}
        }
      ]
    },
    {
      "cell_type": "code",
      "source": [
        "df['features/density'].plot.hist(color='yellow', edgecolor='black', bins=20, density=True, )"
      ],
      "metadata": {
        "colab": {
          "base_uri": "https://localhost:8080/",
          "height": 451
        },
        "id": "sG1hTW1KJzn1",
        "outputId": "b01f79e9-97cb-4fbc-daf3-f9aaf205fede"
      },
      "execution_count": 37,
      "outputs": [
        {
          "output_type": "execute_result",
          "data": {
            "text/plain": [
              "<Axes: ylabel='Frequency'>"
            ]
          },
          "metadata": {},
          "execution_count": 37
        },
        {
          "output_type": "display_data",
          "data": {
            "text/plain": [
              "<Figure size 640x480 with 1 Axes>"
            ],
            "image/png": "[encoded data removed]"
          },
          "metadata": {}
        }
      ]
    },
    {
      "cell_type": "markdown",
      "source": [
        "__Столбчатая диаграмма для y__"
      ],
      "metadata": {
        "id": "vPEp76ZmmNdH"
      }
    },
    {
      "cell_type": "code",
      "source": [
        "df[::30]['features/fixed acidity'].plot.bar(title='Столбчатая диаграмма признака features/fixed acidity', figsize=(20,8))"
      ],
      "metadata": {
        "colab": {
          "base_uri": "https://localhost:8080/",
          "height": 313
        },
        "id": "fjz7lQaOKiyw",
        "outputId": "5937b23f-d235-4b52-9ca5-8bb93b189015"
      },
      "execution_count": 38,
      "outputs": [
        {
          "output_type": "execute_result",
          "data": {
            "text/plain": [
              "<Axes: title={'center': 'Столбчатая диаграмма признака features/fixed acidity'}>"
            ]
          },
          "metadata": {},
          "execution_count": 38
        },
        {
          "output_type": "display_data",
          "data": {
            "text/plain": [
              "<Figure size 2000x800 with 1 Axes>"
            ],
            "image/png": "[encoded data removed]"
          },
          "metadata": {}
        }
      ]
    },
    {
      "cell_type": "markdown",
      "source": [
        "__Постройте парную линейную регрессию для независимого и зависимого признаков при помощи точного подхода и при помощи нейронной сети с одним нейроном. Вычислите и сравните значения показателей качества R2 двух подходов.__\n",
        "\n",
        "__Показатель качества регрессии – R^2 (коэффициент детерминации)__"
      ],
      "metadata": {
        "id": "P1pCf23wqUXB"
      }
    },
    {
      "cell_type": "code",
      "source": [
        "import numpy as np\n",
        "import pandas as pd"
      ],
      "metadata": {
        "id": "Yxn5I2DhsxlR"
      },
      "execution_count": 76,
      "outputs": []
    },
    {
      "cell_type": "code",
      "source": [
        "plt.scatter(x, y)\n"
      ],
      "metadata": {
        "id": "FC2bJptBsoB5",
        "outputId": "c01d3d99-e888-4a76-ebe1-2ee324bbb699",
        "colab": {
          "base_uri": "https://localhost:8080/",
          "height": 447
        }
      },
      "execution_count": 60,
      "outputs": [
        {
          "output_type": "execute_result",
          "data": {
            "text/plain": [
              "<matplotlib.collections.PathCollection at 0x7f43e70af0d0>"
            ]
          },
          "metadata": {},
          "execution_count": 60
        },
        {
          "output_type": "display_data",
          "data": {
            "text/plain": [
              "<Figure size 640x480 with 1 Axes>"
            ],
            "image/png": "[encoded data removed]"
          },
          "metadata": {}
        }
      ]
    },
    {
      "cell_type": "code",
      "source": [
        "x_mean = np.mean(x)\n",
        "y_mean = np.mean(y)"
      ],
      "metadata": {
        "id": "6PLMOuDWsv8h"
      },
      "execution_count": 54,
      "outputs": []
    },
    {
      "cell_type": "code",
      "source": [
        "#коэффициент регрессии\n",
        "a = (x - x_mean).dot(y - y_mean) / (x - x_mean).dot(x - x_mean)\n",
        "#коэффициент смещения\n",
        "b = y_mean - a * x_mean"
      ],
      "metadata": {
        "id": "KJ6zD8Pfs1Op"
      },
      "execution_count": 56,
      "outputs": []
    },
    {
      "cell_type": "code",
      "source": [
        "y_hat = a * x + b\n",
        "y_hat"
      ],
      "metadata": {
        "id": "CD4FS_2ws7hI",
        "outputId": "559efc24-ea3a-4603-8584-409b94e8b022",
        "colab": {
          "base_uri": "https://localhost:8080/"
        }
      },
      "execution_count": 57,
      "outputs": [
        {
          "output_type": "execute_result",
          "data": {
            "text/plain": [
              "0       7.361801\n",
              "1       6.635643\n",
              "2       6.610191\n",
              "3       7.056366\n",
              "4       6.565269\n",
              "          ...   \n",
              "4893    6.596718\n",
              "4894    6.909630\n",
              "4895    7.216568\n",
              "4896    7.522751\n",
              "4897    6.593719\n",
              "Name: features/density, Length: 4898, dtype: float32"
            ]
          },
          "metadata": {},
          "execution_count": 57
        }
      ]
    },
    {
      "cell_type": "code",
      "source": [
        "plt.scatter(x, y)\n",
        "plt.plot(x, y_hat, color='r')\n"
      ],
      "metadata": {
        "id": "unWceiz8s8-X",
        "outputId": "55ffdab2-9e02-4258-8bb4-7f28ec2110ca",
        "colab": {
          "base_uri": "https://localhost:8080/",
          "height": 447
        }
      },
      "execution_count": 59,
      "outputs": [
        {
          "output_type": "execute_result",
          "data": {
            "text/plain": [
              "[<matplotlib.lines.Line2D at 0x7f43f20d31c0>]"
            ]
          },
          "metadata": {},
          "execution_count": 59
        },
        {
          "output_type": "display_data",
          "data": {
            "text/plain": [
              "<Figure size 640x480 with 1 Axes>"
            ],
            "image/png": "[encoded data removed]"
          },
          "metadata": {}
        }
      ]
    },
    {
      "cell_type": "code",
      "source": [
        "x_predict = 6\n",
        "y_predict = a * x_predict + b\n",
        "y_predict"
      ],
      "metadata": {
        "id": "bmOq5L1zs7dH",
        "outputId": "2a302fe4-8ba1-49f9-a10c-71a8289290bf",
        "colab": {
          "base_uri": "https://localhost:8080/"
        }
      },
      "execution_count": 61,
      "outputs": [
        {
          "output_type": "execute_result",
          "data": {
            "text/plain": [
              "381.6103820800781"
            ]
          },
          "metadata": {},
          "execution_count": 61
        }
      ]
    },
    {
      "cell_type": "code",
      "source": [
        "class SimpleLinReg:\n",
        "\n",
        "    def __init__(self):\n",
        "        self.a_ = None\n",
        "        self.b_ = None\n",
        "\n",
        "    def fit(self, x_train, y_train):\n",
        "        assert x_train.ndim == 1, \\\n",
        "            \"В данных должен быть один признак\"\n",
        "        assert len(x_train) == len(y_train), \\\n",
        "            \"Данные должны иметь одинаковый размер\"\n",
        "\n",
        "        x_mean = np.mean(x_train)\n",
        "        y_mean = np.mean(y_train)\n",
        "\n",
        "        self.a_ = (x_train - x_mean).dot(y_train - y_mean) / \\\n",
        "                  (x_train - x_mean).dot(x_train - x_mean)\n",
        "        self.b_ = y_mean - self.a_ * x_mean\n",
        "\n",
        "        return self\n",
        "\n",
        "    def predict(self, x_predict):\n",
        "        assert x_predict.ndim == 1, \\\n",
        "            \"В данных должен быть один признак\"\n",
        "        assert self.a_ is not None and self.b_ is not None, \\\n",
        "            \"Модель вначале должна быть обучена\"\n",
        "\n",
        "        return np.array([self._predict(x) for x in x_predict])\n",
        "\n",
        "    def _predict(self, x_single):\n",
        "        return self.a_ * x_single + self.b_\n",
        "\n",
        "    def __repr__(self):\n",
        "        return \"SimpleLinearReg()\""
      ],
      "metadata": {
        "id": "ox1O_zo3tJQx"
      },
      "execution_count": 62,
      "outputs": []
    },
    {
      "cell_type": "code",
      "source": [
        "reg1 = SimpleLinReg()\n",
        "reg1"
      ],
      "metadata": {
        "id": "al_JoaXitKdz",
        "outputId": "013937f1-ce25-445a-85cc-de9b30ec1ec3",
        "colab": {
          "base_uri": "https://localhost:8080/"
        }
      },
      "execution_count": 63,
      "outputs": [
        {
          "output_type": "execute_result",
          "data": {
            "text/plain": [
              "SimpleLinearReg()"
            ]
          },
          "metadata": {},
          "execution_count": 63
        }
      ]
    },
    {
      "cell_type": "code",
      "source": [
        "reg1.fit(x, y)\n",
        "reg1.predict(np.array([x_predict]))"
      ],
      "metadata": {
        "id": "cEDEBET0tMzZ",
        "outputId": "32f2d089-d5e8-46eb-d4d6-3fbd026b52b8",
        "colab": {
          "base_uri": "https://localhost:8080/"
        }
      },
      "execution_count": 64,
      "outputs": [
        {
          "output_type": "execute_result",
          "data": {
            "text/plain": [
              "array([381.61038208])"
            ]
          },
          "metadata": {},
          "execution_count": 64
        }
      ]
    },
    {
      "cell_type": "code",
      "source": [
        "reg1.a_, reg1.b_"
      ],
      "metadata": {
        "id": "cZwlmgGVtOAp",
        "outputId": "097647b7-1a39-4d31-cd86-a162cd6ba2f7",
        "colab": {
          "base_uri": "https://localhost:8080/"
        }
      },
      "execution_count": 65,
      "outputs": [
        {
          "output_type": "execute_result",
          "data": {
            "text/plain": [
              "(74.861694, -67.559784)"
            ]
          },
          "metadata": {},
          "execution_count": 65
        }
      ]
    },
    {
      "cell_type": "code",
      "source": [
        "y_hat1 = reg1.predict(x)\n",
        "\n",
        "plt.scatter(x, y)\n",
        "plt.plot(x, y_hat1, color='r')\n"
      ],
      "metadata": {
        "id": "vdvMOW2rtPOJ",
        "outputId": "52ea7d12-9964-4971-94d6-e9e9b25e9b98",
        "colab": {
          "base_uri": "https://localhost:8080/",
          "height": 447
        }
      },
      "execution_count": 67,
      "outputs": [
        {
          "output_type": "execute_result",
          "data": {
            "text/plain": [
              "[<matplotlib.lines.Line2D at 0x7f43e77633a0>]"
            ]
          },
          "metadata": {},
          "execution_count": 67
        },
        {
          "output_type": "display_data",
          "data": {
            "text/plain": [
              "<Figure size 640x480 with 1 Axes>"
            ],
            "image/png": "[encoded data removed]"
          },
          "metadata": {}
        }
      ]
    },
    {
      "cell_type": "code",
      "source": [
        "тут  поделю датасет на тест и обучение"
      ],
      "metadata": {
        "id": "q_DsgLUNtYJY"
      },
      "execution_count": null,
      "outputs": []
    },
    {
      "cell_type": "code",
      "source": [
        "df_train = pd.DataFrame(x_train)\n",
        "df_train"
      ],
      "metadata": {
        "id": "pICT8wVzuK6J",
        "outputId": "8288cb56-1f11-4c30-9bcd-d4aa9470130c",
        "colab": {
          "base_uri": "https://localhost:8080/",
          "height": 182
        }
      },
      "execution_count": 77,
      "outputs": [
        {
          "output_type": "error",
          "ename": "NameError",
          "evalue": "ignored",
          "traceback": [
            "\u001b[0;31m---------------------------------------------------------------------------\u001b[0m",
            "\u001b[0;31mNameError\u001b[0m                                 Traceback (most recent call last)",
            "\u001b[0;32m<ipython-input-77-9380d04c6b89>\u001b[0m in \u001b[0;36m<cell line: 1>\u001b[0;34m()\u001b[0m\n\u001b[0;32m----> 1\u001b[0;31m \u001b[0mdf_train\u001b[0m \u001b[0;34m=\u001b[0m \u001b[0mpd\u001b[0m\u001b[0;34m.\u001b[0m\u001b[0mDataFrame\u001b[0m\u001b[0;34m(\u001b[0m\u001b[0mx_train\u001b[0m\u001b[0;34m)\u001b[0m\u001b[0;34m\u001b[0m\u001b[0;34m\u001b[0m\u001b[0m\n\u001b[0m\u001b[1;32m      2\u001b[0m \u001b[0mdf_train\u001b[0m\u001b[0;34m\u001b[0m\u001b[0;34m\u001b[0m\u001b[0m\n",
            "\u001b[0;31mNameError\u001b[0m: name 'x_train' is not defined"
          ]
        }
      ]
    },
    {
      "cell_type": "code",
      "source": [
        "x = x_train[:,5]  # можно 12\n",
        "y = y_train\n",
        "x.shape, y.shape"
      ],
      "metadata": {
        "id": "JkudlK7MuWER",
        "outputId": "5161b802-7a13-4fc8-dddf-33db099d2922",
        "colab": {
          "base_uri": "https://localhost:8080/",
          "height": 200
        }
      },
      "execution_count": 78,
      "outputs": [
        {
          "output_type": "error",
          "ename": "NameError",
          "evalue": "ignored",
          "traceback": [
            "\u001b[0;31m---------------------------------------------------------------------------\u001b[0m",
            "\u001b[0;31mNameError\u001b[0m                                 Traceback (most recent call last)",
            "\u001b[0;32m<ipython-input-78-295500ddee94>\u001b[0m in \u001b[0;36m<cell line: 1>\u001b[0;34m()\u001b[0m\n\u001b[0;32m----> 1\u001b[0;31m \u001b[0mx\u001b[0m \u001b[0;34m=\u001b[0m \u001b[0mx_train\u001b[0m\u001b[0;34m[\u001b[0m\u001b[0;34m:\u001b[0m\u001b[0;34m,\u001b[0m\u001b[0;36m5\u001b[0m\u001b[0;34m]\u001b[0m  \u001b[0;31m# можно 12\u001b[0m\u001b[0;34m\u001b[0m\u001b[0;34m\u001b[0m\u001b[0m\n\u001b[0m\u001b[1;32m      2\u001b[0m \u001b[0my\u001b[0m \u001b[0;34m=\u001b[0m \u001b[0my_train\u001b[0m\u001b[0;34m\u001b[0m\u001b[0;34m\u001b[0m\u001b[0m\n\u001b[1;32m      3\u001b[0m \u001b[0mx\u001b[0m\u001b[0;34m.\u001b[0m\u001b[0mshape\u001b[0m\u001b[0;34m,\u001b[0m \u001b[0my\u001b[0m\u001b[0;34m.\u001b[0m\u001b[0mshape\u001b[0m\u001b[0;34m\u001b[0m\u001b[0;34m\u001b[0m\u001b[0m\n",
            "\u001b[0;31mNameError\u001b[0m: name 'x_train' is not defined"
          ]
        }
      ]
    },
    {
      "cell_type": "code",
      "source": [
        "plt.scatter(x, y);\n",
        "#набор переменных для парной регрессии"
      ],
      "metadata": {
        "id": "AS_06SW3uY3B"
      },
      "execution_count": null,
      "outputs": []
    },
    {
      "cell_type": "markdown",
      "source": [
        "при помощи нейронной сети:"
      ],
      "metadata": {
        "id": "RxhBaD-rrmva"
      }
    },
    {
      "cell_type": "code",
      "source": [
        "import tensorflow as tf"
      ],
      "metadata": {
        "id": "zVCXsWpeqUEx"
      },
      "execution_count": 39,
      "outputs": []
    },
    {
      "cell_type": "code",
      "source": [
        "model = tf.keras.Sequential( [ tf.keras.layers.Dense(1, input_shape=(1,)) ] )"
      ],
      "metadata": {
        "id": "x7OKiu7MrCn_"
      },
      "execution_count": 40,
      "outputs": []
    },
    {
      "cell_type": "code",
      "source": [
        "model.summary()"
      ],
      "metadata": {
        "id": "7iK5ST0frEr3",
        "outputId": "fc5422b7-63b9-4ca5-8274-8ff96bf2a7bc",
        "colab": {
          "base_uri": "https://localhost:8080/"
        }
      },
      "execution_count": 41,
      "outputs": [
        {
          "output_type": "stream",
          "name": "stdout",
          "text": [
            "Model: \"sequential\"\n",
            "_________________________________________________________________\n",
            " Layer (type)                Output Shape              Param #   \n",
            "=================================================================\n",
            " dense (Dense)               (None, 1)                 2         \n",
            "                                                                 \n",
            "=================================================================\n",
            "Total params: 2\n",
            "Trainable params: 2\n",
            "Non-trainable params: 0\n",
            "_________________________________________________________________\n"
          ]
        }
      ]
    },
    {
      "cell_type": "code",
      "source": [
        "model.compile(\n",
        "    loss=tf.keras.losses.mean_absolute_error,\n",
        "    optimizer=tf.keras.optimizers.Adam(learning_rate=0.25),\n",
        "    metrics=['RootMeanSquaredError']\n",
        ")\n",
        "#R2"
      ],
      "metadata": {
        "id": "DVrFxxeCrGqX"
      },
      "execution_count": 48,
      "outputs": []
    },
    {
      "cell_type": "code",
      "source": [
        "model.fit(x, y, epochs=100) # verbose=0"
      ],
      "metadata": {
        "id": "Brdv7aOErK4X",
        "outputId": "086da50d-39d8-4a4f-e722-187d5b6439b6",
        "colab": {
          "base_uri": "https://localhost:8080/"
        }
      },
      "execution_count": 49,
      "outputs": [
        {
          "output_type": "stream",
          "name": "stdout",
          "text": [
            "Epoch 1/100\n",
            "154/154 [==============================] - 1s 2ms/step - loss: 0.6541 - root_mean_squared_error: 0.8598\n",
            "Epoch 2/100\n",
            "154/154 [==============================] - 0s 2ms/step - loss: 0.6617 - root_mean_squared_error: 0.8640\n",
            "Epoch 3/100\n",
            "154/154 [==============================] - 0s 2ms/step - loss: 0.6496 - root_mean_squared_error: 0.8552\n",
            "Epoch 4/100\n",
            "154/154 [==============================] - 0s 2ms/step - loss: 0.6543 - root_mean_squared_error: 0.8579\n",
            "Epoch 5/100\n",
            "154/154 [==============================] - 0s 2ms/step - loss: 0.6517 - root_mean_squared_error: 0.8569\n",
            "Epoch 6/100\n",
            "154/154 [==============================] - 0s 2ms/step - loss: 0.6578 - root_mean_squared_error: 0.8655\n",
            "Epoch 7/100\n",
            "154/154 [==============================] - 0s 2ms/step - loss: 0.6644 - root_mean_squared_error: 0.8679\n",
            "Epoch 8/100\n",
            "154/154 [==============================] - 0s 2ms/step - loss: 0.6523 - root_mean_squared_error: 0.8551\n",
            "Epoch 9/100\n",
            "154/154 [==============================] - 0s 2ms/step - loss: 0.6478 - root_mean_squared_error: 0.8516\n",
            "Epoch 10/100\n",
            "154/154 [==============================] - 0s 2ms/step - loss: 0.6550 - root_mean_squared_error: 0.8592\n",
            "Epoch 11/100\n",
            "154/154 [==============================] - 0s 2ms/step - loss: 0.6445 - root_mean_squared_error: 0.8480\n",
            "Epoch 12/100\n",
            "154/154 [==============================] - 0s 2ms/step - loss: 0.6504 - root_mean_squared_error: 0.8588\n",
            "Epoch 13/100\n",
            "154/154 [==============================] - 0s 2ms/step - loss: 0.6474 - root_mean_squared_error: 0.8502\n",
            "Epoch 14/100\n",
            "154/154 [==============================] - 0s 2ms/step - loss: 0.6653 - root_mean_squared_error: 0.8727\n",
            "Epoch 15/100\n",
            "154/154 [==============================] - 0s 2ms/step - loss: 0.6596 - root_mean_squared_error: 0.8629\n",
            "Epoch 16/100\n",
            "154/154 [==============================] - 0s 2ms/step - loss: 0.6486 - root_mean_squared_error: 0.8555\n",
            "Epoch 17/100\n",
            "154/154 [==============================] - 0s 2ms/step - loss: 0.6508 - root_mean_squared_error: 0.8545\n",
            "Epoch 18/100\n",
            "154/154 [==============================] - 0s 2ms/step - loss: 0.6496 - root_mean_squared_error: 0.8535\n",
            "Epoch 19/100\n",
            "154/154 [==============================] - 0s 3ms/step - loss: 0.6514 - root_mean_squared_error: 0.8555\n",
            "Epoch 20/100\n",
            "154/154 [==============================] - 0s 2ms/step - loss: 0.6582 - root_mean_squared_error: 0.8610\n",
            "Epoch 21/100\n",
            "154/154 [==============================] - 0s 2ms/step - loss: 0.6486 - root_mean_squared_error: 0.8534\n",
            "Epoch 22/100\n",
            "154/154 [==============================] - 0s 2ms/step - loss: 0.6680 - root_mean_squared_error: 0.8759\n",
            "Epoch 23/100\n",
            "154/154 [==============================] - 0s 3ms/step - loss: 0.6554 - root_mean_squared_error: 0.8575\n",
            "Epoch 24/100\n",
            "154/154 [==============================] - 0s 3ms/step - loss: 0.6673 - root_mean_squared_error: 0.8751\n",
            "Epoch 25/100\n",
            "154/154 [==============================] - 0s 3ms/step - loss: 0.6476 - root_mean_squared_error: 0.8525\n",
            "Epoch 26/100\n",
            "154/154 [==============================] - 0s 2ms/step - loss: 0.6610 - root_mean_squared_error: 0.8649\n",
            "Epoch 27/100\n",
            "154/154 [==============================] - 0s 2ms/step - loss: 0.6611 - root_mean_squared_error: 0.8682\n",
            "Epoch 28/100\n",
            "154/154 [==============================] - 0s 2ms/step - loss: 0.6523 - root_mean_squared_error: 0.8578\n",
            "Epoch 29/100\n",
            "154/154 [==============================] - 0s 2ms/step - loss: 0.6537 - root_mean_squared_error: 0.8557\n",
            "Epoch 30/100\n",
            "154/154 [==============================] - 0s 2ms/step - loss: 0.6502 - root_mean_squared_error: 0.8528\n",
            "Epoch 31/100\n",
            "154/154 [==============================] - 0s 2ms/step - loss: 0.6453 - root_mean_squared_error: 0.8483\n",
            "Epoch 32/100\n",
            "154/154 [==============================] - 0s 2ms/step - loss: 0.6587 - root_mean_squared_error: 0.8627\n",
            "Epoch 33/100\n",
            "154/154 [==============================] - 0s 2ms/step - loss: 0.6568 - root_mean_squared_error: 0.8624\n",
            "Epoch 34/100\n",
            "154/154 [==============================] - 0s 2ms/step - loss: 0.6667 - root_mean_squared_error: 0.8746\n",
            "Epoch 35/100\n",
            "154/154 [==============================] - 0s 2ms/step - loss: 0.6473 - root_mean_squared_error: 0.8532\n",
            "Epoch 36/100\n",
            "154/154 [==============================] - 0s 2ms/step - loss: 0.6587 - root_mean_squared_error: 0.8630\n",
            "Epoch 37/100\n",
            "154/154 [==============================] - 0s 2ms/step - loss: 0.6539 - root_mean_squared_error: 0.8551\n",
            "Epoch 38/100\n",
            "154/154 [==============================] - 0s 2ms/step - loss: 0.6512 - root_mean_squared_error: 0.8578\n",
            "Epoch 39/100\n",
            "154/154 [==============================] - 0s 2ms/step - loss: 0.6479 - root_mean_squared_error: 0.8530\n",
            "Epoch 40/100\n",
            "154/154 [==============================] - 0s 2ms/step - loss: 0.6529 - root_mean_squared_error: 0.8575\n",
            "Epoch 41/100\n",
            "154/154 [==============================] - 0s 2ms/step - loss: 0.6500 - root_mean_squared_error: 0.8520\n",
            "Epoch 42/100\n",
            "154/154 [==============================] - 0s 2ms/step - loss: 0.6512 - root_mean_squared_error: 0.8546\n",
            "Epoch 43/100\n",
            "154/154 [==============================] - 0s 2ms/step - loss: 0.6590 - root_mean_squared_error: 0.8621\n",
            "Epoch 44/100\n",
            "154/154 [==============================] - 0s 2ms/step - loss: 0.6525 - root_mean_squared_error: 0.8563\n",
            "Epoch 45/100\n",
            "154/154 [==============================] - 0s 2ms/step - loss: 0.6613 - root_mean_squared_error: 0.8645\n",
            "Epoch 46/100\n",
            "154/154 [==============================] - 0s 2ms/step - loss: 0.6631 - root_mean_squared_error: 0.8652\n",
            "Epoch 47/100\n",
            "154/154 [==============================] - 0s 2ms/step - loss: 0.6514 - root_mean_squared_error: 0.8551\n",
            "Epoch 48/100\n",
            "154/154 [==============================] - 0s 1ms/step - loss: 0.6480 - root_mean_squared_error: 0.8510\n",
            "Epoch 49/100\n",
            "154/154 [==============================] - 0s 2ms/step - loss: 0.6435 - root_mean_squared_error: 0.8493\n",
            "Epoch 50/100\n",
            "154/154 [==============================] - 0s 2ms/step - loss: 0.6513 - root_mean_squared_error: 0.8559\n",
            "Epoch 51/100\n",
            "154/154 [==============================] - 0s 2ms/step - loss: 0.6449 - root_mean_squared_error: 0.8493\n",
            "Epoch 52/100\n",
            "154/154 [==============================] - 0s 2ms/step - loss: 0.6504 - root_mean_squared_error: 0.8559\n",
            "Epoch 53/100\n",
            "154/154 [==============================] - 0s 2ms/step - loss: 0.6455 - root_mean_squared_error: 0.8520\n",
            "Epoch 54/100\n",
            "154/154 [==============================] - 0s 2ms/step - loss: 0.6513 - root_mean_squared_error: 0.8553\n",
            "Epoch 55/100\n",
            "154/154 [==============================] - 0s 2ms/step - loss: 0.6501 - root_mean_squared_error: 0.8561\n",
            "Epoch 56/100\n",
            "154/154 [==============================] - 0s 2ms/step - loss: 0.6635 - root_mean_squared_error: 0.8653\n",
            "Epoch 57/100\n",
            "154/154 [==============================] - 0s 2ms/step - loss: 0.6515 - root_mean_squared_error: 0.8552\n",
            "Epoch 58/100\n",
            "154/154 [==============================] - 0s 2ms/step - loss: 0.6508 - root_mean_squared_error: 0.8547\n",
            "Epoch 59/100\n",
            "154/154 [==============================] - 0s 2ms/step - loss: 0.6559 - root_mean_squared_error: 0.8590\n",
            "Epoch 60/100\n",
            "154/154 [==============================] - 0s 2ms/step - loss: 0.6501 - root_mean_squared_error: 0.8526\n",
            "Epoch 61/100\n",
            "154/154 [==============================] - 0s 2ms/step - loss: 0.6457 - root_mean_squared_error: 0.8490\n",
            "Epoch 62/100\n",
            "154/154 [==============================] - 0s 2ms/step - loss: 0.6519 - root_mean_squared_error: 0.8561\n",
            "Epoch 63/100\n",
            "154/154 [==============================] - 0s 2ms/step - loss: 0.6514 - root_mean_squared_error: 0.8557\n",
            "Epoch 64/100\n",
            "154/154 [==============================] - 0s 2ms/step - loss: 0.6667 - root_mean_squared_error: 0.8776\n",
            "Epoch 65/100\n",
            "154/154 [==============================] - 0s 2ms/step - loss: 0.6442 - root_mean_squared_error: 0.8467\n",
            "Epoch 66/100\n",
            "154/154 [==============================] - 0s 2ms/step - loss: 0.6551 - root_mean_squared_error: 0.8598\n",
            "Epoch 67/100\n",
            "154/154 [==============================] - 0s 3ms/step - loss: 0.6493 - root_mean_squared_error: 0.8520\n",
            "Epoch 68/100\n",
            "154/154 [==============================] - 0s 3ms/step - loss: 0.6486 - root_mean_squared_error: 0.8551\n",
            "Epoch 69/100\n",
            "154/154 [==============================] - 0s 3ms/step - loss: 0.6527 - root_mean_squared_error: 0.8571\n",
            "Epoch 70/100\n",
            "154/154 [==============================] - 0s 3ms/step - loss: 0.6537 - root_mean_squared_error: 0.8573\n",
            "Epoch 71/100\n",
            "154/154 [==============================] - 0s 3ms/step - loss: 0.6478 - root_mean_squared_error: 0.8511\n",
            "Epoch 72/100\n",
            "154/154 [==============================] - 0s 3ms/step - loss: 0.6516 - root_mean_squared_error: 0.8588\n",
            "Epoch 73/100\n",
            "154/154 [==============================] - 0s 2ms/step - loss: 0.6615 - root_mean_squared_error: 0.8640\n",
            "Epoch 74/100\n",
            "154/154 [==============================] - 0s 2ms/step - loss: 0.6546 - root_mean_squared_error: 0.8592\n",
            "Epoch 75/100\n",
            "154/154 [==============================] - 0s 2ms/step - loss: 0.6591 - root_mean_squared_error: 0.8606\n",
            "Epoch 76/100\n",
            "154/154 [==============================] - 0s 1ms/step - loss: 0.6598 - root_mean_squared_error: 0.8648\n",
            "Epoch 77/100\n",
            "154/154 [==============================] - 0s 2ms/step - loss: 0.6570 - root_mean_squared_error: 0.8635\n",
            "Epoch 78/100\n",
            "154/154 [==============================] - 0s 1ms/step - loss: 0.6552 - root_mean_squared_error: 0.8613\n",
            "Epoch 79/100\n",
            "154/154 [==============================] - 0s 2ms/step - loss: 0.6611 - root_mean_squared_error: 0.8630\n",
            "Epoch 80/100\n",
            "154/154 [==============================] - 0s 2ms/step - loss: 0.6469 - root_mean_squared_error: 0.8537\n",
            "Epoch 81/100\n",
            "154/154 [==============================] - 0s 2ms/step - loss: 0.6508 - root_mean_squared_error: 0.8543\n",
            "Epoch 82/100\n",
            "154/154 [==============================] - 0s 2ms/step - loss: 0.6497 - root_mean_squared_error: 0.8510\n",
            "Epoch 83/100\n",
            "154/154 [==============================] - 0s 2ms/step - loss: 0.6436 - root_mean_squared_error: 0.8477\n",
            "Epoch 84/100\n",
            "154/154 [==============================] - 0s 2ms/step - loss: 0.6464 - root_mean_squared_error: 0.8501\n",
            "Epoch 85/100\n",
            "154/154 [==============================] - 0s 2ms/step - loss: 0.6506 - root_mean_squared_error: 0.8529\n",
            "Epoch 86/100\n",
            "154/154 [==============================] - 0s 2ms/step - loss: 0.6540 - root_mean_squared_error: 0.8591\n",
            "Epoch 87/100\n",
            "154/154 [==============================] - 0s 2ms/step - loss: 0.6496 - root_mean_squared_error: 0.8534\n",
            "Epoch 88/100\n",
            "154/154 [==============================] - 0s 2ms/step - loss: 0.6535 - root_mean_squared_error: 0.8569\n",
            "Epoch 89/100\n",
            "154/154 [==============================] - 0s 2ms/step - loss: 0.6540 - root_mean_squared_error: 0.8575\n",
            "Epoch 90/100\n",
            "154/154 [==============================] - 0s 2ms/step - loss: 0.6583 - root_mean_squared_error: 0.8626\n",
            "Epoch 91/100\n",
            "154/154 [==============================] - 0s 2ms/step - loss: 0.6446 - root_mean_squared_error: 0.8478\n",
            "Epoch 92/100\n",
            "154/154 [==============================] - 0s 2ms/step - loss: 0.6543 - root_mean_squared_error: 0.8587\n",
            "Epoch 93/100\n",
            "154/154 [==============================] - 0s 2ms/step - loss: 0.6478 - root_mean_squared_error: 0.8524\n",
            "Epoch 94/100\n",
            "154/154 [==============================] - 0s 2ms/step - loss: 0.6535 - root_mean_squared_error: 0.8570\n",
            "Epoch 95/100\n",
            "154/154 [==============================] - 0s 2ms/step - loss: 0.6438 - root_mean_squared_error: 0.8473\n",
            "Epoch 96/100\n",
            "154/154 [==============================] - 0s 2ms/step - loss: 0.6607 - root_mean_squared_error: 0.8674\n",
            "Epoch 97/100\n",
            "154/154 [==============================] - 0s 2ms/step - loss: 0.6530 - root_mean_squared_error: 0.8551\n",
            "Epoch 98/100\n",
            "154/154 [==============================] - 0s 2ms/step - loss: 0.6470 - root_mean_squared_error: 0.8509\n",
            "Epoch 99/100\n",
            "154/154 [==============================] - 0s 2ms/step - loss: 0.6430 - root_mean_squared_error: 0.8464\n",
            "Epoch 100/100\n",
            "154/154 [==============================] - 0s 2ms/step - loss: 0.6525 - root_mean_squared_error: 0.8565\n"
          ]
        },
        {
          "output_type": "execute_result",
          "data": {
            "text/plain": [
              "<keras.callbacks.History at 0x7f43f2465c40>"
            ]
          },
          "metadata": {},
          "execution_count": 49
        }
      ]
    },
    {
      "cell_type": "markdown",
      "source": [
        "Выполним прогнозирование значений зависимой переменной (отклика)"
      ],
      "metadata": {
        "id": "9YDeM4y1u0a_"
      }
    },
    {
      "cell_type": "code",
      "source": [
        "y_predict2 = model.predict(x_test[:,5])\n",
        "y_predict2[:5]"
      ],
      "metadata": {
        "id": "25kLcwJBres5",
        "outputId": "4e0fab16-8e36-4a0f-e78d-d22c91fb5c22",
        "colab": {
          "base_uri": "https://localhost:8080/",
          "height": 182
        }
      },
      "execution_count": 50,
      "outputs": [
        {
          "output_type": "error",
          "ename": "NameError",
          "evalue": "ignored",
          "traceback": [
            "\u001b[0;31m---------------------------------------------------------------------------\u001b[0m",
            "\u001b[0;31mNameError\u001b[0m                                 Traceback (most recent call last)",
            "\u001b[0;32m<ipython-input-50-f81365716da4>\u001b[0m in \u001b[0;36m<cell line: 1>\u001b[0;34m()\u001b[0m\n\u001b[0;32m----> 1\u001b[0;31m \u001b[0my_predict2\u001b[0m \u001b[0;34m=\u001b[0m \u001b[0mmodel\u001b[0m\u001b[0;34m.\u001b[0m\u001b[0mpredict\u001b[0m\u001b[0;34m(\u001b[0m\u001b[0mx_test\u001b[0m\u001b[0;34m[\u001b[0m\u001b[0;34m:\u001b[0m\u001b[0;34m,\u001b[0m\u001b[0;36m5\u001b[0m\u001b[0;34m]\u001b[0m\u001b[0;34m)\u001b[0m\u001b[0;34m\u001b[0m\u001b[0;34m\u001b[0m\u001b[0m\n\u001b[0m\u001b[1;32m      2\u001b[0m \u001b[0my_predict2\u001b[0m\u001b[0;34m[\u001b[0m\u001b[0;34m:\u001b[0m\u001b[0;36m5\u001b[0m\u001b[0;34m]\u001b[0m\u001b[0;34m\u001b[0m\u001b[0;34m\u001b[0m\u001b[0m\n",
            "\u001b[0;31mNameError\u001b[0m: name 'x_test' is not defined"
          ]
        }
      ]
    },
    {
      "cell_type": "code",
      "source": [
        "plt.figure(figsize=(12,8))\n",
        "plt.scatter(x, y)\n",
        "plt.scatter(x_test[:,5], y_test, c='c')\n",
        "plt.plot(x_test[:,5], y_predict, c='m', label='точная линия регрессии')\n",
        "plt.plot(x_test[:,5], y_predict2, c='r', label='линия регрессии (ANN)')\n",
        "plt.legend();"
      ],
      "metadata": {
        "id": "QWIf4X-vuyev"
      },
      "execution_count": null,
      "outputs": []
    },
    {
      "cell_type": "markdown",
      "source": [
        "1 - mse_test/np.var(y_test)\n",
        "коэффициент детерминации, по нему сравню модели"
      ],
      "metadata": {
        "id": "HiwxoAumuoML"
      }
    },
    {
      "cell_type": "code",
      "source": [],
      "metadata": {
        "id": "nJXJfNZIuoxw"
      },
      "execution_count": null,
      "outputs": []
    }
  ]
}